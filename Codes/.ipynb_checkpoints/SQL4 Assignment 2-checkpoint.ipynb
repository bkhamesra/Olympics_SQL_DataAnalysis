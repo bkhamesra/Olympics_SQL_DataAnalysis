{
 "cells": [
  {
   "cell_type": "markdown",
   "metadata": {},
   "source": [
    "# SQL Capstone Project"
   ]
  },
  {
   "cell_type": "markdown",
   "metadata": {},
   "source": [
    "In this notebook, I perform data analysis using to reach answers to some of the questions explained in first notebook - \n",
    "\n",
    "   1. Are female atheletes equally represented as males in different regions? \n",
    "   2. Does there exist a bias between player’s age and the sports?\n",
    "   3. Are all sports dominated by few countries or the distribution varies depending on the sports?\n",
    "\n",
    "Here are my initial hypothesis - \n",
    "\n",
    "1. The representation of males and females may be more fair in developed nations compared to developing nations, where opportunities are not equally available. \n",
    "2. Age distribution of players should not vary a lot between different type of sports. \n",
    "3. More developed nations would have higher dominance in majority of sports due to better infrastructure and opportunities provided to their players. \n"
   ]
  },
  {
   "cell_type": "code",
   "execution_count": 1,
   "metadata": {
    "collapsed": true
   },
   "outputs": [],
   "source": [
    "#import libraries\n",
    "import numpy as np\n",
    "import matplotlib.pyplot as plt\n",
    "import pandas as pd\n",
    "from pandasql import sqldf\n",
    "\n",
    "import matplotlib as mpl\n",
    "mpl.rc('lines', linewidth=2, color='r')\n",
    "mpl.rc('font', size=16)\n",
    "mpl.rc('axes', labelsize=16, grid=True)\n",
    "mpl.rc('xtick', labelsize=14)\n",
    "mpl.rc('ytick', labelsize=14)\n",
    "mpl.rc('legend', fontsize=14)\n"
   ]
  },
  {
   "cell_type": "markdown",
   "metadata": {},
   "source": [
    "# Dataset "
   ]
  },
  {
   "cell_type": "code",
   "execution_count": 121,
   "metadata": {},
   "outputs": [
    {
     "data": {
      "text/html": [
       "<div>\n",
       "<style scoped>\n",
       "    .dataframe tbody tr th:only-of-type {\n",
       "        vertical-align: middle;\n",
       "    }\n",
       "\n",
       "    .dataframe tbody tr th {\n",
       "        vertical-align: top;\n",
       "    }\n",
       "\n",
       "    .dataframe thead th {\n",
       "        text-align: right;\n",
       "    }\n",
       "</style>\n",
       "<table border=\"1\" class=\"dataframe\">\n",
       "  <thead>\n",
       "    <tr style=\"text-align: right;\">\n",
       "      <th></th>\n",
       "      <th>ID</th>\n",
       "      <th>Name</th>\n",
       "      <th>Sex</th>\n",
       "      <th>Age</th>\n",
       "      <th>Height</th>\n",
       "      <th>Weight</th>\n",
       "      <th>Team</th>\n",
       "      <th>NOC</th>\n",
       "      <th>Games</th>\n",
       "      <th>Year</th>\n",
       "      <th>Season</th>\n",
       "      <th>City</th>\n",
       "      <th>Sport</th>\n",
       "      <th>Event</th>\n",
       "      <th>Medal</th>\n",
       "      <th>Region</th>\n",
       "    </tr>\n",
       "  </thead>\n",
       "  <tbody>\n",
       "    <tr>\n",
       "      <th>0</th>\n",
       "      <td>332</td>\n",
       "      <td>Zarinah Abdullah</td>\n",
       "      <td>F</td>\n",
       "      <td>21.0</td>\n",
       "      <td>NaN</td>\n",
       "      <td>NaN</td>\n",
       "      <td>Singapore</td>\n",
       "      <td>SGP</td>\n",
       "      <td>1992 Summer</td>\n",
       "      <td>1992</td>\n",
       "      <td>Summer</td>\n",
       "      <td>Barcelona</td>\n",
       "      <td>Badminton</td>\n",
       "      <td>Badminton Women's Singles</td>\n",
       "      <td>None</td>\n",
       "      <td>None</td>\n",
       "    </tr>\n",
       "    <tr>\n",
       "      <th>1</th>\n",
       "      <td>332</td>\n",
       "      <td>Zarinah Abdullah</td>\n",
       "      <td>F</td>\n",
       "      <td>25.0</td>\n",
       "      <td>NaN</td>\n",
       "      <td>NaN</td>\n",
       "      <td>Singapore</td>\n",
       "      <td>SGP</td>\n",
       "      <td>1996 Summer</td>\n",
       "      <td>1996</td>\n",
       "      <td>Summer</td>\n",
       "      <td>Atlanta</td>\n",
       "      <td>Badminton</td>\n",
       "      <td>Badminton Women's Singles</td>\n",
       "      <td>None</td>\n",
       "      <td>None</td>\n",
       "    </tr>\n",
       "    <tr>\n",
       "      <th>2</th>\n",
       "      <td>1515</td>\n",
       "      <td>Saiyidah Aisyah Mohamed Rafa'ee</td>\n",
       "      <td>F</td>\n",
       "      <td>28.0</td>\n",
       "      <td>173.0</td>\n",
       "      <td>68.0</td>\n",
       "      <td>Singapore</td>\n",
       "      <td>SGP</td>\n",
       "      <td>2016 Summer</td>\n",
       "      <td>2016</td>\n",
       "      <td>Summer</td>\n",
       "      <td>Rio de Janeiro</td>\n",
       "      <td>Rowing</td>\n",
       "      <td>Rowing Women's Single Sculls</td>\n",
       "      <td>None</td>\n",
       "      <td>None</td>\n",
       "    </tr>\n",
       "    <tr>\n",
       "      <th>3</th>\n",
       "      <td>4264</td>\n",
       "      <td>Ang Peng Siong</td>\n",
       "      <td>M</td>\n",
       "      <td>21.0</td>\n",
       "      <td>180.0</td>\n",
       "      <td>75.0</td>\n",
       "      <td>Singapore</td>\n",
       "      <td>SGP</td>\n",
       "      <td>1984 Summer</td>\n",
       "      <td>1984</td>\n",
       "      <td>Summer</td>\n",
       "      <td>Los Angeles</td>\n",
       "      <td>Swimming</td>\n",
       "      <td>Swimming Men's 100 metres Freestyle</td>\n",
       "      <td>None</td>\n",
       "      <td>None</td>\n",
       "    </tr>\n",
       "    <tr>\n",
       "      <th>4</th>\n",
       "      <td>4264</td>\n",
       "      <td>Ang Peng Siong</td>\n",
       "      <td>M</td>\n",
       "      <td>21.0</td>\n",
       "      <td>180.0</td>\n",
       "      <td>75.0</td>\n",
       "      <td>Singapore</td>\n",
       "      <td>SGP</td>\n",
       "      <td>1984 Summer</td>\n",
       "      <td>1984</td>\n",
       "      <td>Summer</td>\n",
       "      <td>Los Angeles</td>\n",
       "      <td>Swimming</td>\n",
       "      <td>Swimming Men's 4 x 100 metres Freestyle Relay</td>\n",
       "      <td>None</td>\n",
       "      <td>None</td>\n",
       "    </tr>\n",
       "    <tr>\n",
       "      <th>5</th>\n",
       "      <td>4264</td>\n",
       "      <td>Ang Peng Siong</td>\n",
       "      <td>M</td>\n",
       "      <td>21.0</td>\n",
       "      <td>180.0</td>\n",
       "      <td>75.0</td>\n",
       "      <td>Singapore</td>\n",
       "      <td>SGP</td>\n",
       "      <td>1984 Summer</td>\n",
       "      <td>1984</td>\n",
       "      <td>Summer</td>\n",
       "      <td>Los Angeles</td>\n",
       "      <td>Swimming</td>\n",
       "      <td>Swimming Men's 100 metres Butterfly</td>\n",
       "      <td>None</td>\n",
       "      <td>None</td>\n",
       "    </tr>\n",
       "    <tr>\n",
       "      <th>6</th>\n",
       "      <td>4264</td>\n",
       "      <td>Ang Peng Siong</td>\n",
       "      <td>M</td>\n",
       "      <td>21.0</td>\n",
       "      <td>180.0</td>\n",
       "      <td>75.0</td>\n",
       "      <td>Singapore</td>\n",
       "      <td>SGP</td>\n",
       "      <td>1984 Summer</td>\n",
       "      <td>1984</td>\n",
       "      <td>Summer</td>\n",
       "      <td>Los Angeles</td>\n",
       "      <td>Swimming</td>\n",
       "      <td>Swimming Men's 4 x 100 metres Medley Relay</td>\n",
       "      <td>None</td>\n",
       "      <td>None</td>\n",
       "    </tr>\n",
       "    <tr>\n",
       "      <th>7</th>\n",
       "      <td>4264</td>\n",
       "      <td>Ang Peng Siong</td>\n",
       "      <td>M</td>\n",
       "      <td>25.0</td>\n",
       "      <td>180.0</td>\n",
       "      <td>75.0</td>\n",
       "      <td>Singapore</td>\n",
       "      <td>SGP</td>\n",
       "      <td>1988 Summer</td>\n",
       "      <td>1988</td>\n",
       "      <td>Summer</td>\n",
       "      <td>Seoul</td>\n",
       "      <td>Swimming</td>\n",
       "      <td>Swimming Men's 50 metres Freestyle</td>\n",
       "      <td>None</td>\n",
       "      <td>None</td>\n",
       "    </tr>\n",
       "    <tr>\n",
       "      <th>8</th>\n",
       "      <td>4264</td>\n",
       "      <td>Ang Peng Siong</td>\n",
       "      <td>M</td>\n",
       "      <td>25.0</td>\n",
       "      <td>180.0</td>\n",
       "      <td>75.0</td>\n",
       "      <td>Singapore</td>\n",
       "      <td>SGP</td>\n",
       "      <td>1988 Summer</td>\n",
       "      <td>1988</td>\n",
       "      <td>Summer</td>\n",
       "      <td>Seoul</td>\n",
       "      <td>Swimming</td>\n",
       "      <td>Swimming Men's 100 metres Freestyle</td>\n",
       "      <td>None</td>\n",
       "      <td>None</td>\n",
       "    </tr>\n",
       "    <tr>\n",
       "      <th>9</th>\n",
       "      <td>4264</td>\n",
       "      <td>Ang Peng Siong</td>\n",
       "      <td>M</td>\n",
       "      <td>25.0</td>\n",
       "      <td>180.0</td>\n",
       "      <td>75.0</td>\n",
       "      <td>Singapore</td>\n",
       "      <td>SGP</td>\n",
       "      <td>1988 Summer</td>\n",
       "      <td>1988</td>\n",
       "      <td>Summer</td>\n",
       "      <td>Seoul</td>\n",
       "      <td>Swimming</td>\n",
       "      <td>Swimming Men's 4 x 100 metres Freestyle Relay</td>\n",
       "      <td>None</td>\n",
       "      <td>None</td>\n",
       "    </tr>\n",
       "  </tbody>\n",
       "</table>\n",
       "</div>"
      ],
      "text/plain": [
       "     ID                             Name Sex   Age  Height  Weight       Team  \\\n",
       "0   332                 Zarinah Abdullah   F  21.0     NaN     NaN  Singapore   \n",
       "1   332                 Zarinah Abdullah   F  25.0     NaN     NaN  Singapore   \n",
       "2  1515  Saiyidah Aisyah Mohamed Rafa'ee   F  28.0   173.0    68.0  Singapore   \n",
       "3  4264                   Ang Peng Siong   M  21.0   180.0    75.0  Singapore   \n",
       "4  4264                   Ang Peng Siong   M  21.0   180.0    75.0  Singapore   \n",
       "5  4264                   Ang Peng Siong   M  21.0   180.0    75.0  Singapore   \n",
       "6  4264                   Ang Peng Siong   M  21.0   180.0    75.0  Singapore   \n",
       "7  4264                   Ang Peng Siong   M  25.0   180.0    75.0  Singapore   \n",
       "8  4264                   Ang Peng Siong   M  25.0   180.0    75.0  Singapore   \n",
       "9  4264                   Ang Peng Siong   M  25.0   180.0    75.0  Singapore   \n",
       "\n",
       "   NOC        Games  Year  Season            City      Sport  \\\n",
       "0  SGP  1992 Summer  1992  Summer       Barcelona  Badminton   \n",
       "1  SGP  1996 Summer  1996  Summer         Atlanta  Badminton   \n",
       "2  SGP  2016 Summer  2016  Summer  Rio de Janeiro     Rowing   \n",
       "3  SGP  1984 Summer  1984  Summer     Los Angeles   Swimming   \n",
       "4  SGP  1984 Summer  1984  Summer     Los Angeles   Swimming   \n",
       "5  SGP  1984 Summer  1984  Summer     Los Angeles   Swimming   \n",
       "6  SGP  1984 Summer  1984  Summer     Los Angeles   Swimming   \n",
       "7  SGP  1988 Summer  1988  Summer           Seoul   Swimming   \n",
       "8  SGP  1988 Summer  1988  Summer           Seoul   Swimming   \n",
       "9  SGP  1988 Summer  1988  Summer           Seoul   Swimming   \n",
       "\n",
       "                                           Event Medal Region  \n",
       "0                      Badminton Women's Singles  None   None  \n",
       "1                      Badminton Women's Singles  None   None  \n",
       "2                   Rowing Women's Single Sculls  None   None  \n",
       "3            Swimming Men's 100 metres Freestyle  None   None  \n",
       "4  Swimming Men's 4 x 100 metres Freestyle Relay  None   None  \n",
       "5            Swimming Men's 100 metres Butterfly  None   None  \n",
       "6     Swimming Men's 4 x 100 metres Medley Relay  None   None  \n",
       "7             Swimming Men's 50 metres Freestyle  None   None  \n",
       "8            Swimming Men's 100 metres Freestyle  None   None  \n",
       "9  Swimming Men's 4 x 100 metres Freestyle Relay  None   None  "
      ]
     },
     "execution_count": 121,
     "metadata": {},
     "output_type": "execute_result"
    }
   ],
   "source": [
    "# Import the data using pandas\n",
    "\n",
    "athlete_events = pd.read_csv('../Dataset/athlete_events.csv')\n",
    "noc_data = pd.read_csv('../Dataset/noc_regions.csv')\n",
    "\n",
    "\n",
    "#Combine the datasets\n",
    "pysqldf = lambda q:sqldf(q, globals())\n",
    "player_stats = pysqldf('SELECT ath.*, noc.region AS Region\\\n",
    "                        FROM athlete_events AS ath \\\n",
    "                        LEFT OUTER JOIN noc_data AS noc \\\n",
    "                        ON ath.NOC=noc.NOC \\\n",
    "                        ORDER BY noc.NOC')\n",
    "    \n",
    "player_stats.head(10)"
   ]
  },
  {
   "cell_type": "markdown",
   "metadata": {},
   "source": [
    "## Gender Disparity \n",
    "\n",
    "To understand the gender disparity in Olympics, let's start by checking total number of male and female players who have participated in olympics. This will be followed by looking at the regional distribution of male and female players in every region over all the years. \n",
    "\n",
    "Let M be number of male players and F be number of female players. Then, for any region A, we define gender disparity as \n",
    "\n",
    " $$Disparity = M - F$$\n",
    " $$Disparity (\\%) = (M - F)/(M + F) * 100.$$\n",
    " \n",
    "Let's first look at total male vs female players during the entire Olympics\n",
    "\n"
   ]
  },
  {
   "cell_type": "code",
   "execution_count": 125,
   "metadata": {},
   "outputs": [
    {
     "name": "stdout",
     "output_type": "stream",
     "text": [
      "  Sex  COUNT(DISTINCT ID)\n",
      "0   F               33981\n",
      "1   M              101590\n",
      "Male Players = 101590, Female Players = 33981, % disparity = 50\n"
     ]
    }
   ],
   "source": [
    "\n",
    "#SQL\n",
    "male_female_num = pysqldf(\"SELECT Sex, COUNT(DISTINCT ID) FROM player_stats GROUP BY Sex\")\n",
    "print(male_female_num.head(30))\n",
    "    \n",
    "#Pandas\n",
    "total_players = np.size(player_stats.ID.unique())\n",
    "male_players  = np.size(player_stats[player_stats.Sex=='M'].ID.unique())\n",
    "female_players  = np.size(player_stats[player_stats.Sex=='F'].ID.unique())\n",
    "male_players_ID = player_stats[player_stats.Sex=='M'].ID.unique()\n",
    "assert total_players == male_players+female_players, \"Total players !=male players + female players. Please check your query.\"\n",
    "\n",
    "print(\"Male Players = {}, Female Players = {}, % disparity = {:0.2g}\".format(male_players, female_players, (male_players-female_players)/total_players*100.))\n",
    "\n",
    "    \n"
   ]
  },
  {
   "cell_type": "markdown",
   "metadata": {},
   "source": [
    "Such differences can arise due to various reasons mostly specific to individual countries and their policities. To get the better understanding of the cause, let's take a look at regional disparity in the world. "
   ]
  },
  {
   "cell_type": "code",
   "execution_count": 142,
   "metadata": {},
   "outputs": [
    {
     "name": "stdout",
     "output_type": "stream",
     "text": [
      "Total countriess with disparity > 75.0 = 23\n"
     ]
    },
    {
     "data": {
      "image/png": "[encoded data removed]",
      "text/plain": [
       "<Figure size 864x864 with 2 Axes>"
      ]
     },
     "metadata": {
      "needs_background": "light"
     },
     "output_type": "display_data"
    }
   ],
   "source": [
    "#Query total players from different regions based on their sex - Include datapoints for all the years\n",
    "\n",
    "male_reg_stats = pysqldf(\"SELECT Region, COUNT(DISTINCT ID) AS NumMalePlayers \\\n",
    "                        FROM player_stats \\\n",
    "                        WHERE NOT(Region ISNULL) AND SEX='M'\\\n",
    "                        GROUP BY Region \")\n",
    "\n",
    "\n",
    "female_reg_stats = pysqldf(\"SELECT Region, COUNT(DISTINCT ID) AS NumFemalePlayers \\\n",
    "                        FROM player_stats \\\n",
    "                        WHERE NOT(Region ISNULL) AND SEX='F'\\\n",
    "                        GROUP BY Sex, Region \")\n",
    "\n",
    "\n",
    "mf_reg_stats = pysqldf(\"SELECT ml.Region AS Region, ml.NumMalePlayers AS NumMalePlayers, \\\n",
    "                        fm.NumFemalePlayers AS NuMFemalePlayers, \\\n",
    "                        (ml.NumMalePlayers - fm.NumFemalePlayers) AS Disparity,\\\n",
    "                        (ml.NumMalePlayers - fm.NumFemalePlayers)*100/(ml.NumMalePlayers + fm.NumFemalePlayers) AS Disparity_pct\\\n",
    "                        FROM male_reg_stats AS ml LEFT JOIN female_reg_stats AS fm\\\n",
    "                        ON ml.Region=fm.Region\\\n",
    "                        ORDER BY  Region \")\n",
    "\n",
    "\n",
    "#Look at countries where more than 75% of players are males (can be changed here)\n",
    "disparity_pct_cutoff = 75.0\n",
    "print(\"Total countriess with disparity > {} = {}\".format(disparity_pct_cutoff,mf_reg_stats[mf_reg_stats.Disparity_pct>disparity_pct_cutoff].Region.unique().size ))\n",
    "fig, (ax1, ax2) = plt.subplots(2,1, figsize=(12,12), sharex=True)\n",
    "\n",
    "ax1.scatter(mf_reg_stats[mf_reg_stats.Disparity_pct>disparity_pct_cutoff].Region,\\\n",
    "            mf_reg_stats[mf_reg_stats.Disparity_pct>disparity_pct_cutoff].Disparity, marker='x')\n",
    "#ax1.set_xlabel('Region')\n",
    "ax1.set_ylabel('#Males - #Females')\n",
    "ax1.tick_params(labelrotation=90)\n",
    "ax1.ticklabel_format(axis=\"y\", style=\"sci\", scilimits=(0,0))\n",
    "\n",
    "ax2.scatter(mf_reg_stats[mf_reg_stats.Disparity_pct>disparity_pct_cutoff].Region,\\\n",
    "            mf_reg_stats[mf_reg_stats.Disparity_pct>disparity_pct_cutoff].Disparity_pct, marker='x')\n",
    "ax2.set_xlabel('Region')\n",
    "ax2.set_ylabel('% Difference')\n",
    "ax2.tick_params(labelrotation=90)\n",
    "\n",
    "plt.tight_layout()\n",
    "plt.show()\n",
    "plt.close()\n"
   ]
  },
  {
   "cell_type": "markdown",
   "metadata": {},
   "source": [
    "** Analysis ** - From the plot above, we see that the gender inequality in sports is significant across the world with 23 countries having gender disparity > 75%. As our initial hypothesis, most of these countries are developing nations, which have been known to have restrictive laws towards woman rights and freedom compared to developed nations. \n",
    "\n",
    "Let's see how this looks on a world map to get a better picture of disparity distribution across the world. This would make it easier to relate with development index, gender inequality and population dynamics etc. "
   ]
  },
  {
   "cell_type": "code",
   "execution_count": 236,
   "metadata": {},
   "outputs": [
    {
     "name": "stdout",
     "output_type": "stream",
     "text": [
      "Following country names not found in the '2014_world_gdp_with_codes' dataset\n",
      "Boliva \n",
      "Cape Verde \n",
      "Democratic Republic of the Congo \n",
      "Individual Olympic Athletes \n",
      "Ivory Coast \n",
      "Myanmar \n",
      "Nauru \n",
      "North Korea \n",
      "Palestine \n",
      "Republic of Congo \n",
      "South Korea \n",
      "UK \n",
      "USA \n",
      "Virgin Islands, British \n",
      "Virgin Islands, US \n"
     ]
    }
   ],
   "source": [
    "import plotly\n",
    "import chart_studio.plotly as py\n",
    "import plotly.express as px\n",
    "import plotly.graph_objects as go\n",
    "\n",
    "\n",
    "mapdata =  pd.read_csv('https://raw.githubusercontent.com/plotly/datasets/master/2014_world_gdp_with_codes.csv')\n",
    "\n",
    "#Let us check if there are any missing countries/ mismatching data\n",
    "#print(mapdata.COUNTRY.unique())\n",
    "print(\"Following country names not found in the \\'2014_world_gdp_with_codes\\' dataset\")\n",
    "for region in mf_reg_stats.Region.unique():\n",
    "    country_found=False\n",
    "    for country in mapdata.COUNTRY.unique():\n",
    "        if region in country:\n",
    "            country_found=True\n",
    "            \n",
    "    if country_found==False:\n",
    "        print(\"{} \".format(region))\n",
    "            \n"
   ]
  },
  {
   "cell_type": "markdown",
   "metadata": {},
   "source": [
    "A quick look in the dataset shows that most of these regions have slightly different names. Let's modify out database to correct for these regions. "
   ]
  },
  {
   "cell_type": "code",
   "execution_count": 234,
   "metadata": {},
   "outputs": [],
   "source": [
    "mf_reg_stats_corrected = pysqldf(\"SELECT *, \\\n",
    "                                 (CASE WHEN Region='Boliva' THEN 'Bolivia'\\\n",
    "                                      WHEN Region='Cape Verde' THEN 'Cabo Verde'\\\n",
    "                                      WHEN Region='Democratic Republic of the Congo' THEN 'Congo, Democratic Republic of the'\\\n",
    "                                      WHEN Region='Ivory Coast' THEN 'Cote d''Ivoire'\\\n",
    "                                      WHEN Region='Myanmar' THEN 'Burma'\\\n",
    "                                      WHEN Region='North Korea' THEN 'Korea, North'\\\n",
    "                                      WHEN Region='Republic of Congo' THEN 'Congo, Republic of the'\\\n",
    "                                      WHEN Region='South Korea' THEN 'Korea, South' \\\n",
    "                                      WHEN Region='UK' THEN 'United Kingdom'\\\n",
    "                                      WHEN Region='USA' THEN 'United States'\\\n",
    "                                      WHEN Region='Virgin Islands, British' THEN 'British Virgin Islands'\\\n",
    "                                      WHEN Region='Virgin Islands, US' THEN 'Virgin Islands' \\\n",
    "                                      ELSE Region END) AS Country\\\n",
    "                                 FROM mf_reg_stats \")\n",
    "\n",
    "#print(sorted(mf_reg_stats_corrected.Country.unique()))"
   ]
  },
  {
   "cell_type": "code",
   "execution_count": 245,
   "metadata": {},
   "outputs": [
    {
     "data": {
      "application/vnd.plotly.v1+json": {
       "config": {
        "plotlyServerURL": "https://plot.ly"
       },
       "data": [
        {
         "autocolorscale": false,
         "colorbar": {
          "ticksuffix": "%",
          "title": {
           "text": "Disparity(%)<br>"
          }
         },
         "colorscale": [
          [
           0,
           "rgb(247,251,255)"
          ],
          [
           0.125,
           "rgb(222,235,247)"
          ],
          [
           0.25,
           "rgb(198,219,239)"
          ],
          [
           0.375,
           "rgb(158,202,225)"
          ],
          [
           0.5,
           "rgb(107,174,214)"
          ],
          [
           0.625,
           "rgb(66,146,198)"
          ],
          [
           0.75,
           "rgb(33,113,181)"
          ],
          [
           0.875,
           "rgb(8,81,156)"
          ],
          [
           1,
           "rgb(8,48,107)"
          ]
         ],
         "locations": [
          "AFG",
          "ALB",
          "DZA",
          "ASM",
          "AND",
          "AGO",
          "AIA",
          "ATG",
          "ARG",
          "ARM",
          "ABW",
          "AUS",
          "AUT",
          "AZE",
          "BHM",
          "BHR",
          "BGD",
          "BRB",
          "BLR",
          "BEL",
          "BLZ",
          "BEN",
          "BMU",
          "BTN",
          "BOL",
          "BIH",
          "BWA",
          "BRA",
          "VGB",
          "BRN",
          "BGR",
          "BFA",
          "MMR",
          "BDI",
          "CPV",
          "KHM",
          "CMR",
          "CAN",
          "CYM",
          "CAF",
          "TCD",
          "CHL",
          "CHN",
          "COL",
          "COM",
          "COD",
          "COG",
          "COK",
          "CRI",
          "CIV",
          "HRV",
          "CUB",
          "CUW",
          "CYP",
          "CZE",
          "DNK",
          "DJI",
          "DMA",
          "DOM",
          "ECU",
          "EGY",
          "SLV",
          "GNQ",
          "ERI",
          "EST",
          "ETH",
          "FLK",
          "FRO",
          "FJI",
          "FIN",
          "FRA",
          "PYF",
          "GAB",
          "GMB",
          "GEO",
          "DEU",
          "GHA",
          "GIB",
          "GRC",
          "GRL",
          "GRD",
          "GUM",
          "GTM",
          "GGY",
          "GNB",
          "GIN",
          "GUY",
          "HTI",
          "HND",
          "HKG",
          "HUN",
          "ISL",
          "IND",
          "IDN",
          "IRN",
          "IRQ",
          "IRL",
          "IMN",
          "ISR",
          "ITA",
          "JAM",
          "JPN",
          "JEY",
          "JOR",
          "KAZ",
          "KEN",
          "KIR",
          "PRK",
          "KOR",
          "KSV",
          "KWT",
          "KGZ",
          "LAO",
          "LVA",
          "LBN",
          "LSO",
          "LBR",
          "LBY",
          "LIE",
          "LTU",
          "LUX",
          "MAC",
          "MKD",
          "MDG",
          "MWI",
          "MYS",
          "MDV",
          "MLI",
          "MLT",
          "MHL",
          "MRT",
          "MUS",
          "MEX",
          "FSM",
          "MDA",
          "MCO",
          "MNG",
          "MNE",
          "MAR",
          "MOZ",
          "NAM",
          "NPL",
          "NLD",
          "NCL",
          "NZL",
          "NIC",
          "NGA",
          "NER",
          "NIU",
          "MNP",
          "NOR",
          "OMN",
          "PAK",
          "PLW",
          "PAN",
          "PNG",
          "PRY",
          "PER",
          "PHL",
          "POL",
          "PRT",
          "PRI",
          "QAT",
          "ROU",
          "RUS",
          "RWA",
          "KNA",
          "LCA",
          "MAF",
          "SPM",
          "VCT",
          "WSM",
          "SMR",
          "STP",
          "SAU",
          "SEN",
          "SRB",
          "SYC",
          "SLE",
          "SGP",
          "SXM",
          "SVK",
          "SVN",
          "SLB",
          "SOM",
          "ZAF",
          "SSD",
          "ESP",
          "LKA",
          "SDN",
          "SUR",
          "SWZ",
          "SWE",
          "CHE",
          "SYR",
          "TWN",
          "TJK",
          "TZA",
          "THA",
          "TLS",
          "TGO",
          "TON",
          "TTO",
          "TUN",
          "TUR",
          "TKM",
          "TUV",
          "UGA",
          "UKR",
          "ARE",
          "GBR",
          "USA",
          "URY",
          "UZB",
          "VUT",
          "VEN",
          "VNM",
          "VGB",
          "WBG",
          "YEM",
          "ZMB",
          "ZWE"
         ],
         "marker": {
          "line": {
           "color": "darkgray",
           "width": 0.5
          }
         },
         "reversescale": true,
         "text": [
          "Afghanistan",
          "Albania",
          "Algeria",
          "American Samoa",
          "Andorra",
          "Angola",
          "Anguilla",
          "Antigua and Barbuda",
          "Argentina",
          "Armenia",
          "Aruba",
          "Australia",
          "Austria",
          "Azerbaijan",
          "Bahamas, The",
          "Bahrain",
          "Bangladesh",
          "Barbados",
          "Belarus",
          "Belgium",
          "Belize",
          "Benin",
          "Bermuda",
          "Bhutan",
          "Bolivia",
          "Bosnia and Herzegovina",
          "Botswana",
          "Brazil",
          "British Virgin Islands",
          "Brunei",
          "Bulgaria",
          "Burkina Faso",
          "Burma",
          "Burundi",
          "Cabo Verde",
          "Cambodia",
          "Cameroon",
          "Canada",
          "Cayman Islands",
          "Central African Republic",
          "Chad",
          "Chile",
          "China",
          "Colombia",
          "Comoros",
          "Congo, Democratic Republic of the",
          "Congo, Republic of the",
          "Cook Islands",
          "Costa Rica",
          "Cote d'Ivoire",
          "Croatia",
          "Cuba",
          "Curacao",
          "Cyprus",
          "Czech Republic",
          "Denmark",
          "Djibouti",
          "Dominica",
          "Dominican Republic",
          "Ecuador",
          "Egypt",
          "El Salvador",
          "Equatorial Guinea",
          "Eritrea",
          "Estonia",
          "Ethiopia",
          "Falkland Islands (Islas Malvinas)",
          "Faroe Islands",
          "Fiji",
          "Finland",
          "France",
          "French Polynesia",
          "Gabon",
          "Gambia, The",
          "Georgia",
          "Germany",
          "Ghana",
          "Gibraltar",
          "Greece",
          "Greenland",
          "Grenada",
          "Guam",
          "Guatemala",
          "Guernsey",
          "Guinea-Bissau",
          "Guinea",
          "Guyana",
          "Haiti",
          "Honduras",
          "Hong Kong",
          "Hungary",
          "Iceland",
          "India",
          "Indonesia",
          "Iran",
          "Iraq",
          "Ireland",
          "Isle of Man",
          "Israel",
          "Italy",
          "Jamaica",
          "Japan",
          "Jersey",
          "Jordan",
          "Kazakhstan",
          "Kenya",
          "Kiribati",
          "Korea, North",
          "Korea, South",
          "Kosovo",
          "Kuwait",
          "Kyrgyzstan",
          "Laos",
          "Latvia",
          "Lebanon",
          "Lesotho",
          "Liberia",
          "Libya",
          "Liechtenstein",
          "Lithuania",
          "Luxembourg",
          "Macau",
          "Macedonia",
          "Madagascar",
          "Malawi",
          "Malaysia",
          "Maldives",
          "Mali",
          "Malta",
          "Marshall Islands",
          "Mauritania",
          "Mauritius",
          "Mexico",
          "Micronesia, Federated States of",
          "Moldova",
          "Monaco",
          "Mongolia",
          "Montenegro",
          "Morocco",
          "Mozambique",
          "Namibia",
          "Nepal",
          "Netherlands",
          "New Caledonia",
          "New Zealand",
          "Nicaragua",
          "Nigeria",
          "Niger",
          "Niue",
          "Northern Mariana Islands",
          "Norway",
          "Oman",
          "Pakistan",
          "Palau",
          "Panama",
          "Papua New Guinea",
          "Paraguay",
          "Peru",
          "Philippines",
          "Poland",
          "Portugal",
          "Puerto Rico",
          "Qatar",
          "Romania",
          "Russia",
          "Rwanda",
          "Saint Kitts and Nevis",
          "Saint Lucia",
          "Saint Martin",
          "Saint Pierre and Miquelon",
          "Saint Vincent and the Grenadines",
          "Samoa",
          "San Marino",
          "Sao Tome and Principe",
          "Saudi Arabia",
          "Senegal",
          "Serbia",
          "Seychelles",
          "Sierra Leone",
          "Singapore",
          "Sint Maarten",
          "Slovakia",
          "Slovenia",
          "Solomon Islands",
          "Somalia",
          "South Africa",
          "South Sudan",
          "Spain",
          "Sri Lanka",
          "Sudan",
          "Suriname",
          "Swaziland",
          "Sweden",
          "Switzerland",
          "Syria",
          "Taiwan",
          "Tajikistan",
          "Tanzania",
          "Thailand",
          "Timor-Leste",
          "Togo",
          "Tonga",
          "Trinidad and Tobago",
          "Tunisia",
          "Turkey",
          "Turkmenistan",
          "Tuvalu",
          "Uganda",
          "Ukraine",
          "United Arab Emirates",
          "United Kingdom",
          "United States",
          "Uruguay",
          "Uzbekistan",
          "Vanuatu",
          "Venezuela",
          "Vietnam",
          "Virgin Islands",
          "West Bank",
          "Yemen",
          "Zambia",
          "Zimbabwe"
         ],
         "type": "choropleth",
         "z": [
          92,
          28,
          70,
          65,
          40,
          7,
          0,
          0,
          66,
          61,
          31,
          33,
          56,
          50,
          0,
          46,
          47,
          63,
          12,
          72,
          73,
          66,
          61,
          -23,
          57,
          39,
          83,
          44,
          78,
          55,
          46,
          37,
          55,
          36,
          7,
          51,
          42,
          33,
          64,
          48,
          62,
          78,
          -1,
          50,
          6,
          39,
          21,
          33,
          65,
          35,
          46,
          52,
          63,
          40,
          57,
          62,
          64,
          17,
          52,
          48,
          78,
          55,
          38,
          76,
          55,
          50,
          0,
          0,
          43,
          68,
          62,
          0,
          62,
          0,
          60,
          44,
          74,
          0,
          56,
          0,
          36,
          36,
          72,
          0,
          6,
          53,
          65,
          55,
          71,
          0,
          54,
          64,
          66,
          36,
          88,
          93,
          61,
          0,
          40,
          58,
          27,
          37,
          0,
          40,
          22,
          54,
          33,
          0,
          30,
          -25,
          96,
          51,
          65,
          55,
          75,
          56,
          61,
          76,
          66,
          46,
          80,
          0,
          19,
          34,
          59,
          67,
          41,
          38,
          58,
          0,
          54,
          25,
          60,
          0,
          51,
          92,
          56,
          12,
          74,
          50,
          45,
          40,
          41,
          0,
          32,
          66,
          38,
          52,
          0,
          0,
          61,
          80,
          93,
          -4,
          53,
          54,
          67,
          46,
          74,
          53,
          68,
          65,
          92,
          38,
          35,
          35,
          0,
          4,
          0,
          0,
          0,
          66,
          71,
          23,
          94,
          55,
          68,
          53,
          58,
          0,
          0,
          40,
          35,
          40,
          54,
          50,
          33,
          49,
          50,
          80,
          51,
          66,
          60,
          62,
          88,
          31,
          46,
          81,
          47,
          -25,
          61,
          68,
          0,
          71,
          61,
          12,
          0,
          68,
          8,
          82,
          50,
          45,
          84,
          46,
          36,
          57,
          30,
          69,
          0,
          81,
          82,
          28
         ]
        }
       ],
       "layout": {
        "geo": {
         "projection": {
          "type": "equirectangular"
         },
         "showcoastlines": false,
         "showframe": false
        },
        "template": {
         "data": {
          "bar": [
           {
            "error_x": {
             "color": "#2a3f5f"
            },
            "error_y": {
             "color": "#2a3f5f"
            },
            "marker": {
             "line": {
              "color": "#E5ECF6",
              "width": 0.5
             }
            },
            "type": "bar"
           }
          ],
          "barpolar": [
           {
            "marker": {
             "line": {
              "color": "#E5ECF6",
              "width": 0.5
             }
            },
            "type": "barpolar"
           }
          ],
          "carpet": [
           {
            "aaxis": {
             "endlinecolor": "#2a3f5f",
             "gridcolor": "white",
             "linecolor": "white",
             "minorgridcolor": "white",
             "startlinecolor": "#2a3f5f"
            },
            "baxis": {
             "endlinecolor": "#2a3f5f",
             "gridcolor": "white",
             "linecolor": "white",
             "minorgridcolor": "white",
             "startlinecolor": "#2a3f5f"
            },
            "type": "carpet"
           }
          ],
          "choropleth": [
           {
            "colorbar": {
             "outlinewidth": 0,
             "ticks": ""
            },
            "type": "choropleth"
           }
          ],
          "contour": [
           {
            "colorbar": {
             "outlinewidth": 0,
             "ticks": ""
            },
            "colorscale": [
             [
              0,
              "#0d0887"
             ],
             [
              0.1111111111111111,
              "#46039f"
             ],
             [
              0.2222222222222222,
              "#7201a8"
             ],
             [
              0.3333333333333333,
              "#9c179e"
             ],
             [
              0.4444444444444444,
              "#bd3786"
             ],
             [
              0.5555555555555556,
              "#d8576b"
             ],
             [
              0.6666666666666666,
              "#ed7953"
             ],
             [
              0.7777777777777778,
              "#fb9f3a"
             ],
             [
              0.8888888888888888,
              "#fdca26"
             ],
             [
              1,
              "#f0f921"
             ]
            ],
            "type": "contour"
           }
          ],
          "contourcarpet": [
           {
            "colorbar": {
             "outlinewidth": 0,
             "ticks": ""
            },
            "type": "contourcarpet"
           }
          ],
          "heatmap": [
           {
            "colorbar": {
             "outlinewidth": 0,
             "ticks": ""
            },
            "colorscale": [
             [
              0,
              "#0d0887"
             ],
             [
              0.1111111111111111,
              "#46039f"
             ],
             [
              0.2222222222222222,
              "#7201a8"
             ],
             [
              0.3333333333333333,
              "#9c179e"
             ],
             [
              0.4444444444444444,
              "#bd3786"
             ],
             [
              0.5555555555555556,
              "#d8576b"
             ],
             [
              0.6666666666666666,
              "#ed7953"
             ],
             [
              0.7777777777777778,
              "#fb9f3a"
             ],
             [
              0.8888888888888888,
              "#fdca26"
             ],
             [
              1,
              "#f0f921"
             ]
            ],
            "type": "heatmap"
           }
          ],
          "heatmapgl": [
           {
            "colorbar": {
             "outlinewidth": 0,
             "ticks": ""
            },
            "colorscale": [
             [
              0,
              "#0d0887"
             ],
             [
              0.1111111111111111,
              "#46039f"
             ],
             [
              0.2222222222222222,
              "#7201a8"
             ],
             [
              0.3333333333333333,
              "#9c179e"
             ],
             [
              0.4444444444444444,
              "#bd3786"
             ],
             [
              0.5555555555555556,
              "#d8576b"
             ],
             [
              0.6666666666666666,
              "#ed7953"
             ],
             [
              0.7777777777777778,
              "#fb9f3a"
             ],
             [
              0.8888888888888888,
              "#fdca26"
             ],
             [
              1,
              "#f0f921"
             ]
            ],
            "type": "heatmapgl"
           }
          ],
          "histogram": [
           {
            "marker": {
             "colorbar": {
              "outlinewidth": 0,
              "ticks": ""
             }
            },
            "type": "histogram"
           }
          ],
          "histogram2d": [
           {
            "colorbar": {
             "outlinewidth": 0,
             "ticks": ""
            },
            "colorscale": [
             [
              0,
              "#0d0887"
             ],
             [
              0.1111111111111111,
              "#46039f"
             ],
             [
              0.2222222222222222,
              "#7201a8"
             ],
             [
              0.3333333333333333,
              "#9c179e"
             ],
             [
              0.4444444444444444,
              "#bd3786"
             ],
             [
              0.5555555555555556,
              "#d8576b"
             ],
             [
              0.6666666666666666,
              "#ed7953"
             ],
             [
              0.7777777777777778,
              "#fb9f3a"
             ],
             [
              0.8888888888888888,
              "#fdca26"
             ],
             [
              1,
              "#f0f921"
             ]
            ],
            "type": "histogram2d"
           }
          ],
          "histogram2dcontour": [
           {
            "colorbar": {
             "outlinewidth": 0,
             "ticks": ""
            },
            "colorscale": [
             [
              0,
              "#0d0887"
             ],
             [
              0.1111111111111111,
              "#46039f"
             ],
             [
              0.2222222222222222,
              "#7201a8"
             ],
             [
              0.3333333333333333,
              "#9c179e"
             ],
             [
              0.4444444444444444,
              "#bd3786"
             ],
             [
              0.5555555555555556,
              "#d8576b"
             ],
             [
              0.6666666666666666,
              "#ed7953"
             ],
             [
              0.7777777777777778,
              "#fb9f3a"
             ],
             [
              0.8888888888888888,
              "#fdca26"
             ],
             [
              1,
              "#f0f921"
             ]
            ],
            "type": "histogram2dcontour"
           }
          ],
          "mesh3d": [
           {
            "colorbar": {
             "outlinewidth": 0,
             "ticks": ""
            },
            "type": "mesh3d"
           }
          ],
          "parcoords": [
           {
            "line": {
             "colorbar": {
              "outlinewidth": 0,
              "ticks": ""
             }
            },
            "type": "parcoords"
           }
          ],
          "pie": [
           {
            "automargin": true,
            "type": "pie"
           }
          ],
          "scatter": [
           {
            "marker": {
             "colorbar": {
              "outlinewidth": 0,
              "ticks": ""
             }
            },
            "type": "scatter"
           }
          ],
          "scatter3d": [
           {
            "line": {
             "colorbar": {
              "outlinewidth": 0,
              "ticks": ""
             }
            },
            "marker": {
             "colorbar": {
              "outlinewidth": 0,
              "ticks": ""
             }
            },
            "type": "scatter3d"
           }
          ],
          "scattercarpet": [
           {
            "marker": {
             "colorbar": {
              "outlinewidth": 0,
              "ticks": ""
             }
            },
            "type": "scattercarpet"
           }
          ],
          "scattergeo": [
           {
            "marker": {
             "colorbar": {
              "outlinewidth": 0,
              "ticks": ""
             }
            },
            "type": "scattergeo"
           }
          ],
          "scattergl": [
           {
            "marker": {
             "colorbar": {
              "outlinewidth": 0,
              "ticks": ""
             }
            },
            "type": "scattergl"
           }
          ],
          "scattermapbox": [
           {
            "marker": {
             "colorbar": {
              "outlinewidth": 0,
              "ticks": ""
             }
            },
            "type": "scattermapbox"
           }
          ],
          "scatterpolar": [
           {
            "marker": {
             "colorbar": {
              "outlinewidth": 0,
              "ticks": ""
             }
            },
            "type": "scatterpolar"
           }
          ],
          "scatterpolargl": [
           {
            "marker": {
             "colorbar": {
              "outlinewidth": 0,
              "ticks": ""
             }
            },
            "type": "scatterpolargl"
           }
          ],
          "scatterternary": [
           {
            "marker": {
             "colorbar": {
              "outlinewidth": 0,
              "ticks": ""
             }
            },
            "type": "scatterternary"
           }
          ],
          "surface": [
           {
            "colorbar": {
             "outlinewidth": 0,
             "ticks": ""
            },
            "colorscale": [
             [
              0,
              "#0d0887"
             ],
             [
              0.1111111111111111,
              "#46039f"
             ],
             [
              0.2222222222222222,
              "#7201a8"
             ],
             [
              0.3333333333333333,
              "#9c179e"
             ],
             [
              0.4444444444444444,
              "#bd3786"
             ],
             [
              0.5555555555555556,
              "#d8576b"
             ],
             [
              0.6666666666666666,
              "#ed7953"
             ],
             [
              0.7777777777777778,
              "#fb9f3a"
             ],
             [
              0.8888888888888888,
              "#fdca26"
             ],
             [
              1,
              "#f0f921"
             ]
            ],
            "type": "surface"
           }
          ],
          "table": [
           {
            "cells": {
             "fill": {
              "color": "#EBF0F8"
             },
             "line": {
              "color": "white"
             }
            },
            "header": {
             "fill": {
              "color": "#C8D4E3"
             },
             "line": {
              "color": "white"
             }
            },
            "type": "table"
           }
          ]
         },
         "layout": {
          "annotationdefaults": {
           "arrowcolor": "#2a3f5f",
           "arrowhead": 0,
           "arrowwidth": 1
          },
          "coloraxis": {
           "colorbar": {
            "outlinewidth": 0,
            "ticks": ""
           }
          },
          "colorscale": {
           "diverging": [
            [
             0,
             "#8e0152"
            ],
            [
             0.1,
             "#c51b7d"
            ],
            [
             0.2,
             "#de77ae"
            ],
            [
             0.3,
             "#f1b6da"
            ],
            [
             0.4,
             "#fde0ef"
            ],
            [
             0.5,
             "#f7f7f7"
            ],
            [
             0.6,
             "#e6f5d0"
            ],
            [
             0.7,
             "#b8e186"
            ],
            [
             0.8,
             "#7fbc41"
            ],
            [
             0.9,
             "#4d9221"
            ],
            [
             1,
             "#276419"
            ]
           ],
           "sequential": [
            [
             0,
             "#0d0887"
            ],
            [
             0.1111111111111111,
             "#46039f"
            ],
            [
             0.2222222222222222,
             "#7201a8"
            ],
            [
             0.3333333333333333,
             "#9c179e"
            ],
            [
             0.4444444444444444,
             "#bd3786"
            ],
            [
             0.5555555555555556,
             "#d8576b"
            ],
            [
             0.6666666666666666,
             "#ed7953"
            ],
            [
             0.7777777777777778,
             "#fb9f3a"
            ],
            [
             0.8888888888888888,
             "#fdca26"
            ],
            [
             1,
             "#f0f921"
            ]
           ],
           "sequentialminus": [
            [
             0,
             "#0d0887"
            ],
            [
             0.1111111111111111,
             "#46039f"
            ],
            [
             0.2222222222222222,
             "#7201a8"
            ],
            [
             0.3333333333333333,
             "#9c179e"
            ],
            [
             0.4444444444444444,
             "#bd3786"
            ],
            [
             0.5555555555555556,
             "#d8576b"
            ],
            [
             0.6666666666666666,
             "#ed7953"
            ],
            [
             0.7777777777777778,
             "#fb9f3a"
            ],
            [
             0.8888888888888888,
             "#fdca26"
            ],
            [
             1,
             "#f0f921"
            ]
           ]
          },
          "colorway": [
           "#636efa",
           "#EF553B",
           "#00cc96",
           "#ab63fa",
           "#FFA15A",
           "#19d3f3",
           "#FF6692",
           "#B6E880",
           "#FF97FF",
           "#FECB52"
          ],
          "font": {
           "color": "#2a3f5f"
          },
          "geo": {
           "bgcolor": "white",
           "lakecolor": "white",
           "landcolor": "#E5ECF6",
           "showlakes": true,
           "showland": true,
           "subunitcolor": "white"
          },
          "hoverlabel": {
           "align": "left"
          },
          "hovermode": "closest",
          "mapbox": {
           "style": "light"
          },
          "paper_bgcolor": "white",
          "plot_bgcolor": "#E5ECF6",
          "polar": {
           "angularaxis": {
            "gridcolor": "white",
            "linecolor": "white",
            "ticks": ""
           },
           "bgcolor": "#E5ECF6",
           "radialaxis": {
            "gridcolor": "white",
            "linecolor": "white",
            "ticks": ""
           }
          },
          "scene": {
           "xaxis": {
            "backgroundcolor": "#E5ECF6",
            "gridcolor": "white",
            "gridwidth": 2,
            "linecolor": "white",
            "showbackground": true,
            "ticks": "",
            "zerolinecolor": "white"
           },
           "yaxis": {
            "backgroundcolor": "#E5ECF6",
            "gridcolor": "white",
            "gridwidth": 2,
            "linecolor": "white",
            "showbackground": true,
            "ticks": "",
            "zerolinecolor": "white"
           },
           "zaxis": {
            "backgroundcolor": "#E5ECF6",
            "gridcolor": "white",
            "gridwidth": 2,
            "linecolor": "white",
            "showbackground": true,
            "ticks": "",
            "zerolinecolor": "white"
           }
          },
          "shapedefaults": {
           "line": {
            "color": "#2a3f5f"
           }
          },
          "ternary": {
           "aaxis": {
            "gridcolor": "white",
            "linecolor": "white",
            "ticks": ""
           },
           "baxis": {
            "gridcolor": "white",
            "linecolor": "white",
            "ticks": ""
           },
           "bgcolor": "#E5ECF6",
           "caxis": {
            "gridcolor": "white",
            "linecolor": "white",
            "ticks": ""
           }
          },
          "title": {
           "x": 0.05
          },
          "xaxis": {
           "automargin": true,
           "gridcolor": "white",
           "linecolor": "white",
           "ticks": "",
           "title": {
            "standoff": 15
           },
           "zerolinecolor": "white",
           "zerolinewidth": 2
          },
          "yaxis": {
           "automargin": true,
           "gridcolor": "white",
           "linecolor": "white",
           "ticks": "",
           "title": {
            "standoff": 15
           },
           "zerolinecolor": "white",
           "zerolinewidth": 2
          }
         }
        },
        "title": {
         "text": "Olympic Players - Regional Disparity"
        }
       }
      },
      "text/html": [
       "<div>\n",
       "        \n",
       "        \n",
       "            <div id=\"7385d210-1a81-4cb8-87f0-f4509c840c31\" class=\"plotly-graph-div\" style=\"height:525px; width:100%;\"></div>\n",
       "            <script type=\"text/javascript\">\n",
       "                require([\"plotly\"], function(Plotly) {\n",
       "                    window.PLOTLYENV=window.PLOTLYENV || {};\n",
       "                    \n",
       "                if (document.getElementById(\"7385d210-1a81-4cb8-87f0-f4509c840c31\")) {\n",
       "                    Plotly.newPlot(\n",
       "                        '7385d210-1a81-4cb8-87f0-f4509c840c31',\n",
       "                        [{\"autocolorscale\": false, \"colorbar\": {\"ticksuffix\": \"%\", \"title\": {\"text\": \"Disparity(%)<br>\"}}, \"colorscale\": [[0.0, \"rgb(247,251,255)\"], [0.125, \"rgb(222,235,247)\"], [0.25, \"rgb(198,219,239)\"], [0.375, \"rgb(158,202,225)\"], [0.5, \"rgb(107,174,214)\"], [0.625, \"rgb(66,146,198)\"], [0.75, \"rgb(33,113,181)\"], [0.875, \"rgb(8,81,156)\"], [1.0, \"rgb(8,48,107)\"]], \"locations\": [\"AFG\", \"ALB\", \"DZA\", \"ASM\", \"AND\", \"AGO\", \"AIA\", \"ATG\", \"ARG\", \"ARM\", \"ABW\", \"AUS\", \"AUT\", \"AZE\", \"BHM\", \"BHR\", \"BGD\", \"BRB\", \"BLR\", \"BEL\", \"BLZ\", \"BEN\", \"BMU\", \"BTN\", \"BOL\", \"BIH\", \"BWA\", \"BRA\", \"VGB\", \"BRN\", \"BGR\", \"BFA\", \"MMR\", \"BDI\", \"CPV\", \"KHM\", \"CMR\", \"CAN\", \"CYM\", \"CAF\", \"TCD\", \"CHL\", \"CHN\", \"COL\", \"COM\", \"COD\", \"COG\", \"COK\", \"CRI\", \"CIV\", \"HRV\", \"CUB\", \"CUW\", \"CYP\", \"CZE\", \"DNK\", \"DJI\", \"DMA\", \"DOM\", \"ECU\", \"EGY\", \"SLV\", \"GNQ\", \"ERI\", \"EST\", \"ETH\", \"FLK\", \"FRO\", \"FJI\", \"FIN\", \"FRA\", \"PYF\", \"GAB\", \"GMB\", \"GEO\", \"DEU\", \"GHA\", \"GIB\", \"GRC\", \"GRL\", \"GRD\", \"GUM\", \"GTM\", \"GGY\", \"GNB\", \"GIN\", \"GUY\", \"HTI\", \"HND\", \"HKG\", \"HUN\", \"ISL\", \"IND\", \"IDN\", \"IRN\", \"IRQ\", \"IRL\", \"IMN\", \"ISR\", \"ITA\", \"JAM\", \"JPN\", \"JEY\", \"JOR\", \"KAZ\", \"KEN\", \"KIR\", \"PRK\", \"KOR\", \"KSV\", \"KWT\", \"KGZ\", \"LAO\", \"LVA\", \"LBN\", \"LSO\", \"LBR\", \"LBY\", \"LIE\", \"LTU\", \"LUX\", \"MAC\", \"MKD\", \"MDG\", \"MWI\", \"MYS\", \"MDV\", \"MLI\", \"MLT\", \"MHL\", \"MRT\", \"MUS\", \"MEX\", \"FSM\", \"MDA\", \"MCO\", \"MNG\", \"MNE\", \"MAR\", \"MOZ\", \"NAM\", \"NPL\", \"NLD\", \"NCL\", \"NZL\", \"NIC\", \"NGA\", \"NER\", \"NIU\", \"MNP\", \"NOR\", \"OMN\", \"PAK\", \"PLW\", \"PAN\", \"PNG\", \"PRY\", \"PER\", \"PHL\", \"POL\", \"PRT\", \"PRI\", \"QAT\", \"ROU\", \"RUS\", \"RWA\", \"KNA\", \"LCA\", \"MAF\", \"SPM\", \"VCT\", \"WSM\", \"SMR\", \"STP\", \"SAU\", \"SEN\", \"SRB\", \"SYC\", \"SLE\", \"SGP\", \"SXM\", \"SVK\", \"SVN\", \"SLB\", \"SOM\", \"ZAF\", \"SSD\", \"ESP\", \"LKA\", \"SDN\", \"SUR\", \"SWZ\", \"SWE\", \"CHE\", \"SYR\", \"TWN\", \"TJK\", \"TZA\", \"THA\", \"TLS\", \"TGO\", \"TON\", \"TTO\", \"TUN\", \"TUR\", \"TKM\", \"TUV\", \"UGA\", \"UKR\", \"ARE\", \"GBR\", \"USA\", \"URY\", \"UZB\", \"VUT\", \"VEN\", \"VNM\", \"VGB\", \"WBG\", \"YEM\", \"ZMB\", \"ZWE\"], \"marker\": {\"line\": {\"color\": \"darkgray\", \"width\": 0.5}}, \"reversescale\": true, \"text\": [\"Afghanistan\", \"Albania\", \"Algeria\", \"American Samoa\", \"Andorra\", \"Angola\", \"Anguilla\", \"Antigua and Barbuda\", \"Argentina\", \"Armenia\", \"Aruba\", \"Australia\", \"Austria\", \"Azerbaijan\", \"Bahamas, The\", \"Bahrain\", \"Bangladesh\", \"Barbados\", \"Belarus\", \"Belgium\", \"Belize\", \"Benin\", \"Bermuda\", \"Bhutan\", \"Bolivia\", \"Bosnia and Herzegovina\", \"Botswana\", \"Brazil\", \"British Virgin Islands\", \"Brunei\", \"Bulgaria\", \"Burkina Faso\", \"Burma\", \"Burundi\", \"Cabo Verde\", \"Cambodia\", \"Cameroon\", \"Canada\", \"Cayman Islands\", \"Central African Republic\", \"Chad\", \"Chile\", \"China\", \"Colombia\", \"Comoros\", \"Congo, Democratic Republic of the\", \"Congo, Republic of the\", \"Cook Islands\", \"Costa Rica\", \"Cote d'Ivoire\", \"Croatia\", \"Cuba\", \"Curacao\", \"Cyprus\", \"Czech Republic\", \"Denmark\", \"Djibouti\", \"Dominica\", \"Dominican Republic\", \"Ecuador\", \"Egypt\", \"El Salvador\", \"Equatorial Guinea\", \"Eritrea\", \"Estonia\", \"Ethiopia\", \"Falkland Islands (Islas Malvinas)\", \"Faroe Islands\", \"Fiji\", \"Finland\", \"France\", \"French Polynesia\", \"Gabon\", \"Gambia, The\", \"Georgia\", \"Germany\", \"Ghana\", \"Gibraltar\", \"Greece\", \"Greenland\", \"Grenada\", \"Guam\", \"Guatemala\", \"Guernsey\", \"Guinea-Bissau\", \"Guinea\", \"Guyana\", \"Haiti\", \"Honduras\", \"Hong Kong\", \"Hungary\", \"Iceland\", \"India\", \"Indonesia\", \"Iran\", \"Iraq\", \"Ireland\", \"Isle of Man\", \"Israel\", \"Italy\", \"Jamaica\", \"Japan\", \"Jersey\", \"Jordan\", \"Kazakhstan\", \"Kenya\", \"Kiribati\", \"Korea, North\", \"Korea, South\", \"Kosovo\", \"Kuwait\", \"Kyrgyzstan\", \"Laos\", \"Latvia\", \"Lebanon\", \"Lesotho\", \"Liberia\", \"Libya\", \"Liechtenstein\", \"Lithuania\", \"Luxembourg\", \"Macau\", \"Macedonia\", \"Madagascar\", \"Malawi\", \"Malaysia\", \"Maldives\", \"Mali\", \"Malta\", \"Marshall Islands\", \"Mauritania\", \"Mauritius\", \"Mexico\", \"Micronesia, Federated States of\", \"Moldova\", \"Monaco\", \"Mongolia\", \"Montenegro\", \"Morocco\", \"Mozambique\", \"Namibia\", \"Nepal\", \"Netherlands\", \"New Caledonia\", \"New Zealand\", \"Nicaragua\", \"Nigeria\", \"Niger\", \"Niue\", \"Northern Mariana Islands\", \"Norway\", \"Oman\", \"Pakistan\", \"Palau\", \"Panama\", \"Papua New Guinea\", \"Paraguay\", \"Peru\", \"Philippines\", \"Poland\", \"Portugal\", \"Puerto Rico\", \"Qatar\", \"Romania\", \"Russia\", \"Rwanda\", \"Saint Kitts and Nevis\", \"Saint Lucia\", \"Saint Martin\", \"Saint Pierre and Miquelon\", \"Saint Vincent and the Grenadines\", \"Samoa\", \"San Marino\", \"Sao Tome and Principe\", \"Saudi Arabia\", \"Senegal\", \"Serbia\", \"Seychelles\", \"Sierra Leone\", \"Singapore\", \"Sint Maarten\", \"Slovakia\", \"Slovenia\", \"Solomon Islands\", \"Somalia\", \"South Africa\", \"South Sudan\", \"Spain\", \"Sri Lanka\", \"Sudan\", \"Suriname\", \"Swaziland\", \"Sweden\", \"Switzerland\", \"Syria\", \"Taiwan\", \"Tajikistan\", \"Tanzania\", \"Thailand\", \"Timor-Leste\", \"Togo\", \"Tonga\", \"Trinidad and Tobago\", \"Tunisia\", \"Turkey\", \"Turkmenistan\", \"Tuvalu\", \"Uganda\", \"Ukraine\", \"United Arab Emirates\", \"United Kingdom\", \"United States\", \"Uruguay\", \"Uzbekistan\", \"Vanuatu\", \"Venezuela\", \"Vietnam\", \"Virgin Islands\", \"West Bank\", \"Yemen\", \"Zambia\", \"Zimbabwe\"], \"type\": \"choropleth\", \"z\": [92, 28, 70, 65, 40, 7, 0, 0, 66, 61, 31, 33, 56, 50, 0, 46, 47, 63, 12, 72, 73, 66, 61, -23, 57, 39, 83, 44, 78, 55, 46, 37, 55, 36, 7, 51, 42, 33, 64, 48, 62, 78, -1, 50, 6, 39, 21, 33, 65, 35, 46, 52, 63, 40, 57, 62, 64, 17, 52, 48, 78, 55, 38, 76, 55, 50, 0, 0, 43, 68, 62, 0, 62, 0, 60, 44, 74, 0, 56, 0, 36, 36, 72, 0, 6, 53, 65, 55, 71, 0, 54, 64, 66, 36, 88, 93, 61, 0, 40, 58, 27, 37, 0, 40, 22, 54, 33, 0, 30, -25, 96, 51, 65, 55, 75, 56, 61, 76, 66, 46, 80, 0, 19, 34, 59, 67, 41, 38, 58, 0, 54, 25, 60, 0, 51, 92, 56, 12, 74, 50, 45, 40, 41, 0, 32, 66, 38, 52, 0, 0, 61, 80, 93, -4, 53, 54, 67, 46, 74, 53, 68, 65, 92, 38, 35, 35, 0, 4, 0, 0, 0, 66, 71, 23, 94, 55, 68, 53, 58, 0, 0, 40, 35, 40, 54, 50, 33, 49, 50, 80, 51, 66, 60, 62, 88, 31, 46, 81, 47, -25, 61, 68, 0, 71, 61, 12, 0, 68, 8, 82, 50, 45, 84, 46, 36, 57, 30, 69, 0, 81, 82, 28]}],\n",
       "                        {\"geo\": {\"projection\": {\"type\": \"equirectangular\"}, \"showcoastlines\": false, \"showframe\": false}, \"template\": {\"data\": {\"bar\": [{\"error_x\": {\"color\": \"#2a3f5f\"}, \"error_y\": {\"color\": \"#2a3f5f\"}, \"marker\": {\"line\": {\"color\": \"#E5ECF6\", \"width\": 0.5}}, \"type\": \"bar\"}], \"barpolar\": [{\"marker\": {\"line\": {\"color\": \"#E5ECF6\", \"width\": 0.5}}, \"type\": \"barpolar\"}], \"carpet\": [{\"aaxis\": {\"endlinecolor\": \"#2a3f5f\", \"gridcolor\": \"white\", \"linecolor\": \"white\", \"minorgridcolor\": \"white\", \"startlinecolor\": \"#2a3f5f\"}, \"baxis\": {\"endlinecolor\": \"#2a3f5f\", \"gridcolor\": \"white\", \"linecolor\": \"white\", \"minorgridcolor\": \"white\", \"startlinecolor\": \"#2a3f5f\"}, \"type\": \"carpet\"}], \"choropleth\": [{\"colorbar\": {\"outlinewidth\": 0, \"ticks\": \"\"}, \"type\": \"choropleth\"}], \"contour\": [{\"colorbar\": {\"outlinewidth\": 0, \"ticks\": \"\"}, \"colorscale\": [[0.0, \"#0d0887\"], [0.1111111111111111, \"#46039f\"], [0.2222222222222222, \"#7201a8\"], [0.3333333333333333, \"#9c179e\"], [0.4444444444444444, \"#bd3786\"], [0.5555555555555556, \"#d8576b\"], [0.6666666666666666, \"#ed7953\"], [0.7777777777777778, \"#fb9f3a\"], [0.8888888888888888, \"#fdca26\"], [1.0, \"#f0f921\"]], \"type\": \"contour\"}], \"contourcarpet\": [{\"colorbar\": {\"outlinewidth\": 0, \"ticks\": \"\"}, \"type\": \"contourcarpet\"}], \"heatmap\": [{\"colorbar\": {\"outlinewidth\": 0, \"ticks\": \"\"}, \"colorscale\": [[0.0, \"#0d0887\"], [0.1111111111111111, \"#46039f\"], [0.2222222222222222, \"#7201a8\"], [0.3333333333333333, \"#9c179e\"], [0.4444444444444444, \"#bd3786\"], [0.5555555555555556, \"#d8576b\"], [0.6666666666666666, \"#ed7953\"], [0.7777777777777778, \"#fb9f3a\"], [0.8888888888888888, \"#fdca26\"], [1.0, \"#f0f921\"]], \"type\": \"heatmap\"}], \"heatmapgl\": [{\"colorbar\": {\"outlinewidth\": 0, \"ticks\": \"\"}, \"colorscale\": [[0.0, \"#0d0887\"], [0.1111111111111111, \"#46039f\"], [0.2222222222222222, \"#7201a8\"], [0.3333333333333333, \"#9c179e\"], [0.4444444444444444, \"#bd3786\"], [0.5555555555555556, \"#d8576b\"], [0.6666666666666666, \"#ed7953\"], [0.7777777777777778, \"#fb9f3a\"], [0.8888888888888888, \"#fdca26\"], [1.0, \"#f0f921\"]], \"type\": \"heatmapgl\"}], \"histogram\": [{\"marker\": {\"colorbar\": {\"outlinewidth\": 0, \"ticks\": \"\"}}, \"type\": \"histogram\"}], \"histogram2d\": [{\"colorbar\": {\"outlinewidth\": 0, \"ticks\": \"\"}, \"colorscale\": [[0.0, \"#0d0887\"], [0.1111111111111111, \"#46039f\"], [0.2222222222222222, \"#7201a8\"], [0.3333333333333333, \"#9c179e\"], [0.4444444444444444, \"#bd3786\"], [0.5555555555555556, \"#d8576b\"], [0.6666666666666666, \"#ed7953\"], [0.7777777777777778, \"#fb9f3a\"], [0.8888888888888888, \"#fdca26\"], [1.0, \"#f0f921\"]], \"type\": \"histogram2d\"}], \"histogram2dcontour\": [{\"colorbar\": {\"outlinewidth\": 0, \"ticks\": \"\"}, \"colorscale\": [[0.0, \"#0d0887\"], [0.1111111111111111, \"#46039f\"], [0.2222222222222222, \"#7201a8\"], [0.3333333333333333, \"#9c179e\"], [0.4444444444444444, \"#bd3786\"], [0.5555555555555556, \"#d8576b\"], [0.6666666666666666, \"#ed7953\"], [0.7777777777777778, \"#fb9f3a\"], [0.8888888888888888, \"#fdca26\"], [1.0, \"#f0f921\"]], \"type\": \"histogram2dcontour\"}], \"mesh3d\": [{\"colorbar\": {\"outlinewidth\": 0, \"ticks\": \"\"}, \"type\": \"mesh3d\"}], \"parcoords\": [{\"line\": {\"colorbar\": {\"outlinewidth\": 0, \"ticks\": \"\"}}, \"type\": \"parcoords\"}], \"pie\": [{\"automargin\": true, \"type\": \"pie\"}], \"scatter\": [{\"marker\": {\"colorbar\": {\"outlinewidth\": 0, \"ticks\": \"\"}}, \"type\": \"scatter\"}], \"scatter3d\": [{\"line\": {\"colorbar\": {\"outlinewidth\": 0, \"ticks\": \"\"}}, \"marker\": {\"colorbar\": {\"outlinewidth\": 0, \"ticks\": \"\"}}, \"type\": \"scatter3d\"}], \"scattercarpet\": [{\"marker\": {\"colorbar\": {\"outlinewidth\": 0, \"ticks\": \"\"}}, \"type\": \"scattercarpet\"}], \"scattergeo\": [{\"marker\": {\"colorbar\": {\"outlinewidth\": 0, \"ticks\": \"\"}}, \"type\": \"scattergeo\"}], \"scattergl\": [{\"marker\": {\"colorbar\": {\"outlinewidth\": 0, \"ticks\": \"\"}}, \"type\": \"scattergl\"}], \"scattermapbox\": [{\"marker\": {\"colorbar\": {\"outlinewidth\": 0, \"ticks\": \"\"}}, \"type\": \"scattermapbox\"}], \"scatterpolar\": [{\"marker\": {\"colorbar\": {\"outlinewidth\": 0, \"ticks\": \"\"}}, \"type\": \"scatterpolar\"}], \"scatterpolargl\": [{\"marker\": {\"colorbar\": {\"outlinewidth\": 0, \"ticks\": \"\"}}, \"type\": \"scatterpolargl\"}], \"scatterternary\": [{\"marker\": {\"colorbar\": {\"outlinewidth\": 0, \"ticks\": \"\"}}, \"type\": \"scatterternary\"}], \"surface\": [{\"colorbar\": {\"outlinewidth\": 0, \"ticks\": \"\"}, \"colorscale\": [[0.0, \"#0d0887\"], [0.1111111111111111, \"#46039f\"], [0.2222222222222222, \"#7201a8\"], [0.3333333333333333, \"#9c179e\"], [0.4444444444444444, \"#bd3786\"], [0.5555555555555556, \"#d8576b\"], [0.6666666666666666, \"#ed7953\"], [0.7777777777777778, \"#fb9f3a\"], [0.8888888888888888, \"#fdca26\"], [1.0, \"#f0f921\"]], \"type\": \"surface\"}], \"table\": [{\"cells\": {\"fill\": {\"color\": \"#EBF0F8\"}, \"line\": {\"color\": \"white\"}}, \"header\": {\"fill\": {\"color\": \"#C8D4E3\"}, \"line\": {\"color\": \"white\"}}, \"type\": \"table\"}]}, \"layout\": {\"annotationdefaults\": {\"arrowcolor\": \"#2a3f5f\", \"arrowhead\": 0, \"arrowwidth\": 1}, \"coloraxis\": {\"colorbar\": {\"outlinewidth\": 0, \"ticks\": \"\"}}, \"colorscale\": {\"diverging\": [[0, \"#8e0152\"], [0.1, \"#c51b7d\"], [0.2, \"#de77ae\"], [0.3, \"#f1b6da\"], [0.4, \"#fde0ef\"], [0.5, \"#f7f7f7\"], [0.6, \"#e6f5d0\"], [0.7, \"#b8e186\"], [0.8, \"#7fbc41\"], [0.9, \"#4d9221\"], [1, \"#276419\"]], \"sequential\": [[0.0, \"#0d0887\"], [0.1111111111111111, \"#46039f\"], [0.2222222222222222, \"#7201a8\"], [0.3333333333333333, \"#9c179e\"], [0.4444444444444444, \"#bd3786\"], [0.5555555555555556, \"#d8576b\"], [0.6666666666666666, \"#ed7953\"], [0.7777777777777778, \"#fb9f3a\"], [0.8888888888888888, \"#fdca26\"], [1.0, \"#f0f921\"]], \"sequentialminus\": [[0.0, \"#0d0887\"], [0.1111111111111111, \"#46039f\"], [0.2222222222222222, \"#7201a8\"], [0.3333333333333333, \"#9c179e\"], [0.4444444444444444, \"#bd3786\"], [0.5555555555555556, \"#d8576b\"], [0.6666666666666666, \"#ed7953\"], [0.7777777777777778, \"#fb9f3a\"], [0.8888888888888888, \"#fdca26\"], [1.0, \"#f0f921\"]]}, \"colorway\": [\"#636efa\", \"#EF553B\", \"#00cc96\", \"#ab63fa\", \"#FFA15A\", \"#19d3f3\", \"#FF6692\", \"#B6E880\", \"#FF97FF\", \"#FECB52\"], \"font\": {\"color\": \"#2a3f5f\"}, \"geo\": {\"bgcolor\": \"white\", \"lakecolor\": \"white\", \"landcolor\": \"#E5ECF6\", \"showlakes\": true, \"showland\": true, \"subunitcolor\": \"white\"}, \"hoverlabel\": {\"align\": \"left\"}, \"hovermode\": \"closest\", \"mapbox\": {\"style\": \"light\"}, \"paper_bgcolor\": \"white\", \"plot_bgcolor\": \"#E5ECF6\", \"polar\": {\"angularaxis\": {\"gridcolor\": \"white\", \"linecolor\": \"white\", \"ticks\": \"\"}, \"bgcolor\": \"#E5ECF6\", \"radialaxis\": {\"gridcolor\": \"white\", \"linecolor\": \"white\", \"ticks\": \"\"}}, \"scene\": {\"xaxis\": {\"backgroundcolor\": \"#E5ECF6\", \"gridcolor\": \"white\", \"gridwidth\": 2, \"linecolor\": \"white\", \"showbackground\": true, \"ticks\": \"\", \"zerolinecolor\": \"white\"}, \"yaxis\": {\"backgroundcolor\": \"#E5ECF6\", \"gridcolor\": \"white\", \"gridwidth\": 2, \"linecolor\": \"white\", \"showbackground\": true, \"ticks\": \"\", \"zerolinecolor\": \"white\"}, \"zaxis\": {\"backgroundcolor\": \"#E5ECF6\", \"gridcolor\": \"white\", \"gridwidth\": 2, \"linecolor\": \"white\", \"showbackground\": true, \"ticks\": \"\", \"zerolinecolor\": \"white\"}}, \"shapedefaults\": {\"line\": {\"color\": \"#2a3f5f\"}}, \"ternary\": {\"aaxis\": {\"gridcolor\": \"white\", \"linecolor\": \"white\", \"ticks\": \"\"}, \"baxis\": {\"gridcolor\": \"white\", \"linecolor\": \"white\", \"ticks\": \"\"}, \"bgcolor\": \"#E5ECF6\", \"caxis\": {\"gridcolor\": \"white\", \"linecolor\": \"white\", \"ticks\": \"\"}}, \"title\": {\"x\": 0.05}, \"xaxis\": {\"automargin\": true, \"gridcolor\": \"white\", \"linecolor\": \"white\", \"ticks\": \"\", \"title\": {\"standoff\": 15}, \"zerolinecolor\": \"white\", \"zerolinewidth\": 2}, \"yaxis\": {\"automargin\": true, \"gridcolor\": \"white\", \"linecolor\": \"white\", \"ticks\": \"\", \"title\": {\"standoff\": 15}, \"zerolinecolor\": \"white\", \"zerolinewidth\": 2}}}, \"title\": {\"text\": \"Olympic Players - Regional Disparity\"}},\n",
       "                        {\"responsive\": true}\n",
       "                    ).then(function(){\n",
       "                            \n",
       "var gd = document.getElementById('7385d210-1a81-4cb8-87f0-f4509c840c31');\n",
       "var x = new MutationObserver(function (mutations, observer) {{\n",
       "        var display = window.getComputedStyle(gd).display;\n",
       "        if (!display || display === 'none') {{\n",
       "            console.log([gd, 'removed!']);\n",
       "            Plotly.purge(gd);\n",
       "            observer.disconnect();\n",
       "        }}\n",
       "}});\n",
       "\n",
       "// Listen for the removal of the full notebook cells\n",
       "var notebookContainer = gd.closest('#notebook-container');\n",
       "if (notebookContainer) {{\n",
       "    x.observe(notebookContainer, {childList: true});\n",
       "}}\n",
       "\n",
       "// Listen for the clearing of the current output cell\n",
       "var outputEl = gd.closest('.output');\n",
       "if (outputEl) {{\n",
       "    x.observe(outputEl, {childList: true});\n",
       "}}\n",
       "\n",
       "                        })\n",
       "                };\n",
       "                });\n",
       "            </script>\n",
       "        </div>"
      ]
     },
     "metadata": {},
     "output_type": "display_data"
    }
   ],
   "source": [
    "#px.data.gapminder().query(\"year==2007\")\n",
    "df = pysqldf(\"SELECT mapdata.*, COALESCE(mf_reg_stats_corrected.Disparity_pct,0) AS Disparity_pct FROM mapdata LEFT JOIN mf_reg_stats_corrected ON mapdata.COUNTRY=mf_reg_stats_corrected.Country\")\n",
    "\n",
    "\n",
    "fig = go.Figure(data=go.Choropleth(\n",
    "    locations = df['CODE'],\n",
    "    z = df['Disparity_pct'],\n",
    "    text = df['COUNTRY'],\n",
    "    colorscale = 'Blues',\n",
    "    autocolorscale=False,\n",
    "    reversescale=True,\n",
    "    marker_line_color='darkgray',\n",
    "    marker_line_width=0.5,\n",
    "    colorbar_ticksuffix = '%',\n",
    "    colorbar_title = 'Disparity(%)<br>',\n",
    "))\n",
    "\n",
    "fig.update_layout(\n",
    "    title_text='Olympic Players - Regional Disparity',\n",
    "    geo=dict(\n",
    "        showframe=False,\n",
    "        showcoastlines=False,\n",
    "        projection_type='equirectangular'\n",
    "    ),\n",
    "    \n",
    ")\n",
    "\n",
    "fig.show()"
   ]
  },
  {
   "cell_type": "markdown",
   "metadata": {
    "collapsed": true
   },
   "source": [
    "From the above distribution, most of the countries in the world have disparity > 30%. Few countries like China and Bhutan have done exceptionally well with almost same or more representation of female players compared with male players. One the other hand, even most of the developed nations have struggled with this challenge with disparity between 30% (like Canada, Australia) all the way to 70% (Portugal, Finland, Belgium, Luxemburg). Most of the developing countries have pretty high disparity percent generally greater than >50% including several Asian, African and South American countries. Many third world countries in Asia, Africa and South America also have significantly high disparity (>70%). \n",
    "\n",
    "One can focus on nations with more than 90% disparity in participation. Most of these countries are Islamic nations like Afghanistan, Pakistan, Iran, Iraq, Qutar, Saudi Arabia and Seria where more than 90% of sports players are men. This isn't unexpected as some of these countries have been infamous for restrictive laws and policies towards woman's rights and freedom. Some of these countries are also economically underdeveloped which can also be an important factor. However, one should note that the problem is not because of religion but more about the local policies of each nation. \n",
    "\n",
    "We note that here we have included the entire dataset from all the years since 1896. To get a more recent picture, it will be better to look at more recent dataset. Also, it will be interesting to see how country's economic growth and development index is related with the disparity factor. \n",
    "\n",
    "\n"
   ]
  },
  {
   "cell_type": "code",
   "execution_count": 252,
   "metadata": {},
   "outputs": [
    {
     "data": {
      "application/vnd.plotly.v1+json": {
       "config": {
        "plotlyServerURL": "https://plot.ly"
       },
       "data": [
        {
         "autocolorscale": false,
         "colorbar": {
          "ticksuffix": "%",
          "title": {
           "text": "Disparity(%)<br>"
          }
         },
         "colorscale": [
          [
           0,
           "rgb(247,251,255)"
          ],
          [
           0.125,
           "rgb(222,235,247)"
          ],
          [
           0.25,
           "rgb(198,219,239)"
          ],
          [
           0.375,
           "rgb(158,202,225)"
          ],
          [
           0.5,
           "rgb(107,174,214)"
          ],
          [
           0.625,
           "rgb(66,146,198)"
          ],
          [
           0.75,
           "rgb(33,113,181)"
          ],
          [
           0.875,
           "rgb(8,81,156)"
          ],
          [
           1,
           "rgb(8,48,107)"
          ]
         ],
         "locations": [
          "AFG",
          "ALB",
          "DZA",
          "ASM",
          "AND",
          "AGO",
          "AIA",
          "ATG",
          "ARG",
          "ARM",
          "ABW",
          "AUS",
          "AUT",
          "AZE",
          "BHM",
          "BHR",
          "BGD",
          "BRB",
          "BLR",
          "BEL",
          "BLZ",
          "BEN",
          "BMU",
          "BTN",
          "BOL",
          "BIH",
          "BWA",
          "BRA",
          "VGB",
          "BRN",
          "BGR",
          "BFA",
          "MMR",
          "BDI",
          "CPV",
          "KHM",
          "CMR",
          "CAN",
          "CYM",
          "CAF",
          "TCD",
          "CHL",
          "CHN",
          "COL",
          "COM",
          "COD",
          "COG",
          "COK",
          "CRI",
          "CIV",
          "HRV",
          "CUB",
          "CUW",
          "CYP",
          "CZE",
          "DNK",
          "DJI",
          "DMA",
          "DOM",
          "ECU",
          "EGY",
          "SLV",
          "GNQ",
          "ERI",
          "EST",
          "ETH",
          "FLK",
          "FRO",
          "FJI",
          "FIN",
          "FRA",
          "PYF",
          "GAB",
          "GMB",
          "GEO",
          "DEU",
          "GHA",
          "GIB",
          "GRC",
          "GRL",
          "GRD",
          "GUM",
          "GTM",
          "GGY",
          "GNB",
          "GIN",
          "GUY",
          "HTI",
          "HND",
          "HKG",
          "HUN",
          "ISL",
          "IND",
          "IDN",
          "IRN",
          "IRQ",
          "IRL",
          "IMN",
          "ISR",
          "ITA",
          "JAM",
          "JPN",
          "JEY",
          "JOR",
          "KAZ",
          "KEN",
          "KIR",
          "PRK",
          "KOR",
          "KSV",
          "KWT",
          "KGZ",
          "LAO",
          "LVA",
          "LBN",
          "LSO",
          "LBR",
          "LBY",
          "LIE",
          "LTU",
          "LUX",
          "MAC",
          "MKD",
          "MDG",
          "MWI",
          "MYS",
          "MDV",
          "MLI",
          "MLT",
          "MHL",
          "MRT",
          "MUS",
          "MEX",
          "FSM",
          "MDA",
          "MCO",
          "MNG",
          "MNE",
          "MAR",
          "MOZ",
          "NAM",
          "NPL",
          "NLD",
          "NCL",
          "NZL",
          "NIC",
          "NGA",
          "NER",
          "NIU",
          "MNP",
          "NOR",
          "OMN",
          "PAK",
          "PLW",
          "PAN",
          "PNG",
          "PRY",
          "PER",
          "PHL",
          "POL",
          "PRT",
          "PRI",
          "QAT",
          "ROU",
          "RUS",
          "RWA",
          "KNA",
          "LCA",
          "MAF",
          "SPM",
          "VCT",
          "WSM",
          "SMR",
          "STP",
          "SAU",
          "SEN",
          "SRB",
          "SYC",
          "SLE",
          "SGP",
          "SXM",
          "SVK",
          "SVN",
          "SLB",
          "SOM",
          "ZAF",
          "SSD",
          "ESP",
          "LKA",
          "SDN",
          "SUR",
          "SWZ",
          "SWE",
          "CHE",
          "SYR",
          "TWN",
          "TJK",
          "TZA",
          "THA",
          "TLS",
          "TGO",
          "TON",
          "TTO",
          "TUN",
          "TUR",
          "TKM",
          "TUV",
          "UGA",
          "UKR",
          "ARE",
          "GBR",
          "USA",
          "URY",
          "UZB",
          "VUT",
          "VEN",
          "VNM",
          "VGB",
          "WBG",
          "YEM",
          "ZMB",
          "ZWE"
         ],
         "marker": {
          "line": {
           "color": "darkgray",
           "width": 0.5
          }
         },
         "reversescale": true,
         "text": [
          "Afghanistan",
          "Albania",
          "Algeria",
          "American Samoa",
          "Andorra",
          "Angola",
          "Anguilla",
          "Antigua and Barbuda",
          "Argentina",
          "Armenia",
          "Aruba",
          "Australia",
          "Austria",
          "Azerbaijan",
          "Bahamas, The",
          "Bahrain",
          "Bangladesh",
          "Barbados",
          "Belarus",
          "Belgium",
          "Belize",
          "Benin",
          "Bermuda",
          "Bhutan",
          "Bolivia",
          "Bosnia and Herzegovina",
          "Botswana",
          "Brazil",
          "British Virgin Islands",
          "Brunei",
          "Bulgaria",
          "Burkina Faso",
          "Burma",
          "Burundi",
          "Cabo Verde",
          "Cambodia",
          "Cameroon",
          "Canada",
          "Cayman Islands",
          "Central African Republic",
          "Chad",
          "Chile",
          "China",
          "Colombia",
          "Comoros",
          "Congo, Democratic Republic of the",
          "Congo, Republic of the",
          "Cook Islands",
          "Costa Rica",
          "Cote d'Ivoire",
          "Croatia",
          "Cuba",
          "Curacao",
          "Cyprus",
          "Czech Republic",
          "Denmark",
          "Djibouti",
          "Dominica",
          "Dominican Republic",
          "Ecuador",
          "Egypt",
          "El Salvador",
          "Equatorial Guinea",
          "Eritrea",
          "Estonia",
          "Ethiopia",
          "Falkland Islands (Islas Malvinas)",
          "Faroe Islands",
          "Fiji",
          "Finland",
          "France",
          "French Polynesia",
          "Gabon",
          "Gambia, The",
          "Georgia",
          "Germany",
          "Ghana",
          "Gibraltar",
          "Greece",
          "Greenland",
          "Grenada",
          "Guam",
          "Guatemala",
          "Guernsey",
          "Guinea-Bissau",
          "Guinea",
          "Guyana",
          "Haiti",
          "Honduras",
          "Hong Kong",
          "Hungary",
          "Iceland",
          "India",
          "Indonesia",
          "Iran",
          "Iraq",
          "Ireland",
          "Isle of Man",
          "Israel",
          "Italy",
          "Jamaica",
          "Japan",
          "Jersey",
          "Jordan",
          "Kazakhstan",
          "Kenya",
          "Kiribati",
          "Korea, North",
          "Korea, South",
          "Kosovo",
          "Kuwait",
          "Kyrgyzstan",
          "Laos",
          "Latvia",
          "Lebanon",
          "Lesotho",
          "Liberia",
          "Libya",
          "Liechtenstein",
          "Lithuania",
          "Luxembourg",
          "Macau",
          "Macedonia",
          "Madagascar",
          "Malawi",
          "Malaysia",
          "Maldives",
          "Mali",
          "Malta",
          "Marshall Islands",
          "Mauritania",
          "Mauritius",
          "Mexico",
          "Micronesia, Federated States of",
          "Moldova",
          "Monaco",
          "Mongolia",
          "Montenegro",
          "Morocco",
          "Mozambique",
          "Namibia",
          "Nepal",
          "Netherlands",
          "New Caledonia",
          "New Zealand",
          "Nicaragua",
          "Nigeria",
          "Niger",
          "Niue",
          "Northern Mariana Islands",
          "Norway",
          "Oman",
          "Pakistan",
          "Palau",
          "Panama",
          "Papua New Guinea",
          "Paraguay",
          "Peru",
          "Philippines",
          "Poland",
          "Portugal",
          "Puerto Rico",
          "Qatar",
          "Romania",
          "Russia",
          "Rwanda",
          "Saint Kitts and Nevis",
          "Saint Lucia",
          "Saint Martin",
          "Saint Pierre and Miquelon",
          "Saint Vincent and the Grenadines",
          "Samoa",
          "San Marino",
          "Sao Tome and Principe",
          "Saudi Arabia",
          "Senegal",
          "Serbia",
          "Seychelles",
          "Sierra Leone",
          "Singapore",
          "Sint Maarten",
          "Slovakia",
          "Slovenia",
          "Solomon Islands",
          "Somalia",
          "South Africa",
          "South Sudan",
          "Spain",
          "Sri Lanka",
          "Sudan",
          "Suriname",
          "Swaziland",
          "Sweden",
          "Switzerland",
          "Syria",
          "Taiwan",
          "Tajikistan",
          "Tanzania",
          "Thailand",
          "Timor-Leste",
          "Togo",
          "Tonga",
          "Trinidad and Tobago",
          "Tunisia",
          "Turkey",
          "Turkmenistan",
          "Tuvalu",
          "Uganda",
          "Ukraine",
          "United Arab Emirates",
          "United Kingdom",
          "United States",
          "Uruguay",
          "Uzbekistan",
          "Vanuatu",
          "Venezuela",
          "Vietnam",
          "Virgin Islands",
          "West Bank",
          "Yemen",
          "Zambia",
          "Zimbabwe"
         ],
         "type": "choropleth",
         "z": [
          60,
          25,
          65,
          65,
          30,
          2,
          0,
          0,
          42,
          61,
          31,
          17,
          38,
          50,
          0,
          46,
          47,
          64,
          12,
          31,
          66,
          55,
          42,
          -23,
          46,
          39,
          82,
          26,
          78,
          55,
          27,
          35,
          -11,
          36,
          7,
          4,
          33,
          11,
          62,
          46,
          52,
          63,
          -6,
          32,
          6,
          34,
          38,
          33,
          55,
          20,
          46,
          35,
          46,
          35,
          34,
          22,
          64,
          17,
          44,
          36,
          65,
          29,
          38,
          76,
          40,
          19,
          0,
          0,
          38,
          35,
          31,
          0,
          61,
          0,
          60,
          22,
          64,
          0,
          19,
          0,
          36,
          36,
          60,
          0,
          6,
          26,
          52,
          40,
          69,
          0,
          26,
          52,
          42,
          24,
          82,
          89,
          41,
          0,
          25,
          33,
          18,
          16,
          0,
          37,
          22,
          44,
          33,
          -18,
          23,
          -25,
          95,
          51,
          58,
          45,
          58,
          52,
          48,
          68,
          44,
          43,
          19,
          0,
          19,
          13,
          59,
          45,
          41,
          31,
          19,
          0,
          54,
          25,
          36,
          0,
          51,
          85,
          42,
          12,
          66,
          43,
          45,
          22,
          11,
          0,
          18,
          56,
          28,
          45,
          0,
          0,
          28,
          80,
          86,
          -4,
          39,
          50,
          64,
          11,
          55,
          34,
          52,
          51,
          92,
          8,
          17,
          35,
          0,
          4,
          0,
          0,
          0,
          66,
          68,
          23,
          93,
          33,
          52,
          53,
          48,
          0,
          0,
          40,
          35,
          40,
          47,
          33,
          33,
          30,
          22,
          62,
          42,
          65,
          26,
          31,
          70,
          18,
          46,
          75,
          18,
          -25,
          54,
          68,
          0,
          63,
          34,
          12,
          0,
          56,
          8,
          82,
          18,
          16,
          71,
          46,
          36,
          43,
          -6,
          61,
          0,
          81,
          78,
          25
         ]
        }
       ],
       "layout": {
        "geo": {
         "projection": {
          "type": "equirectangular"
         },
         "showcoastlines": false,
         "showframe": false
        },
        "template": {
         "data": {
          "bar": [
           {
            "error_x": {
             "color": "#2a3f5f"
            },
            "error_y": {
             "color": "#2a3f5f"
            },
            "marker": {
             "line": {
              "color": "#E5ECF6",
              "width": 0.5
             }
            },
            "type": "bar"
           }
          ],
          "barpolar": [
           {
            "marker": {
             "line": {
              "color": "#E5ECF6",
              "width": 0.5
             }
            },
            "type": "barpolar"
           }
          ],
          "carpet": [
           {
            "aaxis": {
             "endlinecolor": "#2a3f5f",
             "gridcolor": "white",
             "linecolor": "white",
             "minorgridcolor": "white",
             "startlinecolor": "#2a3f5f"
            },
            "baxis": {
             "endlinecolor": "#2a3f5f",
             "gridcolor": "white",
             "linecolor": "white",
             "minorgridcolor": "white",
             "startlinecolor": "#2a3f5f"
            },
            "type": "carpet"
           }
          ],
          "choropleth": [
           {
            "colorbar": {
             "outlinewidth": 0,
             "ticks": ""
            },
            "type": "choropleth"
           }
          ],
          "contour": [
           {
            "colorbar": {
             "outlinewidth": 0,
             "ticks": ""
            },
            "colorscale": [
             [
              0,
              "#0d0887"
             ],
             [
              0.1111111111111111,
              "#46039f"
             ],
             [
              0.2222222222222222,
              "#7201a8"
             ],
             [
              0.3333333333333333,
              "#9c179e"
             ],
             [
              0.4444444444444444,
              "#bd3786"
             ],
             [
              0.5555555555555556,
              "#d8576b"
             ],
             [
              0.6666666666666666,
              "#ed7953"
             ],
             [
              0.7777777777777778,
              "#fb9f3a"
             ],
             [
              0.8888888888888888,
              "#fdca26"
             ],
             [
              1,
              "#f0f921"
             ]
            ],
            "type": "contour"
           }
          ],
          "contourcarpet": [
           {
            "colorbar": {
             "outlinewidth": 0,
             "ticks": ""
            },
            "type": "contourcarpet"
           }
          ],
          "heatmap": [
           {
            "colorbar": {
             "outlinewidth": 0,
             "ticks": ""
            },
            "colorscale": [
             [
              0,
              "#0d0887"
             ],
             [
              0.1111111111111111,
              "#46039f"
             ],
             [
              0.2222222222222222,
              "#7201a8"
             ],
             [
              0.3333333333333333,
              "#9c179e"
             ],
             [
              0.4444444444444444,
              "#bd3786"
             ],
             [
              0.5555555555555556,
              "#d8576b"
             ],
             [
              0.6666666666666666,
              "#ed7953"
             ],
             [
              0.7777777777777778,
              "#fb9f3a"
             ],
             [
              0.8888888888888888,
              "#fdca26"
             ],
             [
              1,
              "#f0f921"
             ]
            ],
            "type": "heatmap"
           }
          ],
          "heatmapgl": [
           {
            "colorbar": {
             "outlinewidth": 0,
             "ticks": ""
            },
            "colorscale": [
             [
              0,
              "#0d0887"
             ],
             [
              0.1111111111111111,
              "#46039f"
             ],
             [
              0.2222222222222222,
              "#7201a8"
             ],
             [
              0.3333333333333333,
              "#9c179e"
             ],
             [
              0.4444444444444444,
              "#bd3786"
             ],
             [
              0.5555555555555556,
              "#d8576b"
             ],
             [
              0.6666666666666666,
              "#ed7953"
             ],
             [
              0.7777777777777778,
              "#fb9f3a"
             ],
             [
              0.8888888888888888,
              "#fdca26"
             ],
             [
              1,
              "#f0f921"
             ]
            ],
            "type": "heatmapgl"
           }
          ],
          "histogram": [
           {
            "marker": {
             "colorbar": {
              "outlinewidth": 0,
              "ticks": ""
             }
            },
            "type": "histogram"
           }
          ],
          "histogram2d": [
           {
            "colorbar": {
             "outlinewidth": 0,
             "ticks": ""
            },
            "colorscale": [
             [
              0,
              "#0d0887"
             ],
             [
              0.1111111111111111,
              "#46039f"
             ],
             [
              0.2222222222222222,
              "#7201a8"
             ],
             [
              0.3333333333333333,
              "#9c179e"
             ],
             [
              0.4444444444444444,
              "#bd3786"
             ],
             [
              0.5555555555555556,
              "#d8576b"
             ],
             [
              0.6666666666666666,
              "#ed7953"
             ],
             [
              0.7777777777777778,
              "#fb9f3a"
             ],
             [
              0.8888888888888888,
              "#fdca26"
             ],
             [
              1,
              "#f0f921"
             ]
            ],
            "type": "histogram2d"
           }
          ],
          "histogram2dcontour": [
           {
            "colorbar": {
             "outlinewidth": 0,
             "ticks": ""
            },
            "colorscale": [
             [
              0,
              "#0d0887"
             ],
             [
              0.1111111111111111,
              "#46039f"
             ],
             [
              0.2222222222222222,
              "#7201a8"
             ],
             [
              0.3333333333333333,
              "#9c179e"
             ],
             [
              0.4444444444444444,
              "#bd3786"
             ],
             [
              0.5555555555555556,
              "#d8576b"
             ],
             [
              0.6666666666666666,
              "#ed7953"
             ],
             [
              0.7777777777777778,
              "#fb9f3a"
             ],
             [
              0.8888888888888888,
              "#fdca26"
             ],
             [
              1,
              "#f0f921"
             ]
            ],
            "type": "histogram2dcontour"
           }
          ],
          "mesh3d": [
           {
            "colorbar": {
             "outlinewidth": 0,
             "ticks": ""
            },
            "type": "mesh3d"
           }
          ],
          "parcoords": [
           {
            "line": {
             "colorbar": {
              "outlinewidth": 0,
              "ticks": ""
             }
            },
            "type": "parcoords"
           }
          ],
          "pie": [
           {
            "automargin": true,
            "type": "pie"
           }
          ],
          "scatter": [
           {
            "marker": {
             "colorbar": {
              "outlinewidth": 0,
              "ticks": ""
             }
            },
            "type": "scatter"
           }
          ],
          "scatter3d": [
           {
            "line": {
             "colorbar": {
              "outlinewidth": 0,
              "ticks": ""
             }
            },
            "marker": {
             "colorbar": {
              "outlinewidth": 0,
              "ticks": ""
             }
            },
            "type": "scatter3d"
           }
          ],
          "scattercarpet": [
           {
            "marker": {
             "colorbar": {
              "outlinewidth": 0,
              "ticks": ""
             }
            },
            "type": "scattercarpet"
           }
          ],
          "scattergeo": [
           {
            "marker": {
             "colorbar": {
              "outlinewidth": 0,
              "ticks": ""
             }
            },
            "type": "scattergeo"
           }
          ],
          "scattergl": [
           {
            "marker": {
             "colorbar": {
              "outlinewidth": 0,
              "ticks": ""
             }
            },
            "type": "scattergl"
           }
          ],
          "scattermapbox": [
           {
            "marker": {
             "colorbar": {
              "outlinewidth": 0,
              "ticks": ""
             }
            },
            "type": "scattermapbox"
           }
          ],
          "scatterpolar": [
           {
            "marker": {
             "colorbar": {
              "outlinewidth": 0,
              "ticks": ""
             }
            },
            "type": "scatterpolar"
           }
          ],
          "scatterpolargl": [
           {
            "marker": {
             "colorbar": {
              "outlinewidth": 0,
              "ticks": ""
             }
            },
            "type": "scatterpolargl"
           }
          ],
          "scatterternary": [
           {
            "marker": {
             "colorbar": {
              "outlinewidth": 0,
              "ticks": ""
             }
            },
            "type": "scatterternary"
           }
          ],
          "surface": [
           {
            "colorbar": {
             "outlinewidth": 0,
             "ticks": ""
            },
            "colorscale": [
             [
              0,
              "#0d0887"
             ],
             [
              0.1111111111111111,
              "#46039f"
             ],
             [
              0.2222222222222222,
              "#7201a8"
             ],
             [
              0.3333333333333333,
              "#9c179e"
             ],
             [
              0.4444444444444444,
              "#bd3786"
             ],
             [
              0.5555555555555556,
              "#d8576b"
             ],
             [
              0.6666666666666666,
              "#ed7953"
             ],
             [
              0.7777777777777778,
              "#fb9f3a"
             ],
             [
              0.8888888888888888,
              "#fdca26"
             ],
             [
              1,
              "#f0f921"
             ]
            ],
            "type": "surface"
           }
          ],
          "table": [
           {
            "cells": {
             "fill": {
              "color": "#EBF0F8"
             },
             "line": {
              "color": "white"
             }
            },
            "header": {
             "fill": {
              "color": "#C8D4E3"
             },
             "line": {
              "color": "white"
             }
            },
            "type": "table"
           }
          ]
         },
         "layout": {
          "annotationdefaults": {
           "arrowcolor": "#2a3f5f",
           "arrowhead": 0,
           "arrowwidth": 1
          },
          "coloraxis": {
           "colorbar": {
            "outlinewidth": 0,
            "ticks": ""
           }
          },
          "colorscale": {
           "diverging": [
            [
             0,
             "#8e0152"
            ],
            [
             0.1,
             "#c51b7d"
            ],
            [
             0.2,
             "#de77ae"
            ],
            [
             0.3,
             "#f1b6da"
            ],
            [
             0.4,
             "#fde0ef"
            ],
            [
             0.5,
             "#f7f7f7"
            ],
            [
             0.6,
             "#e6f5d0"
            ],
            [
             0.7,
             "#b8e186"
            ],
            [
             0.8,
             "#7fbc41"
            ],
            [
             0.9,
             "#4d9221"
            ],
            [
             1,
             "#276419"
            ]
           ],
           "sequential": [
            [
             0,
             "#0d0887"
            ],
            [
             0.1111111111111111,
             "#46039f"
            ],
            [
             0.2222222222222222,
             "#7201a8"
            ],
            [
             0.3333333333333333,
             "#9c179e"
            ],
            [
             0.4444444444444444,
             "#bd3786"
            ],
            [
             0.5555555555555556,
             "#d8576b"
            ],
            [
             0.6666666666666666,
             "#ed7953"
            ],
            [
             0.7777777777777778,
             "#fb9f3a"
            ],
            [
             0.8888888888888888,
             "#fdca26"
            ],
            [
             1,
             "#f0f921"
            ]
           ],
           "sequentialminus": [
            [
             0,
             "#0d0887"
            ],
            [
             0.1111111111111111,
             "#46039f"
            ],
            [
             0.2222222222222222,
             "#7201a8"
            ],
            [
             0.3333333333333333,
             "#9c179e"
            ],
            [
             0.4444444444444444,
             "#bd3786"
            ],
            [
             0.5555555555555556,
             "#d8576b"
            ],
            [
             0.6666666666666666,
             "#ed7953"
            ],
            [
             0.7777777777777778,
             "#fb9f3a"
            ],
            [
             0.8888888888888888,
             "#fdca26"
            ],
            [
             1,
             "#f0f921"
            ]
           ]
          },
          "colorway": [
           "#636efa",
           "#EF553B",
           "#00cc96",
           "#ab63fa",
           "#FFA15A",
           "#19d3f3",
           "#FF6692",
           "#B6E880",
           "#FF97FF",
           "#FECB52"
          ],
          "font": {
           "color": "#2a3f5f"
          },
          "geo": {
           "bgcolor": "white",
           "lakecolor": "white",
           "landcolor": "#E5ECF6",
           "showlakes": true,
           "showland": true,
           "subunitcolor": "white"
          },
          "hoverlabel": {
           "align": "left"
          },
          "hovermode": "closest",
          "mapbox": {
           "style": "light"
          },
          "paper_bgcolor": "white",
          "plot_bgcolor": "#E5ECF6",
          "polar": {
           "angularaxis": {
            "gridcolor": "white",
            "linecolor": "white",
            "ticks": ""
           },
           "bgcolor": "#E5ECF6",
           "radialaxis": {
            "gridcolor": "white",
            "linecolor": "white",
            "ticks": ""
           }
          },
          "scene": {
           "xaxis": {
            "backgroundcolor": "#E5ECF6",
            "gridcolor": "white",
            "gridwidth": 2,
            "linecolor": "white",
            "showbackground": true,
            "ticks": "",
            "zerolinecolor": "white"
           },
           "yaxis": {
            "backgroundcolor": "#E5ECF6",
            "gridcolor": "white",
            "gridwidth": 2,
            "linecolor": "white",
            "showbackground": true,
            "ticks": "",
            "zerolinecolor": "white"
           },
           "zaxis": {
            "backgroundcolor": "#E5ECF6",
            "gridcolor": "white",
            "gridwidth": 2,
            "linecolor": "white",
            "showbackground": true,
            "ticks": "",
            "zerolinecolor": "white"
           }
          },
          "shapedefaults": {
           "line": {
            "color": "#2a3f5f"
           }
          },
          "ternary": {
           "aaxis": {
            "gridcolor": "white",
            "linecolor": "white",
            "ticks": ""
           },
           "baxis": {
            "gridcolor": "white",
            "linecolor": "white",
            "ticks": ""
           },
           "bgcolor": "#E5ECF6",
           "caxis": {
            "gridcolor": "white",
            "linecolor": "white",
            "ticks": ""
           }
          },
          "title": {
           "x": 0.05
          },
          "xaxis": {
           "automargin": true,
           "gridcolor": "white",
           "linecolor": "white",
           "ticks": "",
           "title": {
            "standoff": 15
           },
           "zerolinecolor": "white",
           "zerolinewidth": 2
          },
          "yaxis": {
           "automargin": true,
           "gridcolor": "white",
           "linecolor": "white",
           "ticks": "",
           "title": {
            "standoff": 15
           },
           "zerolinecolor": "white",
           "zerolinewidth": 2
          }
         }
        },
        "title": {
         "text": "Olympic Players - Regional Disparity (since 1985)"
        }
       }
      },
      "text/html": [
       "<div>\n",
       "        \n",
       "        \n",
       "            <div id=\"45e062eb-b4ff-461b-a612-736d90767b08\" class=\"plotly-graph-div\" style=\"height:525px; width:100%;\"></div>\n",
       "            <script type=\"text/javascript\">\n",
       "                require([\"plotly\"], function(Plotly) {\n",
       "                    window.PLOTLYENV=window.PLOTLYENV || {};\n",
       "                    \n",
       "                if (document.getElementById(\"45e062eb-b4ff-461b-a612-736d90767b08\")) {\n",
       "                    Plotly.newPlot(\n",
       "                        '45e062eb-b4ff-461b-a612-736d90767b08',\n",
       "                        [{\"autocolorscale\": false, \"colorbar\": {\"ticksuffix\": \"%\", \"title\": {\"text\": \"Disparity(%)<br>\"}}, \"colorscale\": [[0.0, \"rgb(247,251,255)\"], [0.125, \"rgb(222,235,247)\"], [0.25, \"rgb(198,219,239)\"], [0.375, \"rgb(158,202,225)\"], [0.5, \"rgb(107,174,214)\"], [0.625, \"rgb(66,146,198)\"], [0.75, \"rgb(33,113,181)\"], [0.875, \"rgb(8,81,156)\"], [1.0, \"rgb(8,48,107)\"]], \"locations\": [\"AFG\", \"ALB\", \"DZA\", \"ASM\", \"AND\", \"AGO\", \"AIA\", \"ATG\", \"ARG\", \"ARM\", \"ABW\", \"AUS\", \"AUT\", \"AZE\", \"BHM\", \"BHR\", \"BGD\", \"BRB\", \"BLR\", \"BEL\", \"BLZ\", \"BEN\", \"BMU\", \"BTN\", \"BOL\", \"BIH\", \"BWA\", \"BRA\", \"VGB\", \"BRN\", \"BGR\", \"BFA\", \"MMR\", \"BDI\", \"CPV\", \"KHM\", \"CMR\", \"CAN\", \"CYM\", \"CAF\", \"TCD\", \"CHL\", \"CHN\", \"COL\", \"COM\", \"COD\", \"COG\", \"COK\", \"CRI\", \"CIV\", \"HRV\", \"CUB\", \"CUW\", \"CYP\", \"CZE\", \"DNK\", \"DJI\", \"DMA\", \"DOM\", \"ECU\", \"EGY\", \"SLV\", \"GNQ\", \"ERI\", \"EST\", \"ETH\", \"FLK\", \"FRO\", \"FJI\", \"FIN\", \"FRA\", \"PYF\", \"GAB\", \"GMB\", \"GEO\", \"DEU\", \"GHA\", \"GIB\", \"GRC\", \"GRL\", \"GRD\", \"GUM\", \"GTM\", \"GGY\", \"GNB\", \"GIN\", \"GUY\", \"HTI\", \"HND\", \"HKG\", \"HUN\", \"ISL\", \"IND\", \"IDN\", \"IRN\", \"IRQ\", \"IRL\", \"IMN\", \"ISR\", \"ITA\", \"JAM\", \"JPN\", \"JEY\", \"JOR\", \"KAZ\", \"KEN\", \"KIR\", \"PRK\", \"KOR\", \"KSV\", \"KWT\", \"KGZ\", \"LAO\", \"LVA\", \"LBN\", \"LSO\", \"LBR\", \"LBY\", \"LIE\", \"LTU\", \"LUX\", \"MAC\", \"MKD\", \"MDG\", \"MWI\", \"MYS\", \"MDV\", \"MLI\", \"MLT\", \"MHL\", \"MRT\", \"MUS\", \"MEX\", \"FSM\", \"MDA\", \"MCO\", \"MNG\", \"MNE\", \"MAR\", \"MOZ\", \"NAM\", \"NPL\", \"NLD\", \"NCL\", \"NZL\", \"NIC\", \"NGA\", \"NER\", \"NIU\", \"MNP\", \"NOR\", \"OMN\", \"PAK\", \"PLW\", \"PAN\", \"PNG\", \"PRY\", \"PER\", \"PHL\", \"POL\", \"PRT\", \"PRI\", \"QAT\", \"ROU\", \"RUS\", \"RWA\", \"KNA\", \"LCA\", \"MAF\", \"SPM\", \"VCT\", \"WSM\", \"SMR\", \"STP\", \"SAU\", \"SEN\", \"SRB\", \"SYC\", \"SLE\", \"SGP\", \"SXM\", \"SVK\", \"SVN\", \"SLB\", \"SOM\", \"ZAF\", \"SSD\", \"ESP\", \"LKA\", \"SDN\", \"SUR\", \"SWZ\", \"SWE\", \"CHE\", \"SYR\", \"TWN\", \"TJK\", \"TZA\", \"THA\", \"TLS\", \"TGO\", \"TON\", \"TTO\", \"TUN\", \"TUR\", \"TKM\", \"TUV\", \"UGA\", \"UKR\", \"ARE\", \"GBR\", \"USA\", \"URY\", \"UZB\", \"VUT\", \"VEN\", \"VNM\", \"VGB\", \"WBG\", \"YEM\", \"ZMB\", \"ZWE\"], \"marker\": {\"line\": {\"color\": \"darkgray\", \"width\": 0.5}}, \"reversescale\": true, \"text\": [\"Afghanistan\", \"Albania\", \"Algeria\", \"American Samoa\", \"Andorra\", \"Angola\", \"Anguilla\", \"Antigua and Barbuda\", \"Argentina\", \"Armenia\", \"Aruba\", \"Australia\", \"Austria\", \"Azerbaijan\", \"Bahamas, The\", \"Bahrain\", \"Bangladesh\", \"Barbados\", \"Belarus\", \"Belgium\", \"Belize\", \"Benin\", \"Bermuda\", \"Bhutan\", \"Bolivia\", \"Bosnia and Herzegovina\", \"Botswana\", \"Brazil\", \"British Virgin Islands\", \"Brunei\", \"Bulgaria\", \"Burkina Faso\", \"Burma\", \"Burundi\", \"Cabo Verde\", \"Cambodia\", \"Cameroon\", \"Canada\", \"Cayman Islands\", \"Central African Republic\", \"Chad\", \"Chile\", \"China\", \"Colombia\", \"Comoros\", \"Congo, Democratic Republic of the\", \"Congo, Republic of the\", \"Cook Islands\", \"Costa Rica\", \"Cote d'Ivoire\", \"Croatia\", \"Cuba\", \"Curacao\", \"Cyprus\", \"Czech Republic\", \"Denmark\", \"Djibouti\", \"Dominica\", \"Dominican Republic\", \"Ecuador\", \"Egypt\", \"El Salvador\", \"Equatorial Guinea\", \"Eritrea\", \"Estonia\", \"Ethiopia\", \"Falkland Islands (Islas Malvinas)\", \"Faroe Islands\", \"Fiji\", \"Finland\", \"France\", \"French Polynesia\", \"Gabon\", \"Gambia, The\", \"Georgia\", \"Germany\", \"Ghana\", \"Gibraltar\", \"Greece\", \"Greenland\", \"Grenada\", \"Guam\", \"Guatemala\", \"Guernsey\", \"Guinea-Bissau\", \"Guinea\", \"Guyana\", \"Haiti\", \"Honduras\", \"Hong Kong\", \"Hungary\", \"Iceland\", \"India\", \"Indonesia\", \"Iran\", \"Iraq\", \"Ireland\", \"Isle of Man\", \"Israel\", \"Italy\", \"Jamaica\", \"Japan\", \"Jersey\", \"Jordan\", \"Kazakhstan\", \"Kenya\", \"Kiribati\", \"Korea, North\", \"Korea, South\", \"Kosovo\", \"Kuwait\", \"Kyrgyzstan\", \"Laos\", \"Latvia\", \"Lebanon\", \"Lesotho\", \"Liberia\", \"Libya\", \"Liechtenstein\", \"Lithuania\", \"Luxembourg\", \"Macau\", \"Macedonia\", \"Madagascar\", \"Malawi\", \"Malaysia\", \"Maldives\", \"Mali\", \"Malta\", \"Marshall Islands\", \"Mauritania\", \"Mauritius\", \"Mexico\", \"Micronesia, Federated States of\", \"Moldova\", \"Monaco\", \"Mongolia\", \"Montenegro\", \"Morocco\", \"Mozambique\", \"Namibia\", \"Nepal\", \"Netherlands\", \"New Caledonia\", \"New Zealand\", \"Nicaragua\", \"Nigeria\", \"Niger\", \"Niue\", \"Northern Mariana Islands\", \"Norway\", \"Oman\", \"Pakistan\", \"Palau\", \"Panama\", \"Papua New Guinea\", \"Paraguay\", \"Peru\", \"Philippines\", \"Poland\", \"Portugal\", \"Puerto Rico\", \"Qatar\", \"Romania\", \"Russia\", \"Rwanda\", \"Saint Kitts and Nevis\", \"Saint Lucia\", \"Saint Martin\", \"Saint Pierre and Miquelon\", \"Saint Vincent and the Grenadines\", \"Samoa\", \"San Marino\", \"Sao Tome and Principe\", \"Saudi Arabia\", \"Senegal\", \"Serbia\", \"Seychelles\", \"Sierra Leone\", \"Singapore\", \"Sint Maarten\", \"Slovakia\", \"Slovenia\", \"Solomon Islands\", \"Somalia\", \"South Africa\", \"South Sudan\", \"Spain\", \"Sri Lanka\", \"Sudan\", \"Suriname\", \"Swaziland\", \"Sweden\", \"Switzerland\", \"Syria\", \"Taiwan\", \"Tajikistan\", \"Tanzania\", \"Thailand\", \"Timor-Leste\", \"Togo\", \"Tonga\", \"Trinidad and Tobago\", \"Tunisia\", \"Turkey\", \"Turkmenistan\", \"Tuvalu\", \"Uganda\", \"Ukraine\", \"United Arab Emirates\", \"United Kingdom\", \"United States\", \"Uruguay\", \"Uzbekistan\", \"Vanuatu\", \"Venezuela\", \"Vietnam\", \"Virgin Islands\", \"West Bank\", \"Yemen\", \"Zambia\", \"Zimbabwe\"], \"type\": \"choropleth\", \"z\": [60, 25, 65, 65, 30, 2, 0, 0, 42, 61, 31, 17, 38, 50, 0, 46, 47, 64, 12, 31, 66, 55, 42, -23, 46, 39, 82, 26, 78, 55, 27, 35, -11, 36, 7, 4, 33, 11, 62, 46, 52, 63, -6, 32, 6, 34, 38, 33, 55, 20, 46, 35, 46, 35, 34, 22, 64, 17, 44, 36, 65, 29, 38, 76, 40, 19, 0, 0, 38, 35, 31, 0, 61, 0, 60, 22, 64, 0, 19, 0, 36, 36, 60, 0, 6, 26, 52, 40, 69, 0, 26, 52, 42, 24, 82, 89, 41, 0, 25, 33, 18, 16, 0, 37, 22, 44, 33, -18, 23, -25, 95, 51, 58, 45, 58, 52, 48, 68, 44, 43, 19, 0, 19, 13, 59, 45, 41, 31, 19, 0, 54, 25, 36, 0, 51, 85, 42, 12, 66, 43, 45, 22, 11, 0, 18, 56, 28, 45, 0, 0, 28, 80, 86, -4, 39, 50, 64, 11, 55, 34, 52, 51, 92, 8, 17, 35, 0, 4, 0, 0, 0, 66, 68, 23, 93, 33, 52, 53, 48, 0, 0, 40, 35, 40, 47, 33, 33, 30, 22, 62, 42, 65, 26, 31, 70, 18, 46, 75, 18, -25, 54, 68, 0, 63, 34, 12, 0, 56, 8, 82, 18, 16, 71, 46, 36, 43, -6, 61, 0, 81, 78, 25]}],\n",
       "                        {\"geo\": {\"projection\": {\"type\": \"equirectangular\"}, \"showcoastlines\": false, \"showframe\": false}, \"template\": {\"data\": {\"bar\": [{\"error_x\": {\"color\": \"#2a3f5f\"}, \"error_y\": {\"color\": \"#2a3f5f\"}, \"marker\": {\"line\": {\"color\": \"#E5ECF6\", \"width\": 0.5}}, \"type\": \"bar\"}], \"barpolar\": [{\"marker\": {\"line\": {\"color\": \"#E5ECF6\", \"width\": 0.5}}, \"type\": \"barpolar\"}], \"carpet\": [{\"aaxis\": {\"endlinecolor\": \"#2a3f5f\", \"gridcolor\": \"white\", \"linecolor\": \"white\", \"minorgridcolor\": \"white\", \"startlinecolor\": \"#2a3f5f\"}, \"baxis\": {\"endlinecolor\": \"#2a3f5f\", \"gridcolor\": \"white\", \"linecolor\": \"white\", \"minorgridcolor\": \"white\", \"startlinecolor\": \"#2a3f5f\"}, \"type\": \"carpet\"}], \"choropleth\": [{\"colorbar\": {\"outlinewidth\": 0, \"ticks\": \"\"}, \"type\": \"choropleth\"}], \"contour\": [{\"colorbar\": {\"outlinewidth\": 0, \"ticks\": \"\"}, \"colorscale\": [[0.0, \"#0d0887\"], [0.1111111111111111, \"#46039f\"], [0.2222222222222222, \"#7201a8\"], [0.3333333333333333, \"#9c179e\"], [0.4444444444444444, \"#bd3786\"], [0.5555555555555556, \"#d8576b\"], [0.6666666666666666, \"#ed7953\"], [0.7777777777777778, \"#fb9f3a\"], [0.8888888888888888, \"#fdca26\"], [1.0, \"#f0f921\"]], \"type\": \"contour\"}], \"contourcarpet\": [{\"colorbar\": {\"outlinewidth\": 0, \"ticks\": \"\"}, \"type\": \"contourcarpet\"}], \"heatmap\": [{\"colorbar\": {\"outlinewidth\": 0, \"ticks\": \"\"}, \"colorscale\": [[0.0, \"#0d0887\"], [0.1111111111111111, \"#46039f\"], [0.2222222222222222, \"#7201a8\"], [0.3333333333333333, \"#9c179e\"], [0.4444444444444444, \"#bd3786\"], [0.5555555555555556, \"#d8576b\"], [0.6666666666666666, \"#ed7953\"], [0.7777777777777778, \"#fb9f3a\"], [0.8888888888888888, \"#fdca26\"], [1.0, \"#f0f921\"]], \"type\": \"heatmap\"}], \"heatmapgl\": [{\"colorbar\": {\"outlinewidth\": 0, \"ticks\": \"\"}, \"colorscale\": [[0.0, \"#0d0887\"], [0.1111111111111111, \"#46039f\"], [0.2222222222222222, \"#7201a8\"], [0.3333333333333333, \"#9c179e\"], [0.4444444444444444, \"#bd3786\"], [0.5555555555555556, \"#d8576b\"], [0.6666666666666666, \"#ed7953\"], [0.7777777777777778, \"#fb9f3a\"], [0.8888888888888888, \"#fdca26\"], [1.0, \"#f0f921\"]], \"type\": \"heatmapgl\"}], \"histogram\": [{\"marker\": {\"colorbar\": {\"outlinewidth\": 0, \"ticks\": \"\"}}, \"type\": \"histogram\"}], \"histogram2d\": [{\"colorbar\": {\"outlinewidth\": 0, \"ticks\": \"\"}, \"colorscale\": [[0.0, \"#0d0887\"], [0.1111111111111111, \"#46039f\"], [0.2222222222222222, \"#7201a8\"], [0.3333333333333333, \"#9c179e\"], [0.4444444444444444, \"#bd3786\"], [0.5555555555555556, \"#d8576b\"], [0.6666666666666666, \"#ed7953\"], [0.7777777777777778, \"#fb9f3a\"], [0.8888888888888888, \"#fdca26\"], [1.0, \"#f0f921\"]], \"type\": \"histogram2d\"}], \"histogram2dcontour\": [{\"colorbar\": {\"outlinewidth\": 0, \"ticks\": \"\"}, \"colorscale\": [[0.0, \"#0d0887\"], [0.1111111111111111, \"#46039f\"], [0.2222222222222222, \"#7201a8\"], [0.3333333333333333, \"#9c179e\"], [0.4444444444444444, \"#bd3786\"], [0.5555555555555556, \"#d8576b\"], [0.6666666666666666, \"#ed7953\"], [0.7777777777777778, \"#fb9f3a\"], [0.8888888888888888, \"#fdca26\"], [1.0, \"#f0f921\"]], \"type\": \"histogram2dcontour\"}], \"mesh3d\": [{\"colorbar\": {\"outlinewidth\": 0, \"ticks\": \"\"}, \"type\": \"mesh3d\"}], \"parcoords\": [{\"line\": {\"colorbar\": {\"outlinewidth\": 0, \"ticks\": \"\"}}, \"type\": \"parcoords\"}], \"pie\": [{\"automargin\": true, \"type\": \"pie\"}], \"scatter\": [{\"marker\": {\"colorbar\": {\"outlinewidth\": 0, \"ticks\": \"\"}}, \"type\": \"scatter\"}], \"scatter3d\": [{\"line\": {\"colorbar\": {\"outlinewidth\": 0, \"ticks\": \"\"}}, \"marker\": {\"colorbar\": {\"outlinewidth\": 0, \"ticks\": \"\"}}, \"type\": \"scatter3d\"}], \"scattercarpet\": [{\"marker\": {\"colorbar\": {\"outlinewidth\": 0, \"ticks\": \"\"}}, \"type\": \"scattercarpet\"}], \"scattergeo\": [{\"marker\": {\"colorbar\": {\"outlinewidth\": 0, \"ticks\": \"\"}}, \"type\": \"scattergeo\"}], \"scattergl\": [{\"marker\": {\"colorbar\": {\"outlinewidth\": 0, \"ticks\": \"\"}}, \"type\": \"scattergl\"}], \"scattermapbox\": [{\"marker\": {\"colorbar\": {\"outlinewidth\": 0, \"ticks\": \"\"}}, \"type\": \"scattermapbox\"}], \"scatterpolar\": [{\"marker\": {\"colorbar\": {\"outlinewidth\": 0, \"ticks\": \"\"}}, \"type\": \"scatterpolar\"}], \"scatterpolargl\": [{\"marker\": {\"colorbar\": {\"outlinewidth\": 0, \"ticks\": \"\"}}, \"type\": \"scatterpolargl\"}], \"scatterternary\": [{\"marker\": {\"colorbar\": {\"outlinewidth\": 0, \"ticks\": \"\"}}, \"type\": \"scatterternary\"}], \"surface\": [{\"colorbar\": {\"outlinewidth\": 0, \"ticks\": \"\"}, \"colorscale\": [[0.0, \"#0d0887\"], [0.1111111111111111, \"#46039f\"], [0.2222222222222222, \"#7201a8\"], [0.3333333333333333, \"#9c179e\"], [0.4444444444444444, \"#bd3786\"], [0.5555555555555556, \"#d8576b\"], [0.6666666666666666, \"#ed7953\"], [0.7777777777777778, \"#fb9f3a\"], [0.8888888888888888, \"#fdca26\"], [1.0, \"#f0f921\"]], \"type\": \"surface\"}], \"table\": [{\"cells\": {\"fill\": {\"color\": \"#EBF0F8\"}, \"line\": {\"color\": \"white\"}}, \"header\": {\"fill\": {\"color\": \"#C8D4E3\"}, \"line\": {\"color\": \"white\"}}, \"type\": \"table\"}]}, \"layout\": {\"annotationdefaults\": {\"arrowcolor\": \"#2a3f5f\", \"arrowhead\": 0, \"arrowwidth\": 1}, \"coloraxis\": {\"colorbar\": {\"outlinewidth\": 0, \"ticks\": \"\"}}, \"colorscale\": {\"diverging\": [[0, \"#8e0152\"], [0.1, \"#c51b7d\"], [0.2, \"#de77ae\"], [0.3, \"#f1b6da\"], [0.4, \"#fde0ef\"], [0.5, \"#f7f7f7\"], [0.6, \"#e6f5d0\"], [0.7, \"#b8e186\"], [0.8, \"#7fbc41\"], [0.9, \"#4d9221\"], [1, \"#276419\"]], \"sequential\": [[0.0, \"#0d0887\"], [0.1111111111111111, \"#46039f\"], [0.2222222222222222, \"#7201a8\"], [0.3333333333333333, \"#9c179e\"], [0.4444444444444444, \"#bd3786\"], [0.5555555555555556, \"#d8576b\"], [0.6666666666666666, \"#ed7953\"], [0.7777777777777778, \"#fb9f3a\"], [0.8888888888888888, \"#fdca26\"], [1.0, \"#f0f921\"]], \"sequentialminus\": [[0.0, \"#0d0887\"], [0.1111111111111111, \"#46039f\"], [0.2222222222222222, \"#7201a8\"], [0.3333333333333333, \"#9c179e\"], [0.4444444444444444, \"#bd3786\"], [0.5555555555555556, \"#d8576b\"], [0.6666666666666666, \"#ed7953\"], [0.7777777777777778, \"#fb9f3a\"], [0.8888888888888888, \"#fdca26\"], [1.0, \"#f0f921\"]]}, \"colorway\": [\"#636efa\", \"#EF553B\", \"#00cc96\", \"#ab63fa\", \"#FFA15A\", \"#19d3f3\", \"#FF6692\", \"#B6E880\", \"#FF97FF\", \"#FECB52\"], \"font\": {\"color\": \"#2a3f5f\"}, \"geo\": {\"bgcolor\": \"white\", \"lakecolor\": \"white\", \"landcolor\": \"#E5ECF6\", \"showlakes\": true, \"showland\": true, \"subunitcolor\": \"white\"}, \"hoverlabel\": {\"align\": \"left\"}, \"hovermode\": \"closest\", \"mapbox\": {\"style\": \"light\"}, \"paper_bgcolor\": \"white\", \"plot_bgcolor\": \"#E5ECF6\", \"polar\": {\"angularaxis\": {\"gridcolor\": \"white\", \"linecolor\": \"white\", \"ticks\": \"\"}, \"bgcolor\": \"#E5ECF6\", \"radialaxis\": {\"gridcolor\": \"white\", \"linecolor\": \"white\", \"ticks\": \"\"}}, \"scene\": {\"xaxis\": {\"backgroundcolor\": \"#E5ECF6\", \"gridcolor\": \"white\", \"gridwidth\": 2, \"linecolor\": \"white\", \"showbackground\": true, \"ticks\": \"\", \"zerolinecolor\": \"white\"}, \"yaxis\": {\"backgroundcolor\": \"#E5ECF6\", \"gridcolor\": \"white\", \"gridwidth\": 2, \"linecolor\": \"white\", \"showbackground\": true, \"ticks\": \"\", \"zerolinecolor\": \"white\"}, \"zaxis\": {\"backgroundcolor\": \"#E5ECF6\", \"gridcolor\": \"white\", \"gridwidth\": 2, \"linecolor\": \"white\", \"showbackground\": true, \"ticks\": \"\", \"zerolinecolor\": \"white\"}}, \"shapedefaults\": {\"line\": {\"color\": \"#2a3f5f\"}}, \"ternary\": {\"aaxis\": {\"gridcolor\": \"white\", \"linecolor\": \"white\", \"ticks\": \"\"}, \"baxis\": {\"gridcolor\": \"white\", \"linecolor\": \"white\", \"ticks\": \"\"}, \"bgcolor\": \"#E5ECF6\", \"caxis\": {\"gridcolor\": \"white\", \"linecolor\": \"white\", \"ticks\": \"\"}}, \"title\": {\"x\": 0.05}, \"xaxis\": {\"automargin\": true, \"gridcolor\": \"white\", \"linecolor\": \"white\", \"ticks\": \"\", \"title\": {\"standoff\": 15}, \"zerolinecolor\": \"white\", \"zerolinewidth\": 2}, \"yaxis\": {\"automargin\": true, \"gridcolor\": \"white\", \"linecolor\": \"white\", \"ticks\": \"\", \"title\": {\"standoff\": 15}, \"zerolinecolor\": \"white\", \"zerolinewidth\": 2}}}, \"title\": {\"text\": \"Olympic Players - Regional Disparity (since 1985)\"}},\n",
       "                        {\"responsive\": true}\n",
       "                    ).then(function(){\n",
       "                            \n",
       "var gd = document.getElementById('45e062eb-b4ff-461b-a612-736d90767b08');\n",
       "var x = new MutationObserver(function (mutations, observer) {{\n",
       "        var display = window.getComputedStyle(gd).display;\n",
       "        if (!display || display === 'none') {{\n",
       "            console.log([gd, 'removed!']);\n",
       "            Plotly.purge(gd);\n",
       "            observer.disconnect();\n",
       "        }}\n",
       "}});\n",
       "\n",
       "// Listen for the removal of the full notebook cells\n",
       "var notebookContainer = gd.closest('#notebook-container');\n",
       "if (notebookContainer) {{\n",
       "    x.observe(notebookContainer, {childList: true});\n",
       "}}\n",
       "\n",
       "// Listen for the clearing of the current output cell\n",
       "var outputEl = gd.closest('.output');\n",
       "if (outputEl) {{\n",
       "    x.observe(outputEl, {childList: true});\n",
       "}}\n",
       "\n",
       "                        })\n",
       "                };\n",
       "                });\n",
       "            </script>\n",
       "        </div>"
      ]
     },
     "metadata": {},
     "output_type": "display_data"
    },
    {
     "name": "stdout",
     "output_type": "stream",
     "text": [
      "Total countriess with disparity > 75.0 = 14\n"
     ]
    },
    {
     "data": {
      "image/png": "[encoded data removed]",
      "text/plain": [
       "<Figure size 864x504 with 1 Axes>"
      ]
     },
     "metadata": {
      "needs_background": "light"
     },
     "output_type": "display_data"
    }
   ],
   "source": [
    "#Query total players from different regions based on their sex - Include datapoints for all the years\n",
    "\n",
    "male_reg_stats = pysqldf(\"SELECT Region, COUNT(DISTINCT ID) AS NumMalePlayers \\\n",
    "                        FROM player_stats \\\n",
    "                        WHERE NOT(Region ISNULL) AND SEX='M' AND Year>1980\\\n",
    "                        GROUP BY Region \")\n",
    "\n",
    "\n",
    "female_reg_stats = pysqldf(\"SELECT Region, COUNT(DISTINCT ID) AS NumFemalePlayers \\\n",
    "                        FROM player_stats \\\n",
    "                        WHERE NOT(Region ISNULL) AND SEX='F' AND Year>1980\\\n",
    "                        GROUP BY Sex, Region \")\n",
    "\n",
    "\n",
    "mf_reg_stats = pysqldf(\"SELECT ml.Region AS Region, ml.NumMalePlayers AS NumMalePlayers, \\\n",
    "                        fm.NumFemalePlayers AS NuMFemalePlayers, \\\n",
    "                        (ml.NumMalePlayers - fm.NumFemalePlayers) AS Disparity,\\\n",
    "                        (ml.NumMalePlayers - fm.NumFemalePlayers)*100/(ml.NumMalePlayers + fm.NumFemalePlayers) AS Disparity_pct\\\n",
    "                        FROM male_reg_stats AS ml LEFT JOIN female_reg_stats AS fm\\\n",
    "                        ON ml.Region=fm.Region\\\n",
    "                        ORDER BY  Region \")\n",
    "\n",
    "mf_reg_stats_corrected = pysqldf(\"SELECT *, \\\n",
    "                                 (CASE WHEN Region='Boliva' THEN 'Bolivia'\\\n",
    "                                      WHEN Region='Cape Verde' THEN 'Cabo Verde'\\\n",
    "                                      WHEN Region='Democratic Republic of the Congo' THEN 'Congo, Democratic Republic of the'\\\n",
    "                                      WHEN Region='Ivory Coast' THEN 'Cote d''Ivoire'\\\n",
    "                                      WHEN Region='Myanmar' THEN 'Burma'\\\n",
    "                                      WHEN Region='North Korea' THEN 'Korea, North'\\\n",
    "                                      WHEN Region='Republic of Congo' THEN 'Congo, Republic of the'\\\n",
    "                                      WHEN Region='South Korea' THEN 'Korea, South' \\\n",
    "                                      WHEN Region='UK' THEN 'United Kingdom'\\\n",
    "                                      WHEN Region='USA' THEN 'United States'\\\n",
    "                                      WHEN Region='Virgin Islands, British' THEN 'British Virgin Islands'\\\n",
    "                                      WHEN Region='Virgin Islands, US' THEN 'Virgin Islands' \\\n",
    "                                      ELSE Region END) AS Country\\\n",
    "                                 FROM mf_reg_stats \")\n",
    "\n",
    "#print(sorted(mf_reg_stats_corrected.Country.unique()))\n",
    "\n",
    "#Look at countries where more than 75% of players are males (can be changed here)\n",
    "disparity_pct_cutoff = 75.0\n",
    "\n",
    "\n",
    "\n",
    "#px.data.gapminder().query(\"year==2007\")\n",
    "df = pysqldf(\"SELECT mapdata.*, COALESCE(mf_reg_stats_corrected.Disparity_pct,0) AS Disparity_pct FROM mapdata LEFT JOIN mf_reg_stats_corrected ON mapdata.COUNTRY=mf_reg_stats_corrected.Country\")\n",
    "\n",
    "\n",
    "fig = go.Figure(data=go.Choropleth(\n",
    "    locations = df['CODE'],\n",
    "    z = df['Disparity_pct'],\n",
    "    text = df['COUNTRY'],\n",
    "    colorscale = 'Blues',\n",
    "    autocolorscale=False,\n",
    "    reversescale=True,\n",
    "    marker_line_color='darkgray',\n",
    "    marker_line_width=0.5,\n",
    "    colorbar_ticksuffix = '%',\n",
    "    colorbar_title = 'Disparity(%)<br>',\n",
    "))\n",
    "\n",
    "fig.update_layout(\n",
    "    title_text='Olympic Players - Regional Disparity (since 1985)',\n",
    "    geo=dict(\n",
    "        showframe=False,\n",
    "        showcoastlines=False,\n",
    "        projection_type='equirectangular'\n",
    "    ),\n",
    "    \n",
    ")\n",
    "\n",
    "fig.show()\n",
    "\n",
    "print(\"Total countriess with disparity > {} = {}\".format(disparity_pct_cutoff,mf_reg_stats[mf_reg_stats.Disparity_pct>disparity_pct_cutoff].Region.unique().size ))\n",
    "fig, (ax2) = plt.subplots(1,1, figsize=(12,7), sharex=True)\n",
    "\n",
    "ax2.scatter(mf_reg_stats[mf_reg_stats.Disparity_pct>disparity_pct_cutoff].Region,\\\n",
    "            mf_reg_stats[mf_reg_stats.Disparity_pct>disparity_pct_cutoff].Disparity_pct, marker='x')\n",
    "ax2.set_xlabel('Region')\n",
    "ax2.set_ylabel('% Difference')\n",
    "ax2.tick_params(labelrotation=90)\n",
    "\n",
    "plt.tight_layout()\n",
    "plt.show()\n",
    "plt.close()"
   ]
  },
  {
   "cell_type": "markdown",
   "metadata": {},
   "source": [
    "As can be seen from above plots, the situation around the world has considerably improved. For most developed countries and developing countries, the disparity is less than 40%. Countries like China and Burma has reversed the trend with more female players than male players participating in the Olympics. The situation has also improved in many Islamic nations with disparity reducing to less than 70% though for some countries like Iran, Iraq, Saudi Arabia etc, even in the modern times, the situation hasn't changed much which can be concerning issue. \n",
    "The above plot shows countries with more htan 75% disparity and is predominantly occupied by Islamic nations. To see if the disparity has actually changed with time, let's look at disparity as function of time (for all regions combined). "
   ]
  },
  {
   "cell_type": "code",
   "execution_count": 265,
   "metadata": {},
   "outputs": [
    {
     "name": "stdout",
     "output_type": "stream",
     "text": [
      "   Year  NumMalePlayers  NuMFemalePlayers  Disparity  Disparity_pct\n",
      "0  1896             176                 0        176            100\n",
      "1  1900            1201                23       1178             96\n",
      "2  1904             644                 6        638             98\n",
      "3  1906             835                 6        829             98\n",
      "4  1908            1980                44       1936             95\n",
      "5  1912            2356                53       2303             95\n",
      "6  1920            2598                78       2520             94\n",
      "7  1924            3396               169       3227             90\n",
      "8  1928            3363               340       3023             81\n",
      "9  1932            1952               222       1730             79\n"
     ]
    }
   ],
   "source": [
    "male_year_stats = pysqldf(\"SELECT Year, COUNT(DISTINCT ID) AS NumMalePlayers \\\n",
    "                        FROM player_stats \\\n",
    "                        WHERE SEX='M' \\\n",
    "                        GROUP BY Year \")\n",
    "\n",
    "\n",
    "female_year_stats = pysqldf(\"SELECT Year, COUNT(DISTINCT ID) AS NumFemalePlayers \\\n",
    "                        FROM player_stats \\\n",
    "                        WHERE SEX='F' \\\n",
    "                        GROUP BY Year \")\n",
    "\n",
    "\n",
    "mf_year_stats = pysqldf(\"SELECT ml.Year AS Year, COALESCE(ml.NumMalePlayers,0) AS NumMalePlayers, \\\n",
    "                        COALESCE(fm.NumFemalePlayers,0) AS NuMFemalePlayers, \\\n",
    "                        (COALESCE(ml.NumMalePlayers,0) - COALESCE(fm.NumFemalePlayers,0)) AS Disparity,\\\n",
    "                        (COALESCE(ml.NumMalePlayers,0) - COALESCE(fm.NumFemalePlayers,0))*100/(COALESCE(ml.NumMalePlayers,0) + COALESCE(fm.NumFemalePlayers,0)) AS Disparity_pct\\\n",
    "                        FROM male_year_stats AS ml LEFT JOIN female_year_stats AS fm\\\n",
    "                        ON ml.Year=fm.Year\\\n",
    "                        ORDER BY Year \")\n",
    "\n",
    "print(mf_year_stats.head(10))"
   ]
  },
  {
   "cell_type": "code",
   "execution_count": null,
   "metadata": {},
   "outputs": [],
   "source": [
    "plt.plot(mf_year_stats.Year, mf_year)"
   ]
  },
  {
   "cell_type": "markdown",
   "metadata": {
    "collapsed": true
   },
   "source": [
    "##  Player's Age and Sport Type\n",
    "\n",
    "To analyse this, let's look at the average age of players as function of sports they play. "
   ]
  },
  {
   "cell_type": "code",
   "execution_count": 254,
   "metadata": {},
   "outputs": [
    {
     "name": "stdout",
     "output_type": "stream",
     "text": [
      "Median age for all players = 25.809714214873765 \n",
      "Mean age of all players = 27.2500319247797 \n",
      "Standard Deviation = 5.345131999498751\n"
     ]
    },
    {
     "data": {
      "image/png": "[encoded data removed]",
      "text/plain": [
       "<Figure size 1080x432 with 1 Axes>"
      ]
     },
     "metadata": {
      "needs_background": "light"
     },
     "output_type": "display_data"
    }
   ],
   "source": [
    "# Query to find the average age for each sportss\n",
    "age_stats = pysqldf(\"SELECT  Sport, AVG(Age) AS Avg_Age \\\n",
    "                    FROM \\\n",
    "                         (SELECT  ID, Sport, Age  \\\n",
    "                          FROM player_stats \\\n",
    "                          WHERE NOT(Age ISNULL) \\\n",
    "                          GROUP BY ID, Age )\\\n",
    "                    GROUP BY Sport\")\n",
    "\n",
    "#Let's compute the basic stats - Mean, median and standard deviation\n",
    "mean_age = age_stats.Avg_Age.mean()\n",
    "std_dev = age_stats.Avg_Age.std()\n",
    "median_age = age_stats.Avg_Age.median()\n",
    "print(\"Median age for all players = {} \\nMean age of all players = {} \\nStandard Deviation = {}\"\\\n",
    "      .format(age_stats.Avg_Age.median(),age_stats.Avg_Age.mean(), age_stats.Avg_Age.std()))\n",
    "\n",
    "#Let's plot the data\n",
    "plt.figure(figsize=(15,6))\n",
    "plt.scatter(np.arange(len(age_stats.Sport)), age_stats.Avg_Age)#, align='center', alpha=0.5)\n",
    "plt.bar(np.arange(len(age_stats.Sport)), age_stats.Avg_Age, align='center', alpha=0.5)\n",
    "plt.xticks(np.arange(len(age_stats.Sport)), age_stats.Sport)\n",
    "#plt.axhline(y=25)\n",
    "plt.axhline(y=mean_age+std_dev, ls='--', c='r',label=\"Mean+Std Dev\")\n",
    "plt.axhline(y=median_age, label='Median Age')\n",
    "plt.axhline(y=mean_age-std_dev,  ls='--', c='r',label=\"Mean-Std Dev\")\n",
    "\n",
    "plt.xlabel('Sport Type')\n",
    "plt.ylabel('Average Age')\n",
    "plt.tick_params(labelrotation=90)\n",
    "plt.legend()\n",
    "plt.show()\n",
    "plt.close()"
   ]
  },
  {
   "cell_type": "markdown",
   "metadata": {},
   "source": [
    "**Analysis** - The plot above shows that for most sports, the average age falls in the bracket of $27.2  \\pm  5.3$ years. Hence, there doesn't seem any strong dependence between the average and sport type. There are some clear outliers such as Alpinism, Art Competitions, Equestrianism, Motorboating, Polo, Rhythmic Gymnastics, Roque and Swimming. For Alpinism, Art Competitions, Equestrianism, Motorboating, Polo, and Roque, the average age is significantly higher than average which suggests that experience is more relevant in these sports. On the other hand, for swimming and gymnastics, agility is favoured over experience. \n",
    "\n",
    "\n",
    "To check out hypothesis, let's compute the correlation between average age and sports category. \n",
    "**In the next assignment - **\n",
    "\n",
    "It would be interesting to compare how this distribution and the conclusion change when we consider only the top contenders from each sport event. Note that, here we assume that the average age of players  would not be significantly affected over the years and ignore the variations of mean age over time for each sport. \n",
    "\n"
   ]
  },
  {
   "cell_type": "code",
   "execution_count": null,
   "metadata": {},
   "outputs": [],
   "source": []
  },
  {
   "cell_type": "markdown",
   "metadata": {},
   "source": [
    "## Dominance of Countries\n",
    "\n",
    "Here we want to look at the performance of countries in the olympics and wish to see if certain countries have always dominated majority of olympic events over the years or if there is uniform variation across the sport events and leading countries have changed over the years. \n",
    "\n",
    "To do this, let's first look at the top ten leading countries in total events tally for all the olympic events. We  can also rank them based on event tally for each game and look at countries which have consistently finished in top ten. Here we use both these statistics and compare them at the end. "
   ]
  },
  {
   "cell_type": "code",
   "execution_count": 6,
   "metadata": {},
   "outputs": [
    {
     "name": "stdout",
     "output_type": "stream",
     "text": [
      "<class 'pandas.core.frame.DataFrame'>\n",
      "RangeIndex: 270746 entries, 0 to 270745\n",
      "Data columns (total 7 columns):\n",
      " #   Column  Non-Null Count   Dtype \n",
      "---  ------  --------------   ----- \n",
      " 0   ID      270746 non-null  int64 \n",
      " 1   Games   270746 non-null  object\n",
      " 2   Year    270746 non-null  int64 \n",
      " 3   Event   270746 non-null  object\n",
      " 4   Sport   270746 non-null  object\n",
      " 5   Region  270746 non-null  object\n",
      " 6   Medal   270746 non-null  object\n",
      "dtypes: int64(2), object(5)\n",
      "memory usage: 14.5+ MB\n"
     ]
    }
   ],
   "source": [
    "#Let's remove the records with  no regions\n",
    "games_with_only_medals = pysqldf(\"SELECT ID, Games, Year, Event, Sport, Region, COALESCE(Medal, 'None') AS Medal\\\n",
    "                                FROM player_stats \\\n",
    "                                WHERE NOT(Region ISNULL)\")\n",
    "games_with_only_medals.info()\n"
   ]
  },
  {
   "cell_type": "code",
   "execution_count": 13,
   "metadata": {},
   "outputs": [
    {
     "name": "stdout",
     "output_type": "stream",
     "text": [
      "Total number of events played in all the games = 6192\n",
      "\n",
      "It might seem peculiar that although number of events are 6192, but number of medals are more then 3 times of this. However, recall that in Olympics, apart from individual events, there are also team events where instead of 3, there can be more than 45 medals awarded per such event. For example, In Rugby Men's Team event for year 1900 had 47 medals awarded in total (Check the stats below)\n"
     ]
    }
   ],
   "source": [
    "#Now let's look at total number of events played during these games\n",
    "total_events = pysqldf(\"SELECT Games, Year, Event\\\n",
    "                       FROM games_with_only_medals\\\n",
    "                       GROUP BY Games, Year, Event\")\n",
    "\n",
    "#print(total_events.Event.unique())\n",
    "num_total_events = total_events.Event.size\n",
    "print(\"Total number of events played in all the games = {}\\n\".format(total_events.Event.size))\n",
    "print(\"It might seem peculiar that although number of events are {}, but number of medals are more then 3 times \\\n",
    "of this. However, recall that in Olympics, apart from individual events, there are also team events where instead \\\n",
    "of 3, there can be more than 45 medals awarded per such event. For example, In Rugby Men's Team event for year \\\n",
    "1900 had 47 medals awarded in total (Check the stats below)\".format(total_events.Event.size))"
   ]
  },
  {
   "cell_type": "code",
   "execution_count": 24,
   "metadata": {},
   "outputs": [
    {
     "name": "stdout",
     "output_type": "stream",
     "text": [
      "Total medals awarded = 47\n"
     ]
    }
   ],
   "source": [
    "#Example - Rugby Men's Team event for year 1900 had 47 medals awarded in total\n",
    "pd.set_option('display.max_colwidth', 100)\n",
    "rugby_medals = pysqldf(\"SELECT COUNT(Medal) AS 'Total Medals Awarded'\\\n",
    "                        FROM (\\\n",
    "                              SELECT Games, Year, Event, Region, ID, Medal\\\n",
    "                              FROM games_with_only_medals\\\n",
    "                              WHERE Event LIKE '%Rugby Men%'\\\n",
    "                              AND Year=1900\\\n",
    "                              GROUP BY Games, Year, Event, Medal, ID)\\\n",
    "                       \")\n",
    "\n",
    "print(\"Total medals awarded = {}\".format(int(rugby_medals[\"Total Medals Awarded\"])))\n"
   ]
  },
  {
   "cell_type": "code",
   "execution_count": 26,
   "metadata": {
    "scrolled": false
   },
   "outputs": [
    {
     "name": "stdout",
     "output_type": "stream",
     "text": [
      "Top 5 countries which won highest number of events -  \n",
      "    Region  Total_Events_Won  Event_Won_Pct\n",
      "0      USA              2110      34.076227\n",
      "1   Russia              1638      26.453488\n",
      "2  Germany              1510      24.386305\n",
      "3       UK               790      12.758398\n",
      "4   France               767      12.386951\n"
     ]
    },
    {
     "data": {
      "image/png": "[encoded data removed]",
      "text/plain": [
       "<Figure size 1080x432 with 1 Axes>"
      ]
     },
     "metadata": {
      "needs_background": "light"
     },
     "output_type": "display_data"
    }
   ],
   "source": [
    "#Now let's look at top 40 countries who won maximum number of events. \n",
    "total_events_per_reg = pysqldf(\"SELECT Region, Count(Event_Won) AS Total_Events_Won,\\\n",
    "                                Count(Event_Won)*100./{} AS Event_Won_Pct\\\n",
    "                                FROM(\\\n",
    "                                      SELECT Games, Year, Region, Event AS Event_Won\\\n",
    "                                      FROM games_with_only_medals\\\n",
    "                                      WHERE NOT(Medal LIKE 'None')\\\n",
    "                                      GROUP BY Games, Year, Event, Region\\\n",
    "                                     )\\\n",
    "                                GROUP BY Region ORDER BY Count(Event_Won) DESC  LIMIT 30\\\n",
    "                                \".format(num_total_events))\n",
    "\n",
    "print(\"Top 5 countries which won highest number of events -  \")\n",
    "print(total_events_per_reg.head(5))\n",
    "bar = total_events_per_reg.plot.bar(x='Region', y='Total_Events_Won', rot=90, figsize=(15,6))\n",
    "#game_hist.set_ylabel('Number of Medals') \n",
    "\n"
   ]
  },
  {
   "cell_type": "markdown",
   "metadata": {},
   "source": [
    "From the above plot, USA, Russsia and Germany clearly standout winning about 34%, 26% and  24% of the total events ever occured in Olympics. This suggest that few countries have clearly dominated the Olympic games. Let's rank the countries based on their event tally for each game and look at the countries which have appeared maximum number of times in top ten places. "
   ]
  },
  {
   "cell_type": "code",
   "execution_count": 27,
   "metadata": {},
   "outputs": [
    {
     "name": "stdout",
     "output_type": "stream",
     "text": [
      "Total games over years = 35\n",
      "    Region  Num_Times_In_Top_Ten\n",
      "0      USA                    34\n",
      "1  Germany                    32\n",
      "2   France                    27\n",
      "3    Italy                    26\n",
      "4       UK                    23\n"
     ]
    },
    {
     "data": {
      "image/png": "[encoded data removed]",
      "text/plain": [
       "<Figure size 1080x432 with 1 Axes>"
      ]
     },
     "metadata": {
      "needs_background": "light"
     },
     "output_type": "display_data"
    }
   ],
   "source": [
    "#Top ten countries who won maximum number of events per game\n",
    "event_stats_per_game = pysqldf(\"SELECT *\\\n",
    "                                FROM \\\n",
    "                                    (SELECT  Year, Region, Count(Event) as EventCount,\\\n",
    "                                    RANK() OVER (PARTITION BY Year ORDER BY COUNT(Event) DESC) AS Ranking \\\n",
    "                                    FROM (\\\n",
    "                                          SELECT Year, Region, Event\\\n",
    "                                          FROM player_stats \\\n",
    "                                          WHERE NOT(Medal ISNULL) \\\n",
    "                                          GROUP BY Year, Region, Event \\\n",
    "                                          ORDER BY Year ASC, Event DESC\\\n",
    "                                          )\\\n",
    "                                    GROUP BY Year, Region\\\n",
    "                                    ) \\\n",
    "                                    WHERE ranking<10\")\n",
    "\n",
    "#Let's now check countries who have consistently performed better than others\n",
    "top_performers_per_game = pysqldf(\"SELECT Region, Count(Ranking) AS Num_Times_In_Top_Ten\\\n",
    "                                    FROM event_stats_per_game \\\n",
    "                                    GROUP BY Region\\\n",
    "                                    ORDER BY COUNT(Ranking) DESC\")\n",
    "\n",
    "print(\"Total games over years = {}\".format(player_stats.Year.unique().size))\n",
    "print(top_performers_per_game.head(5))\n",
    "bar = top_performers_per_game.plot.bar(x='Region', y='Num_Times_In_Top_Ten', rot=90, figsize=(15,6))\n",
    "#game_hist.set_ylabel('Number of Medals') \n"
   ]
  },
  {
   "cell_type": "markdown",
   "metadata": {},
   "source": [
    "The above plot shows list of countries which have consistently performed in Olympics. x axis lists the name of countries and y axis describes total number of Olympin games in which each country has reached to one of the top ten spots based on number of events won (not number of medals). Here, I have used \"total events won\" count as ranking criteria since in case of group events, one event would contribute the several medals and hence, medal count can lead to biased picture. \n",
    "\n",
    "This is consistent with our previous plot of total events won by countries over entire Olympic history with some changes in country rankings. We see again that USA, Germany, France and UK continue to be in top five leading nations. USA has been most consistent with managing a spot in top ten positions in 34 out of 35 games followed by Germany, France, Itals and UK at 32, 27, 36 and 23. While Russia has won more number of events than Italy, it has not appeared in top ten positions as much as Italy. \n",
    "\n",
    "The above two measures show that few countries have clearly dominated the Olympics over all the years. Let's look at the performance of top five countries over time by comparing the number of events won by them in each game. "
   ]
  },
  {
   "cell_type": "code",
   "execution_count": 36,
   "metadata": {},
   "outputs": [
    {
     "data": {
      "image/png": "[encoded data removed]",
      "text/plain": [
       "<Figure size 1080x432 with 1 Axes>"
      ]
     },
     "metadata": {
      "needs_background": "light"
     },
     "output_type": "display_data"
    }
   ],
   "source": [
    "usa_stats = pysqldf(\"SELECT * FROM event_stats_per_game WHERE Region='USA' ORDER BY Year\")\n",
    "germany_stats = pysqldf(\"SELECT * FROM event_stats_per_game WHERE Region='Germany' ORDER BY Year\")\n",
    "france_stats = pysqldf(\"SELECT * FROM event_stats_per_game WHERE Region='France' ORDER BY Year\")\n",
    "uk_stats = pysqldf(\"SELECT * FROM event_stats_per_game WHERE Region='UK' ORDER BY Year\")\n",
    "italy_stats = pysqldf(\"SELECT * FROM event_stats_per_game WHERE Region='Italy' ORDER BY Year\")\n",
    "russia_stats = pysqldf(\"SELECT * FROM event_stats_per_game WHERE Region='Russia' ORDER BY Year\")\n",
    "total_events = pysqldf(\"SELECT Year, SUM(EventCount) AS TotalEvents FROM event_stats_per_game GROUP BY Year ORDER BY Year\")\n",
    "\n",
    "\n",
    "plt.figure(figsize=(15,6))\n",
    "plt.plot(total_events.Year, total_events.TotalEvents, label='Total Events')\n",
    "plt.plot(usa_stats.Year, usa_stats.EventCount, label='USA')\n",
    "plt.plot(germany_stats.Year, germany_stats.EventCount, ls='--', label='Germany')\n",
    "plt.plot(france_stats.Year, france_stats.EventCount, ls=':',label='France')\n",
    "plt.plot(uk_stats.Year, uk_stats.EventCount, ls='-.',label='UK')\n",
    "plt.plot(italy_stats.Year, italy_stats.EventCount, ls='--',label='Italy')\n",
    "plt.plot(russia_stats.Year, russia_stats.EventCount, ls='-',label='Russia')\n",
    "plt.xlabel('Year')\n",
    "plt.ylabel('Events Won')\n",
    "plt.xlim\n",
    "plt.legend()\n",
    "plt.show()\n",
    "plt.close()"
   ]
  },
  {
   "cell_type": "markdown",
   "metadata": {},
   "source": [
    "Above plot shows the number of events won by top performers - USA, Germany, France, UK, Italy and Russia for each game. The performance of USA had been improving remaining the best out of the six nations. Similar results hold for Germany, though after 1990s its performance has been decreasing. UK, France and Italy have almost consistent performance with no significant change till 1990s. UK has since started improving. Even though Russia has won a lot of events, it ranked low in number of times it rose in top ten. This is evident here when we see that Russia's participation in Olympics is mainly recorded after 1952.  A quick online search shows that Russia did not participate in Olympics between 1912-1952 which explains the missing data. "
   ]
  },
  {
   "cell_type": "markdown",
   "metadata": {},
   "source": [
    "# Summary\n"
   ]
  },
  {
   "cell_type": "markdown",
   "metadata": {},
   "source": [
    "To Summarize - \n",
    "* Gender Disparity - To understatnd the gender disparity, we look at the disparity between male and female number of players for each region over all the years. Our initial analysis shows that gender disparity is significant in Olympics with more than 80% players being male in more than 40 countries including some of the developed nations. It will be interesting to see how this trend has changed in recent times. \n",
    "* Effect of Age in Sports - Here we look at the average age for each sport type. We see that  for most sports, the average age of players is mostly close to 26 and is not significantly affected by sport type as initially predicted. However, there are few outlier sports in which average age of players is much lower than 26 or much higher than 26. \n",
    "* Domination of countries - Here we have looked at the total number of events won by each country over all the years and how many times a country has reached in top 10 for a game. These two metrics can be used to see if few nations have dominated the world of Olympics. In line with our initial hypothesis, we find that certain developed countries have been major winner in these sports like USA, Germany, France etc. \n",
    "\n",
    "It will be interesting to dig more into these issues. More specifically has gender disparity changed in recent times? Does the relation between age and sports continues to hold when we consider only top contenders three players from each event. How has the nation tally changed in the recent years?"
   ]
  },
  {
   "cell_type": "markdown",
   "metadata": {
    "collapsed": true
   },
   "source": [
    "Using the space provided, please address the following items:\n",
    "\n",
    "In this assignment, I focus on three main questions explained in first assingment - \n",
    "\n",
    "   1. Are female atheletes equally represented as males in different regions? \n",
    "   2. Does there exist a bias between player’s age and the sports?\n",
    "   3. Are all games dominated by few countries or the distribution varies depending on the sports?\n",
    "\n",
    "Here are my initial hypothesis - \n",
    "\n",
    "    1. The representation of males and females may be more fair in developed nations compared to developing nations, where opportunities are not equally available. \n",
    "    2. Age distribution of players should not vary a lot between different type of sports. \n",
    "    3. More developed nations would have higher dominance in majority of sports due to better infrastructure and opportunities provided to their players. \n",
    "\n",
    "\n",
    "Provide a summary of the different descriptive statistics you looked at and WHY.\n",
    "    1. For my first query, I look at two metrics - Disparity = Number of male players  - Number of Female players\n",
    "    and % Disparity = Disparity/Total_players*100 for every region. This can provide a good measure of difference in male vs female representation. \n",
    "    2. For my second query I look at the average age and standard deviations for all players and for each individual sport type. This can provide a good intuition about the distribution of age groups across sports.\n",
    "    3. To analyse the country domination, I look at total number of events won by each country over all the years and number of times each country has made it in top ten places.  \n",
    "   \n",
    "   \n",
    "    Submit 2-3 key points you may have discovered about the data, e.g. new relationships? Aha's! Did you come up with additional ideas for other things to review?\n",
    "    Looking at the gender disparity, I find that many countries with high gender disparity are often countries with restricted women's rights and freedom. Towards the age distribution, there are few sport categories whhich fall outside the 90% confidence interval showing that either there is a preferential bias towards younger or older players. I would like to explore this to see if exerience or agility play a role in these sport categories. \n",
    "   \n",
    "    Did you prove or disprove any of your initial hypotheses? If so, which one and what do you plan to do next?\n",
    "    What additional questions are you seeking to answer?\n",
    "    1. Gender Disparity Hydrpothesis - My results agree with my initial hypothesis that high gender disparity mostly exists in developing nations. It will be interesting to see if and how the scenario has changed in recent years in these countries. \n",
    "    2. For age distribution, I find that for most sport categories, the average age of players in specific sports category are within the 90% confidence interval of age of all the players. There are few outliers such as Alpinism, Art Competitions, Equestrianism, Motorboating, Polo, Rhythmic Gymnastics, Roque and Swimming where average age is much higher of much lower falling outside the distribution. It would be interesting to compare how this distribution and the conclusion change when we consider only the top contenders from each sport event. \n",
    "    3. Olympic domination - In line with our initial hypothesis, we find that certain developed countries have been major winner in these sports like USA, Germany, France etc. It will be interesting to look at how has the nation tally changed in the recent years?"
   ]
  },
  {
   "cell_type": "code",
   "execution_count": null,
   "metadata": {
    "collapsed": true
   },
   "outputs": [],
   "source": [
    "\n",
    "#print(mf_reg_stats.Region.unique())\n",
    "\n",
    "CREATE TABLE tbl_Countries\n",
    "(\n",
    "     CountryID INT\n",
    "    ,CountryName VARCHAR(50)\n",
    "    ,TwoCharCountryCode CHAR(2)\n",
    "    ,ThreeCharCountryCode CHAR(3)    \n",
    ");\n",
    "\n",
    "\n",
    "country_df = pd.dataframe(np.array([[1,'Afghanistan','AF','AFG'                   ],\\\n",
    "                                    [2,'Aland Islands','AX','ALA'                 ],\\\n",
    "                                    [3,'Albania','AL','ALB'                       ],\\\n",
    "                                    [4,'Algeria','DZ','DZA'                       ],\\\n",
    "                                    [5,'American Samoa','AS','ASM'                ],\\\n",
    "                                    [6,'Andorra','AD','AND'                       ],\\\n",
    "                                    [7,'Angola','AO','AGO'                        ],\\\n",
    "                                    [8,'Anguilla','AI','AIA'                      ],\\\n",
    "                                    [9,'Antarctica','AQ','ATA'                    ],\\\n",
    "                                    [10,'Antigua and Barbuda','AG','ATG'          ],\\\n",
    "                                    [11,'Argentina','AR','ARG'                    ],\\              \n",
    "                                    [12,'Armenia','AM','ARM'                      ],\\\n",
    "                                    [13,'Aruba','AW','ABW'                        ],\\\n",
    "                                    [14,'Australia','AU','AUS'                    ],\\\n",
    "                                    [15,'Austria','AT','AUT'                      ],\\\n",
    "                                    [16,'Azerbaijan','AZ','AZE'                   ],\\\n",
    "                                    [17,'Bahamas','BS','BHS'                      ],\\\n",
    "                                    [18,'Bahrain','BH','BHR'                      ],\\\n",
    "                                    [19,'Bangladesh','BD','BGD'                   ],\\\n",
    "                                    [20,'Barbados','BB','BRB'                     ],\\\n",
    "                                    [21,'Belarus','BY','BLR'                      ],\\\n",
    "                                    [22,'Belgium','BE','BEL'                      ],\\\n",
    "                                    [23,'Belize','BZ','BLZ'                       ],\\\n",
    "                                    [24,'Benin','BJ','BEN'                        ],\\\n",
    "                                    [25,'Bermuda','BM','BMU'                      ],\\\n",
    "                                    [26,'Bhutan','BT','BTN'                       ],\\\n",
    "                                    [27,'Bolivia','BO','BOL'                      ],\\\n",
    "                                    [28,'Bonaire, Sint Eustatius and Saba','BQ','BES'],\\\n",
    "                                    [29,'Bosnia and Herzegovina','BA','BIH'       ],\\\n",
    "                                    [30,'Botswana','BW','BWA'                     ],\\\n",
    "                                    [31,'Bouvet Island','BV','BVT'                ],\\\n",
    "                                    [32,'Brazil','BR','BRA'                       ],\\\n",
    "                                    [33,'British Indian Ocean Territory','IO','IOT'],\\\n",
    "                                    [34,'Brunei','BN','BRN'                    ],\\\n",
    "                                    [35,'Bulgaria','BG','BGR'                  ],\\\n",
    "                                    [36,'Burkina Faso','BF','BFA'                  ],\\\n",
    "                                    [37,'Burundi','BI','BDI'                  ],\\\n",
    "                                    [38,'Cambodia','KH','KHM'                  ],\\\n",
    "                                    [39,'Cameroon','CM','CMR'                  ],\\\n",
    "                                    [40,'Canada','CA','CAN'                  ],\\\n",
    "                                    [41,'Cape Verde','CV','CPV'                  ],\\\n",
    "                                    [42,'Cayman Islands','KY','CYM')\n",
    "                                    [43,'Central African Republic','CF','CAF')\n",
    "                                    [44,'Chad','TD','TCD')\n",
    "                                    [45,'Chile','CL','CHL')\n",
    "                                    [46,'China','CN','CHN')\n",
    "                                    [47,'Christmas Island','CX','CXR')\n",
    "                                    [48,'Cocos (Keeling) Islands','CC','CCK')\n",
    "                                    [49,'Colombia','CO','COL')\n",
    "                                    [50,'Comoros','KM','COM')\n",
    "                                    [51,'Congo','CG','COG')\n",
    "                                    [52,'Cook Islands','CK','COK')\n",
    "                                    [53,'Costa Rica','CR','CRI')\n",
    "                                    [54,'Ivory Coast','CI','CIV')\n",
    "                                    [55,'Croatia','HR','HRV')\n",
    "                                    [56,'Cuba','CU','CUB')\n",
    "                                    [57,'Curacao','CW','CUW')\n",
    "                                    [58,'Cyprus','CY','CYP')\n",
    "                                    [59,'Czech Republic','CZ','CZE')\n",
    "                                    [60,'Democratic Republic of the Congo','CD','COD')\n",
    "                                    [61,'Denmark','DK','DNK')\n",
    "                                    [62,'Djibouti','DJ','DJI')\n",
    "                                    [63,'Dominica','DM','DMA')\n",
    "                                    [64,'Dominican Republic','DO','DOM')\n",
    "                                    [65,'Ecuador','EC','ECU')\n",
    "                                    [66,'Egypt','EG','EGY')\n",
    "                                    [67,'El Salvador','SV','SLV')\n",
    "                                    [68,'Equatorial Guinea','GQ','GNQ')\n",
    "                                    [69,'Eritrea','ER','ERI')\n",
    "                                    [70,'Estonia','EE','EST')\n",
    "                                    [71,'Ethiopia','ET','ETH')\n",
    "                                    [72,'Falkland Islands (Malvinas)','FK','FLK')\n",
    "                                    [73,'Faroe Islands','FO','FRO')\n",
    "                                    [74,'Fiji','FJ','FJI')\n",
    "                                    [75,'Finland','FI','FIN')\n",
    "                                    [76,'France','FR','FRA')\n",
    "                                    [77,'French Guiana','GF','GUF')\n",
    "                                    [78,'French Polynesia','PF','PYF')\n",
    "                                    [79,'French Southern Territories','TF','ATF')\n",
    "                                    [80,'Gabon','GA','GAB')\n",
    "                                    [81,'Gambia','GM','GMB')\n",
    "                                    [82,'Georgia','GE','GEO')\n",
    "83,'Germany','DE','DEU')\n",
    "84,'Ghana','GH','GHA')\n",
    "85,'Gibraltar','GI','GIB')\n",
    "86,'Greece','GR','GRC')\n",
    "87,'Greenland','GL','GRL')\n",
    "88,'Grenada','GD','GRD')\n",
    "89,'Guadaloupe','GP','GLP')\n",
    "90,'Guam','GU','GUM')\n",
    "91,'Guatemala','GT','GTM')\n",
    "92,'Guernsey','GG','GGY')\n",
    "93,'Guinea','GN','GIN')\n",
    "94,'Guinea-Bissau','GW','GNB')\n",
    "95,'Guyana','GY','GUY')\n",
    "96,'Haiti','HT','HTI')\n",
    "97,'Heard Island and McDonald Islands','HM','HMD')\n",
    "98,'Honduras','HN','HND')\n",
    "99,'Hong Kong','HK','HKG')\n",
    "100,'Hungary','HU','HUN')\n",
    "101,'Iceland','IS','ISL')\n",
    "102,'India','IN','IND')\n",
    "103,'Indonesia','ID','IDN')\n",
    "104,'Iran','IR','IRN')\n",
    "105,'Iraq','IQ','IRQ')\n",
    "106,'Ireland','IE','IRL')\n",
    "107,'Isle of Man','IM','IMN')\n",
    "108,'Israel','IL','ISR')\n",
    "109,'Italy','IT','ITA')\n",
    "110,'Jamaica','JM','JAM')\n",
    "111,'Japan','JP','JPN')\n",
    "112,'Jersey','JE','JEY')\n",
    "113,'Jordan','JO','JOR')\n",
    "114,'Kazakhstan','KZ','KAZ')\n",
    "115,'Kenya','KE','KEN')\n",
    "116,'Kiribati','KI','KIR')\n",
    "117,'Kosovo','XK','---')\n",
    "118,'Kuwait','KW','KWT')\n",
    "119,'Kyrgyzstan','KG','KGZ')\n",
    "120,'Laos','LA','LAO')\n",
    "121,'Latvia','LV','LVA')\n",
    "122,'Lebanon','LB','LBN')\n",
    ",(123,'Lesotho','LS','LSO')\n",
    ",(124,'Liberia','LR','LBR')\n",
    ",(125,'Libya','LY','LBY')\n",
    ",(126,'Liechtenstein','LI','LIE')\n",
    ",(127,'Lithuania','LT','LTU')\n",
    ",(128,'Luxembourg','LU','LUX')\n",
    ",(129,'Macao','MO','MAC')\n",
    ",(130,'Macedonia','MK','MKD')\n",
    ",(131,'Madagascar','MG','MDG')\n",
    ",(132,'Malawi','MW','MWI')\n",
    ",(133,'Malaysia','MY','MYS')\n",
    ",(134,'Maldives','MV','MDV')\n",
    ",(135,'Mali','ML','MLI')\n",
    ",(136,'Malta','MT','MLT')\n",
    ",(137,'Marshall Islands','MH','MHL')\n",
    ",(138,'Martinique','MQ','MTQ')\n",
    ",(139,'Mauritania','MR','MRT')\n",
    ",(140,'Mauritius','MU','MUS')\n",
    ",(141,'Mayotte','YT','MYT')\n",
    ",(142,'Mexico','MX','MEX')\n",
    ",(143,'Micronesia','FM','FSM')\n",
    ",(144,'Moldava','MD','MDA')\n",
    ",(145,'Monaco','MC','MCO')\n",
    ",(146,'Mongolia','MN','MNG')\n",
    ",(147,'Montenegro','ME','MNE')\n",
    ",(148,'Montserrat','MS','MSR')\n",
    ",(149,'Morocco','MA','MAR')\n",
    ",(150,'Mozambique','MZ','MOZ')\n",
    ",(151,'Myanmar (Burma)','MM','MMR')\n",
    ",(152,'Namibia','NA','NAM')\n",
    ",(153,'Nauru','NR','NRU')\n",
    ",(154,'Nepal','NP','NPL')\n",
    ",(155,'Netherlands','NL','NLD')\n",
    ",(156,'New Caledonia','NC','NCL')\n",
    ",(157,'New Zealand','NZ','NZL')\n",
    ",(158,'Nicaragua','NI','NIC')\n",
    ",(159,'Niger','NE','NER')\n",
    ",(160,'Nigeria','NG','NGA')\n",
    ",(161,'Niue','NU','NIU')\n",
    ",(162,'Norfolk Island','NF','NFK')\n",
    ",(163,'North Korea','KP','PRK')\n",
    ",(164,'Northern Mariana Islands','MP','MNP')\n",
    ",(165,'Norway','NO','NOR')\n",
    ",(166,'Oman','OM','OMN')\n",
    ",(167,'Pakistan','PK','PAK')\n",
    ",(168,'Palau','PW','PLW')\n",
    ",(169,'Palestine','PS','PSE')\n",
    ",(170,'Panama','PA','PAN')\n",
    ",(171,'Papua New Guinea','PG','PNG')\n",
    ",(172,'Paraguay','PY','PRY')\n",
    ",(173,'Peru','PE','PER')\n",
    ",(174,'Phillipines','PH','PHL')\n",
    ",(175,'Pitcairn','PN','PCN')\n",
    ",(176,'Poland','PL','POL')\n",
    ",(177,'Portugal','PT','PRT')\n",
    ",(178,'Puerto Rico','PR','PRI')\n",
    ",(179,'Qatar','QA','QAT')\n",
    ",(180,'Reunion','RE','REU')\n",
    ",(181,'Romania','RO','ROU')\n",
    ",(182,'Russia','RU','RUS')\n",
    ",(183,'Rwanda','RW','RWA')\n",
    ",(184,'Saint Barthelemy','BL','BLM')\n",
    ",(185,'Saint Helena','SH','SHN')\n",
    ",(186,'Saint Kitts and Nevis','KN','KNA')\n",
    ",(187,'Saint Lucia','LC','LCA')\n",
    ",(188,'Saint Martin','MF','MAF')\n",
    ",(189,'Saint Pierre and Miquelon','PM','SPM')\n",
    ",(190,'Saint Vincent and the Grenadines','VC','VCT')\n",
    ",(191,'Samoa','WS','WSM')\n",
    ",(192,'San Marino','SM','SMR')\n",
    ",(193,'Sao Tome and Principe','ST','STP')\n",
    ",(194,'Saudi Arabia','SA','SAU')\n",
    ",(195,'Senegal','SN','SEN')\n",
    ",(196,'Serbia','RS','SRB')\n",
    ",(197,'Seychelles','SC','SYC')\n",
    ",(198,'Sierra Leone','SL','SLE')\n",
    ",(199,'Singapore','SG','SGP')\n",
    ",(200,'Sint Maarten','SX','SXM')\n",
    ",(201,'Slovakia','SK','SVK')\n",
    ",(202,'Slovenia','SI','SVN')\n",
    ",(203,'Solomon Islands','SB','SLB')\n",
    ",(204,'Somalia','SO','SOM')\n",
    ",(205,'South Africa','ZA','ZAF')\n",
    ",(206,'South Georgia and the South Sandwich Islands','GS','SGS')\n",
    ",(207,'South Korea','KR','KOR')\n",
    ",(208,'South Sudan','SS','SSD')\n",
    ",(209,'Spain','ES','ESP')\n",
    ",(210,'Sri Lanka','LK','LKA')\n",
    ",(211,'Sudan','SD','SDN')\n",
    ",(212,'Suriname','SR','SUR')\n",
    ",(213,'Svalbard and Jan Mayen','SJ','SJM')\n",
    ",(214,'Swaziland','SZ','SWZ')\n",
    ",(215,'Sweden','SE','SWE')\n",
    ",(216,'Switzerland','CH','CHE')\n",
    ",(217,'Syria','SY','SYR')\n",
    ",(218,'Taiwan','TW','TWN')\n",
    ",(219,'Tajikistan','TJ','TJK')\n",
    ",(220,'Tanzania','TZ','TZA')\n",
    ",(221,'Thailand','TH','THA')\n",
    ",(222,'Timor-Leste (East Timor)','TL','TLS')\n",
    ",(223,'Togo','TG','TGO')\n",
    ",(224,'Tokelau','TK','TKL')\n",
    ",(225,'Tonga','TO','TON')\n",
    ",(226,'Trinidad and Tobago','TT','TTO')\n",
    ",(227,'Tunisia','TN','TUN')\n",
    ",(228,'Turkey','TR','TUR')\n",
    ",(229,'Turkmenistan','TM','TKM')\n",
    ",(230,'Turks and Caicos Islands','TC','TCA')\n",
    ",(231,'Tuvalu','TV','TUV')\n",
    ",(232,'Uganda','UG','UGA')\n",
    ",(233,'Ukraine','UA','UKR')\n",
    ",(234,'United Arab Emirates','AE','ARE')\n",
    ",(235,'United Kingdom','GB','GBR')\n",
    ",(236,'United States','US','USA')\n",
    ",(237,'United States Minor Outlying Islands','UM','UMI')\n",
    ",(238,'Uruguay','UY','URY')\n",
    ",(239,'Uzbekistan','UZ','UZB')\n",
    ",(240,'Vanuatu','VU','VUT')\n",
    ",(241,'Vatican City','VA','VAT')\n",
    ",(242,'Venezuela','VE','VEN')\n",
    ",(243,'Vietnam','VN','VNM')\n",
    ",(244,'Virgin Islands, British','VG','VGB')\n",
    ",(245,'Virgin Islands, US','VI','VIR')\n",
    ",(246,'Wallis and Futuna','WF','WLF')\n",
    ",(247,'Western Sahara','EH','ESH')\n",
    ",(248,'Yemen','YE','YEM')\n",
    ",(249,'Zambia','ZM','ZMB')\n",
    ",(250,'Zimbabwe','ZW','ZWE');\n",
    "\n"
   ]
  }
 ],
 "metadata": {
  "kernelspec": {
   "display_name": "sparkpy",
   "language": "python",
   "name": "sparkpy"
  },
  "language_info": {
   "codemirror_mode": {
    "name": "ipython",
    "version": 3
   },
   "file_extension": ".py",
   "mimetype": "text/x-python",
   "name": "python",
   "nbconvert_exporter": "python",
   "pygments_lexer": "ipython3",
   "version": "3.7.6"
  }
 },
 "nbformat": 4,
 "nbformat_minor": 2
}
