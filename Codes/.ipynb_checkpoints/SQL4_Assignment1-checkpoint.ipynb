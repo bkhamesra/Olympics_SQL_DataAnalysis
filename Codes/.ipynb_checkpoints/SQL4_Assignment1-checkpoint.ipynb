{
 "cells": [
  {
   "cell_type": "markdown",
   "metadata": {},
   "source": [
    "# SQL Capstone Project"
   ]
  },
  {
   "cell_type": "markdown",
   "metadata": {
    "collapsed": true
   },
   "source": [
    "SportsStats is a sports analysis firm partnering with local news and elite personal trainers to provide “interesting” insights to help their partners.  Insights could be patterns/trends highlighting certain groups/events/countries, etc. for the purpose of developing a news story or discovering key health insights.\n"
   ]
  },
  {
   "cell_type": "code",
   "execution_count": 1,
   "metadata": {},
   "outputs": [],
   "source": [
    "#import libraries\n",
    "import numpy as np\n",
    "import matplotlib.pyplot as plt\n",
    "import pandas as pd"
   ]
  },
  {
   "cell_type": "code",
   "execution_count": 46,
   "metadata": {},
   "outputs": [],
   "source": [
    "# Import the data using pandas\n",
    "\n",
    "athlete_events = pd.read_csv('../Dataset/athlete_events.csv')\n",
    "noc_data = pd.read_csv('../Dataset/noc_regions.csv')"
   ]
  },
  {
   "cell_type": "markdown",
   "metadata": {},
   "source": [
    "## Dataset - \n",
    "\n",
    "\n",
    "The dataset has the following features of several sport personalities - \n",
    "\n"
   ]
  },
  {
   "cell_type": "code",
   "execution_count": 82,
   "metadata": {},
   "outputs": [
    {
     "name": "stdout",
     "output_type": "stream",
     "text": [
      "Info about player stats from 'athlete_events' file \n",
      "\n",
      "<class 'pandas.core.frame.DataFrame'>\n",
      "RangeIndex: 271116 entries, 0 to 271115\n",
      "Data columns (total 15 columns):\n",
      " #   Column  Non-Null Count   Dtype  \n",
      "---  ------  --------------   -----  \n",
      " 0   ID      271116 non-null  int64  \n",
      " 1   Name    271116 non-null  object \n",
      " 2   Sex     271116 non-null  object \n",
      " 3   Age     261642 non-null  float64\n",
      " 4   Height  210945 non-null  float64\n",
      " 5   Weight  208241 non-null  float64\n",
      " 6   Team    271116 non-null  object \n",
      " 7   NOC     271116 non-null  object \n",
      " 8   Games   271116 non-null  object \n",
      " 9   Year    271116 non-null  int64  \n",
      " 10  Season  271116 non-null  object \n",
      " 11  City    271116 non-null  object \n",
      " 12  Sport   271116 non-null  object \n",
      " 13  Event   271116 non-null  object \n",
      " 14  Medal   39783 non-null   object \n",
      "dtypes: float64(3), int64(2), object(10)\n",
      "memory usage: 31.0+ MB\n",
      "\n",
      "\n",
      "\n",
      "Info about NOC from 'noc_regions' file\n",
      " \n",
      "<class 'pandas.core.frame.DataFrame'>\n",
      "RangeIndex: 230 entries, 0 to 229\n",
      "Data columns (total 3 columns):\n",
      " #   Column  Non-Null Count  Dtype \n",
      "---  ------  --------------  ----- \n",
      " 0   NOC     230 non-null    object\n",
      " 1   region  227 non-null    object\n",
      " 2   notes   21 non-null     object\n",
      "dtypes: object(3)\n",
      "memory usage: 5.5+ KB\n",
      "\n",
      "\n",
      "\n"
     ]
    }
   ],
   "source": [
    "colm_name = athlete_events.columns\n",
    "print(\"Info about player stats from 'athlete_events' file \\n\")\n",
    "athlete_events.info()\n",
    "\n",
    "print('\\n\\n')\n",
    "\n",
    "print(\"Info about NOC from 'noc_regions' file\\n \")\n",
    "noc_data.info()\n",
    "print('\\n\\n')"
   ]
  },
  {
   "cell_type": "markdown",
   "metadata": {},
   "source": [
    "##  Note - Data Cleaning\n",
    "\n",
    "Currently we have two datasets, one with statistics of the player while other connects the NOC with specific regions. Let's first combine the two tables. \n",
    "\n",
    "From above stats (non-null count), notice that there are null elements present in certain columns like Age, Width, Height and Medals. Instead of removing them now, we will handle them later when constructing more refined tables desinged for our specific queries. This would avoid potential loss of data. "
   ]
  },
  {
   "cell_type": "code",
   "execution_count": null,
   "metadata": {},
   "outputs": [],
   "source": [
    "#Combine the datasets\n",
    "pysqldf = lambda q:sqldf(q, globals())\n",
    "player_stats = pysqldf('SELECT ath.*, noc.region AS Region\\\n",
    "                        FROM athlete_events AS ath \\\n",
    "                        LEFT OUTER JOIN noc_data AS noc \\\n",
    "                        ON ath.NOC=noc.NOC \\\n",
    "                        ORDER BY noc.NOC')\n",
    "    "
   ]
  },
  {
   "cell_type": "code",
   "execution_count": 167,
   "metadata": {},
   "outputs": [
    {
     "name": "stdout",
     "output_type": "stream",
     "text": [
      "Following NOC element from 'athlete_events' data do not exist in 'noc_regions' data = {'SGP'}\n",
      "Updated Combined Dataset\n",
      "<class 'pandas.core.frame.DataFrame'>\n",
      "RangeIndex: 271116 entries, 0 to 271115\n",
      "Data columns (total 16 columns):\n",
      " #   Column  Non-Null Count   Dtype  \n",
      "---  ------  --------------   -----  \n",
      " 0   ID      271116 non-null  int64  \n",
      " 1   Name    271116 non-null  object \n",
      " 2   Sex     271116 non-null  object \n",
      " 3   Age     261642 non-null  float64\n",
      " 4   Height  210945 non-null  float64\n",
      " 5   Weight  208241 non-null  float64\n",
      " 6   Team    271116 non-null  object \n",
      " 7   NOC     271116 non-null  object \n",
      " 8   Games   271116 non-null  object \n",
      " 9   Year    271116 non-null  int64  \n",
      " 10  Season  271116 non-null  object \n",
      " 11  City    271116 non-null  object \n",
      " 12  Sport   271116 non-null  object \n",
      " 13  Event   271116 non-null  object \n",
      " 14  Medal   39783 non-null   object \n",
      " 15  Region  270746 non-null  object \n",
      "dtypes: float64(3), int64(2), object(11)\n",
      "memory usage: 33.1+ MB\n"
     ]
    },
    {
     "data": {
      "text/html": [
       "<div>\n",
       "<style scoped>\n",
       "    .dataframe tbody tr th:only-of-type {\n",
       "        vertical-align: middle;\n",
       "    }\n",
       "\n",
       "    .dataframe tbody tr th {\n",
       "        vertical-align: top;\n",
       "    }\n",
       "\n",
       "    .dataframe thead th {\n",
       "        text-align: right;\n",
       "    }\n",
       "</style>\n",
       "<table border=\"1\" class=\"dataframe\">\n",
       "  <thead>\n",
       "    <tr style=\"text-align: right;\">\n",
       "      <th></th>\n",
       "      <th>ID</th>\n",
       "      <th>Name</th>\n",
       "      <th>Sex</th>\n",
       "      <th>Age</th>\n",
       "      <th>Height</th>\n",
       "      <th>Weight</th>\n",
       "      <th>Team</th>\n",
       "      <th>NOC</th>\n",
       "      <th>Games</th>\n",
       "      <th>Year</th>\n",
       "      <th>Season</th>\n",
       "      <th>City</th>\n",
       "      <th>Sport</th>\n",
       "      <th>Event</th>\n",
       "      <th>Medal</th>\n",
       "      <th>Region</th>\n",
       "    </tr>\n",
       "  </thead>\n",
       "  <tbody>\n",
       "    <tr>\n",
       "      <th>0</th>\n",
       "      <td>332</td>\n",
       "      <td>Zarinah Abdullah</td>\n",
       "      <td>F</td>\n",
       "      <td>21.0</td>\n",
       "      <td>NaN</td>\n",
       "      <td>NaN</td>\n",
       "      <td>Singapore</td>\n",
       "      <td>SGP</td>\n",
       "      <td>1992 Summer</td>\n",
       "      <td>1992</td>\n",
       "      <td>Summer</td>\n",
       "      <td>Barcelona</td>\n",
       "      <td>Badminton</td>\n",
       "      <td>Badminton Women's Singles</td>\n",
       "      <td>None</td>\n",
       "      <td>None</td>\n",
       "    </tr>\n",
       "    <tr>\n",
       "      <th>1</th>\n",
       "      <td>332</td>\n",
       "      <td>Zarinah Abdullah</td>\n",
       "      <td>F</td>\n",
       "      <td>25.0</td>\n",
       "      <td>NaN</td>\n",
       "      <td>NaN</td>\n",
       "      <td>Singapore</td>\n",
       "      <td>SGP</td>\n",
       "      <td>1996 Summer</td>\n",
       "      <td>1996</td>\n",
       "      <td>Summer</td>\n",
       "      <td>Atlanta</td>\n",
       "      <td>Badminton</td>\n",
       "      <td>Badminton Women's Singles</td>\n",
       "      <td>None</td>\n",
       "      <td>None</td>\n",
       "    </tr>\n",
       "    <tr>\n",
       "      <th>2</th>\n",
       "      <td>1515</td>\n",
       "      <td>Saiyidah Aisyah Mohamed Rafa'ee</td>\n",
       "      <td>F</td>\n",
       "      <td>28.0</td>\n",
       "      <td>173.0</td>\n",
       "      <td>68.0</td>\n",
       "      <td>Singapore</td>\n",
       "      <td>SGP</td>\n",
       "      <td>2016 Summer</td>\n",
       "      <td>2016</td>\n",
       "      <td>Summer</td>\n",
       "      <td>Rio de Janeiro</td>\n",
       "      <td>Rowing</td>\n",
       "      <td>Rowing Women's Single Sculls</td>\n",
       "      <td>None</td>\n",
       "      <td>None</td>\n",
       "    </tr>\n",
       "    <tr>\n",
       "      <th>3</th>\n",
       "      <td>4264</td>\n",
       "      <td>Ang Peng Siong</td>\n",
       "      <td>M</td>\n",
       "      <td>21.0</td>\n",
       "      <td>180.0</td>\n",
       "      <td>75.0</td>\n",
       "      <td>Singapore</td>\n",
       "      <td>SGP</td>\n",
       "      <td>1984 Summer</td>\n",
       "      <td>1984</td>\n",
       "      <td>Summer</td>\n",
       "      <td>Los Angeles</td>\n",
       "      <td>Swimming</td>\n",
       "      <td>Swimming Men's 100 metres Freestyle</td>\n",
       "      <td>None</td>\n",
       "      <td>None</td>\n",
       "    </tr>\n",
       "    <tr>\n",
       "      <th>4</th>\n",
       "      <td>4264</td>\n",
       "      <td>Ang Peng Siong</td>\n",
       "      <td>M</td>\n",
       "      <td>21.0</td>\n",
       "      <td>180.0</td>\n",
       "      <td>75.0</td>\n",
       "      <td>Singapore</td>\n",
       "      <td>SGP</td>\n",
       "      <td>1984 Summer</td>\n",
       "      <td>1984</td>\n",
       "      <td>Summer</td>\n",
       "      <td>Los Angeles</td>\n",
       "      <td>Swimming</td>\n",
       "      <td>Swimming Men's 4 x 100 metres Freestyle Relay</td>\n",
       "      <td>None</td>\n",
       "      <td>None</td>\n",
       "    </tr>\n",
       "    <tr>\n",
       "      <th>5</th>\n",
       "      <td>4264</td>\n",
       "      <td>Ang Peng Siong</td>\n",
       "      <td>M</td>\n",
       "      <td>21.0</td>\n",
       "      <td>180.0</td>\n",
       "      <td>75.0</td>\n",
       "      <td>Singapore</td>\n",
       "      <td>SGP</td>\n",
       "      <td>1984 Summer</td>\n",
       "      <td>1984</td>\n",
       "      <td>Summer</td>\n",
       "      <td>Los Angeles</td>\n",
       "      <td>Swimming</td>\n",
       "      <td>Swimming Men's 100 metres Butterfly</td>\n",
       "      <td>None</td>\n",
       "      <td>None</td>\n",
       "    </tr>\n",
       "    <tr>\n",
       "      <th>6</th>\n",
       "      <td>4264</td>\n",
       "      <td>Ang Peng Siong</td>\n",
       "      <td>M</td>\n",
       "      <td>21.0</td>\n",
       "      <td>180.0</td>\n",
       "      <td>75.0</td>\n",
       "      <td>Singapore</td>\n",
       "      <td>SGP</td>\n",
       "      <td>1984 Summer</td>\n",
       "      <td>1984</td>\n",
       "      <td>Summer</td>\n",
       "      <td>Los Angeles</td>\n",
       "      <td>Swimming</td>\n",
       "      <td>Swimming Men's 4 x 100 metres Medley Relay</td>\n",
       "      <td>None</td>\n",
       "      <td>None</td>\n",
       "    </tr>\n",
       "    <tr>\n",
       "      <th>7</th>\n",
       "      <td>4264</td>\n",
       "      <td>Ang Peng Siong</td>\n",
       "      <td>M</td>\n",
       "      <td>25.0</td>\n",
       "      <td>180.0</td>\n",
       "      <td>75.0</td>\n",
       "      <td>Singapore</td>\n",
       "      <td>SGP</td>\n",
       "      <td>1988 Summer</td>\n",
       "      <td>1988</td>\n",
       "      <td>Summer</td>\n",
       "      <td>Seoul</td>\n",
       "      <td>Swimming</td>\n",
       "      <td>Swimming Men's 50 metres Freestyle</td>\n",
       "      <td>None</td>\n",
       "      <td>None</td>\n",
       "    </tr>\n",
       "    <tr>\n",
       "      <th>8</th>\n",
       "      <td>4264</td>\n",
       "      <td>Ang Peng Siong</td>\n",
       "      <td>M</td>\n",
       "      <td>25.0</td>\n",
       "      <td>180.0</td>\n",
       "      <td>75.0</td>\n",
       "      <td>Singapore</td>\n",
       "      <td>SGP</td>\n",
       "      <td>1988 Summer</td>\n",
       "      <td>1988</td>\n",
       "      <td>Summer</td>\n",
       "      <td>Seoul</td>\n",
       "      <td>Swimming</td>\n",
       "      <td>Swimming Men's 100 metres Freestyle</td>\n",
       "      <td>None</td>\n",
       "      <td>None</td>\n",
       "    </tr>\n",
       "    <tr>\n",
       "      <th>9</th>\n",
       "      <td>4264</td>\n",
       "      <td>Ang Peng Siong</td>\n",
       "      <td>M</td>\n",
       "      <td>25.0</td>\n",
       "      <td>180.0</td>\n",
       "      <td>75.0</td>\n",
       "      <td>Singapore</td>\n",
       "      <td>SGP</td>\n",
       "      <td>1988 Summer</td>\n",
       "      <td>1988</td>\n",
       "      <td>Summer</td>\n",
       "      <td>Seoul</td>\n",
       "      <td>Swimming</td>\n",
       "      <td>Swimming Men's 4 x 100 metres Freestyle Relay</td>\n",
       "      <td>None</td>\n",
       "      <td>None</td>\n",
       "    </tr>\n",
       "  </tbody>\n",
       "</table>\n",
       "</div>"
      ],
      "text/plain": [
       "     ID                             Name Sex   Age  Height  Weight       Team  \\\n",
       "0  332   Zarinah Abdullah                 F   21.0 NaN     NaN      Singapore   \n",
       "1  332   Zarinah Abdullah                 F   25.0 NaN     NaN      Singapore   \n",
       "2  1515  Saiyidah Aisyah Mohamed Rafa'ee  F   28.0  173.0   68.0    Singapore   \n",
       "3  4264  Ang Peng Siong                   M   21.0  180.0   75.0    Singapore   \n",
       "4  4264  Ang Peng Siong                   M   21.0  180.0   75.0    Singapore   \n",
       "5  4264  Ang Peng Siong                   M   21.0  180.0   75.0    Singapore   \n",
       "6  4264  Ang Peng Siong                   M   21.0  180.0   75.0    Singapore   \n",
       "7  4264  Ang Peng Siong                   M   25.0  180.0   75.0    Singapore   \n",
       "8  4264  Ang Peng Siong                   M   25.0  180.0   75.0    Singapore   \n",
       "9  4264  Ang Peng Siong                   M   25.0  180.0   75.0    Singapore   \n",
       "\n",
       "   NOC        Games  Year  Season            City      Sport  \\\n",
       "0  SGP  1992 Summer  1992  Summer  Barcelona       Badminton   \n",
       "1  SGP  1996 Summer  1996  Summer  Atlanta         Badminton   \n",
       "2  SGP  2016 Summer  2016  Summer  Rio de Janeiro  Rowing      \n",
       "3  SGP  1984 Summer  1984  Summer  Los Angeles     Swimming    \n",
       "4  SGP  1984 Summer  1984  Summer  Los Angeles     Swimming    \n",
       "5  SGP  1984 Summer  1984  Summer  Los Angeles     Swimming    \n",
       "6  SGP  1984 Summer  1984  Summer  Los Angeles     Swimming    \n",
       "7  SGP  1988 Summer  1988  Summer  Seoul           Swimming    \n",
       "8  SGP  1988 Summer  1988  Summer  Seoul           Swimming    \n",
       "9  SGP  1988 Summer  1988  Summer  Seoul           Swimming    \n",
       "\n",
       "                                           Event Medal Region  \n",
       "0  Badminton Women's Singles                      None  None   \n",
       "1  Badminton Women's Singles                      None  None   \n",
       "2  Rowing Women's Single Sculls                   None  None   \n",
       "3  Swimming Men's 100 metres Freestyle            None  None   \n",
       "4  Swimming Men's 4 x 100 metres Freestyle Relay  None  None   \n",
       "5  Swimming Men's 100 metres Butterfly            None  None   \n",
       "6  Swimming Men's 4 x 100 metres Medley Relay     None  None   \n",
       "7  Swimming Men's 50 metres Freestyle             None  None   \n",
       "8  Swimming Men's 100 metres Freestyle            None  None   \n",
       "9  Swimming Men's 4 x 100 metres Freestyle Relay  None  None   "
      ]
     },
     "execution_count": 167,
     "metadata": {},
     "output_type": "execute_result"
    }
   ],
   "source": [
    "from pandasql import sqldf\n",
    "\n",
    "#Check if some entry is missing from one data\n",
    "noc_noc = set(noc_data.NOC.unique())\n",
    "ply_noc = set(athlete_events.NOC.unique())\n",
    "\n",
    "print(\"Following NOC element from 'athlete_events' data do not exist in 'noc_regions' data = {}\".format(ply_noc - noc_noc))\n",
    "print(\"Updated Combined Dataset\")\n",
    "\n",
    "#Combine the datasets\n",
    "pysqldf = lambda q:sqldf(q, globals())\n",
    "player_stats = pysqldf('SELECT ath.*, noc.region AS Region\\\n",
    "                        FROM athlete_events AS ath \\\n",
    "                        LEFT OUTER JOIN noc_data AS noc \\\n",
    "                        ON ath.NOC=noc.NOC \\\n",
    "                        ORDER BY noc.NOC')\n",
    "\n",
    "\n",
    "#Check if data has been added\n",
    "player_stats.info()\n",
    "player_stats.head(10)"
   ]
  },
  {
   "cell_type": "code",
   "execution_count": 120,
   "metadata": {},
   "outputs": [
    {
     "name": "stdout",
     "output_type": "stream",
     "text": [
      "Let's also look at basic stats - \n",
      "First recorded year  = 1896, Last recorded Year = 2016\n",
      "Number of Players = 134732\n",
      "Number of Teams = 1184\n",
      "Number of NOC = 230 and Regions = 206\n",
      "Number of Events = 765\n"
     ]
    }
   ],
   "source": [
    "print(\"Let's also look at basic stats - \")\n",
    "print(\"First recorded year  = {}, Last recorded Year = {}\".format(min(player_stats.Year), max(player_stats.Year)))\n",
    "uniq_names = player_stats.Name.unique()\n",
    "\n",
    "print(\"Number of Players = {}\".format(uniq_names.size))\n",
    "print(\"Number of Teams = {}\".format(player_stats.Team.unique().size))\n",
    "print(\"Number of NOC = {} and Regions = {}\".format(player_stats.NOC.unique().size, player_stats.Region.unique().size))\n",
    "print(\"Number of Events = {}\".format(player_stats.Event.unique().size))"
   ]
  },
  {
   "cell_type": "markdown",
   "metadata": {},
   "source": [
    "## ERD \n",
    "\n",
    "Let's construct the ERD diagram. We can break the above table into four subtables  - \n",
    "* Player Record - Describes player's performance in an event\n",
    "* Player Info - Provide player's physical stats\n",
    "* Team Info - Provides information about a team \n",
    "* Game Info - Provides information about a game. \n",
    "\n",
    "\n"
   ]
  },
  {
   "cell_type": "code",
   "execution_count": 90,
   "metadata": {},
   "outputs": [
    {
     "data": {
      "image/png": "[encoded data removed]",
      "text/plain": [
       "<IPython.core.display.Image object>"
      ]
     },
     "execution_count": 90,
     "metadata": {},
     "output_type": "execute_result"
    }
   ],
   "source": [
    "from IPython.display import Image\n",
    "Image(\"../Dataset/ERD.png\")"
   ]
  },
  {
   "cell_type": "code",
   "execution_count": null,
   "metadata": {},
   "outputs": [],
   "source": []
  },
  {
   "cell_type": "markdown",
   "metadata": {
    "collapsed": true
   },
   "source": [
    "## Questions - \n",
    "\n",
    "I would like to analyse the data to answer the following questions - \n",
    "\n",
    "   1. Are females atheletes equally represented as males in different regions? \n",
    "   2. Does there exist a bias between player’s age and the sports?\n",
    "   3. Does the height of player provide him advantage/disadvantage in certain sports?\n",
    "   4. Are all sports dominated by few countries or the distribution varies depending on the sports?"
   ]
  },
  {
   "cell_type": "markdown",
   "metadata": {},
   "source": [
    "## Exploring Dataset\n",
    "\n",
    "Now, let's dive a bit into the dataset. Let us first look at total number of male and female players. From the below results, we see that total number of male players largely dominate total number of female players over the years. \n",
    "\n",
    "We can further look at the data to see the distribution of male and female players grouped by regions. From the query below, we can clearly see the disparity in participation of females over males in several regions.  "
   ]
  },
  {
   "cell_type": "code",
   "execution_count": 161,
   "metadata": {},
   "outputs": [
    {
     "name": "stdout",
     "output_type": "stream",
     "text": [
      "Male Players = 101590, Female Players = 33981, difference = 67609\n"
     ]
    }
   ],
   "source": [
    "#Check regions with more then 1 NOC\n",
    "#pysqldf(\"SELECT Region, COUNT(NOC) FROM (SELECT NOC, Region FROM player_stats  GROUP BY NOC) GROUP BY Region ORDER BY COUNT(NOC) DESC LIMIT 5\" )\n",
    "\n",
    "total_players = np.size(player_stats.ID.unique())\n",
    "male_players  = np.size(player_stats[player_stats.Sex=='M'].ID.unique())\n",
    "female_players  = np.size(player_stats[player_stats.Sex=='F'].ID.unique())\n",
    "\n",
    "assert total_players == male_players+female_players, \"Total players !=male players + female players. Please check your query.\"\n",
    "\n",
    "print(\"Male Players = {}, Female Players = {}, difference = {}\".format(male_players, female_players, male_players-female_players))\n",
    "\n"
   ]
  },
  {
   "cell_type": "code",
   "execution_count": 165,
   "metadata": {},
   "outputs": [],
   "source": [
    "player_sex_df = pysqldf(\"SELECT Region, Sex, COUNT(ID) FROM player_stats  GROUP BY Sex, Region ORDER BY Region LIMIT 10\")\n"
   ]
  },
  {
   "cell_type": "code",
   "execution_count": 183,
   "metadata": {},
   "outputs": [],
   "source": [
    "player_unique = pysqldf(\"SELECT ID, NAME, AGE, SEX FROM player_stats GROUP BY ID\")\n"
   ]
  },
  {
   "cell_type": "code",
   "execution_count": 188,
   "metadata": {},
   "outputs": [
    {
     "name": "stdout",
     "output_type": "stream",
     "text": [
      "Mean= 24.490692940566394, Standard Deviation = 5.7120238071898966\n"
     ]
    },
    {
     "data": {
      "text/plain": [
       "Text(0, 0.5, 'Total Players Count')"
      ]
     },
     "execution_count": 188,
     "metadata": {},
     "output_type": "execute_result"
    },
    {
     "data": {
      "image/png": "[encoded data removed]",
      "text/plain": [
       "<Figure size 432x288 with 1 Axes>"
      ]
     },
     "metadata": {
      "needs_background": "light"
     },
     "output_type": "display_data"
    }
   ],
   "source": [
    "print(\"Mean= {}, Standard Deviation = {}\".format(player_unique.Age.mean(), np.sqrt(player_unique.Age.var())))\n",
    "age_hist = player_unique.Age.hist(bins=50)\n",
    "age_hist.set_xlim(10,50)\n",
    "age_hist.set_xlabel('Age')\n",
    "age_hist.set_ylabel('Total Players Count')"
   ]
  },
  {
   "cell_type": "code",
   "execution_count": 213,
   "metadata": {},
   "outputs": [
    {
     "data": {
      "text/plain": [
       "<matplotlib.axes._subplots.AxesSubplot at 0x1b8261210>"
      ]
     },
     "execution_count": 213,
     "metadata": {},
     "output_type": "execute_result"
    },
    {
     "data": {
      "image/png": "[encoded data removed]",
      "text/plain": [
       "<Figure size 864x432 with 1 Axes>"
      ]
     },
     "metadata": {
      "needs_background": "light"
     },
     "output_type": "display_data"
    }
   ],
   "source": [
    "#Find the top five regions with highest number of medals \n",
    "game_stats = pysqldf(\"SELECT * FROM (SELECT  Games, Region, DENSE_RANK() OVER (PARTITION BY Games ORDER BY Total_Medals_Won DESC) AS ranking FROM (SELECT Games, Region, Count(Medal)  AS Total_Medals_Won FROM player_stats WHERE NOT(Medal ISNULL) GROUP BY Games, Region ORDER BY Games ASC, COUNT(Medal) DESC)) WHERE ranking<6\")\n",
    "game_stats.Region.hist(xrot=90, figsize=(12,6), bins=28)\n",
    "#print(\"Mean= {}, Standard Deviation = {}\".format(player_unique.Age.mean(), np.sqrt(player_unique.Age.var())))\n",
    "#age_hist = player_unique.Age.hist(bins=50)\n",
    "#age_hist.set_xlim(10,50)\n",
    "#age_hist.set_xlabel('Age')\n",
    "#age_hist.set_ylabel('Total Players Count')"
   ]
  },
  {
   "cell_type": "markdown",
   "metadata": {},
   "source": [
    "## Assumptions\n",
    "\n",
    "* The provided dataset holds no bias against players of any countries, sex, age, sports or any other catagories. The data is not misrepresentated or false. \n",
    "* The sports itself provides equal opportunities to players of all age, sex and nationality. That is, either there are no restriction of partipation of any player based on his age, sex or nationality, or there exists separate events for people of different sex or age (eg. Man's tournament and Women's tournaments). "
   ]
  },
  {
   "cell_type": "markdown",
   "metadata": {},
   "source": [
    "## Hypothesis - \n",
    "\n",
    "1. The representation of males and femaled may be more fair in developed nations compared to developing nations, where opportunities are not equally available. \n",
    "2. Representation of players of different age groups should not vary a lot between different countries. \n",
    "3. Certain sports such as basketball, relays etc might prove more advantageous for taller people. \n",
    "4. More developed nations would have higher dominance in majority of sports due to better infrastructure and opportunities provided to their players. \n"
   ]
  },
  {
   "cell_type": "markdown",
   "metadata": {},
   "source": [
    "## Analysis Method - "
   ]
  },
  {
   "cell_type": "code",
   "execution_count": null,
   "metadata": {
    "collapsed": true
   },
   "outputs": [],
   "source": []
  }
 ],
 "metadata": {
  "kernelspec": {
   "display_name": "sparkpy",
   "language": "python",
   "name": "sparkpy"
  },
  "language_info": {
   "codemirror_mode": {
    "name": "ipython",
    "version": 3
   },
   "file_extension": ".py",
   "mimetype": "text/x-python",
   "name": "python",
   "nbconvert_exporter": "python",
   "pygments_lexer": "ipython3",
   "version": "3.7.6"
  }
 },
 "nbformat": 4,
 "nbformat_minor": 2
}
